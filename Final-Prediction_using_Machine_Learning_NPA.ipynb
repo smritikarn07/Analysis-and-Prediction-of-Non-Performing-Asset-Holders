{
 "cells": [
  {
   "cell_type": "markdown",
   "id": "992ab99e",
   "metadata": {
    "id": "992ab99e"
   },
   "source": [
    "# Importing Libraries"
   ]
  },
  {
   "cell_type": "code",
   "execution_count": 2,
   "id": "130536cc",
   "metadata": {
    "id": "130536cc"
   },
   "outputs": [],
   "source": [
    "import pandas as pd\n",
    "import numpy as np\n",
    "import matplotlib.pyplot as plt\n",
    "import seaborn as sns\n",
    "%matplotlib inline"
   ]
  },
  {
   "cell_type": "markdown",
   "id": "377bd89a",
   "metadata": {
    "id": "377bd89a"
   },
   "source": [
    "# Loading Dataset"
   ]
  },
  {
   "cell_type": "code",
   "execution_count": 3,
   "id": "e294c0a7",
   "metadata": {
    "colab": {
     "base_uri": "https://localhost:8080/"
    },
    "id": "e294c0a7",
    "outputId": "46680f0b-b355-4184-9d96-948ebd153d77"
   },
   "outputs": [
    {
     "name": "stderr",
     "output_type": "stream",
     "text": [
      "C:\\Users\\smrit\\AppData\\Local\\Temp\\ipykernel_24556\\4045799696.py:4: DtypeWarning: Columns (38) have mixed types. Specify dtype option on import or set low_memory=False.\n",
      "  train = pd.read_csv('train_50k.csv')\n"
     ]
    }
   ],
   "source": [
    "from pandas import read_csv\n",
    "# train = pd.read_csv('train_indessa.csv')\n",
    "# train = pd.read_csv('train1.csv')\n",
    "train = pd.read_csv('train_50k.csv')\n",
    "\n",
    "\n",
    "loan_df=train.copy()\n",
    "loan_df_0=train.copy()"
   ]
  },
  {
   "cell_type": "code",
   "execution_count": 4,
   "id": "ANCk18cA3A7w",
   "metadata": {
    "id": "ANCk18cA3A7w"
   },
   "outputs": [],
   "source": [
    "# loan_df= loan_df[:10000]"
   ]
  },
  {
   "cell_type": "code",
   "execution_count": 5,
   "id": "JCC7bbB23CwJ",
   "metadata": {
    "colab": {
     "base_uri": "https://localhost:8080/"
    },
    "id": "JCC7bbB23CwJ",
    "outputId": "c816c9b0-be24-4d8b-9a58-c4b9adc0d0eb"
   },
   "outputs": [
    {
     "data": {
      "text/plain": [
       "(49999, 45)"
      ]
     },
     "execution_count": 5,
     "metadata": {},
     "output_type": "execute_result"
    }
   ],
   "source": [
    "loan_df.shape"
   ]
  },
  {
   "cell_type": "code",
   "execution_count": 6,
   "id": "9c41dee5",
   "metadata": {
    "colab": {
     "base_uri": "https://localhost:8080/"
    },
    "id": "9c41dee5",
    "outputId": "17802b6c-bb25-470a-b99e-59c69c8a2b85"
   },
   "outputs": [
    {
     "name": "stdout",
     "output_type": "stream",
     "text": [
      "<class 'pandas.core.frame.DataFrame'>\n",
      "RangeIndex: 49999 entries, 0 to 49998\n",
      "Data columns (total 45 columns):\n",
      " #   Column                       Non-Null Count  Dtype  \n",
      "---  ------                       --------------  -----  \n",
      " 0   member_id                    49999 non-null  int64  \n",
      " 1   loan_amnt                    49999 non-null  int64  \n",
      " 2   funded_amnt                  49999 non-null  int64  \n",
      " 3   funded_amnt_inv              49999 non-null  float64\n",
      " 4   term                         49999 non-null  object \n",
      " 5   batch_enrolled               41991 non-null  object \n",
      " 6   int_rate                     49999 non-null  float64\n",
      " 7   grade                        49999 non-null  object \n",
      " 8   sub_grade                    49999 non-null  object \n",
      " 9   emp_title                    47029 non-null  object \n",
      " 10  emp_length                   47418 non-null  object \n",
      " 11  home_ownership               49999 non-null  object \n",
      " 12  annual_inc                   49999 non-null  float64\n",
      " 13  verification_status          49999 non-null  object \n",
      " 14  pymnt_plan                   49999 non-null  object \n",
      " 15  desc                         7077 non-null   object \n",
      " 16  purpose                      49999 non-null  object \n",
      " 17  title                        49988 non-null  object \n",
      " 18  zip_code                     49999 non-null  object \n",
      " 19  addr_state                   49999 non-null  object \n",
      " 20  dti                          49999 non-null  float64\n",
      " 21  delinq_2yrs                  49999 non-null  int64  \n",
      " 22  inq_last_6mths               49999 non-null  int64  \n",
      " 23  mths_since_last_delinq       24308 non-null  float64\n",
      " 24  mths_since_last_record       7534 non-null   float64\n",
      " 25  open_acc                     49999 non-null  int64  \n",
      " 26  pub_rec                      49999 non-null  int64  \n",
      " 27  revol_bal                    49999 non-null  int64  \n",
      " 28  revol_util                   49980 non-null  float64\n",
      " 29  total_acc                    49999 non-null  int64  \n",
      " 30  initial_list_status          49999 non-null  object \n",
      " 31  total_rec_int                49999 non-null  float64\n",
      " 32  total_rec_late_fee           49999 non-null  float64\n",
      " 33  recoveries                   49999 non-null  float64\n",
      " 34  collection_recovery_fee      49999 non-null  float64\n",
      " 35  collections_12_mths_ex_med   49994 non-null  float64\n",
      " 36  mths_since_last_major_derog  12326 non-null  float64\n",
      " 37  application_type             49999 non-null  object \n",
      " 38  verification_status_joint    20 non-null     object \n",
      " 39  last_week_pay                49999 non-null  object \n",
      " 40  acc_now_delinq               49999 non-null  int64  \n",
      " 41  tot_coll_amt                 45966 non-null  float64\n",
      " 42  tot_cur_bal                  45966 non-null  float64\n",
      " 43  total_rev_hi_lim             45966 non-null  float64\n",
      " 44  loan_status                  49999 non-null  int64  \n",
      "dtypes: float64(16), int64(11), object(18)\n",
      "memory usage: 17.2+ MB\n"
     ]
    }
   ],
   "source": [
    "loan_df.info()"
   ]
  },
  {
   "cell_type": "markdown",
   "id": "NS7Sxz2w2exQ",
   "metadata": {
    "id": "NS7Sxz2w2exQ"
   },
   "source": [
    "# Feature Engineering"
   ]
  },
  {
   "cell_type": "code",
   "execution_count": 7,
   "id": "roB3emNJA80o",
   "metadata": {
    "id": "roB3emNJA80o"
   },
   "outputs": [
    {
     "name": "stdout",
     "output_type": "stream",
     "text": [
      "Requirement already satisfied: category_encoders in c:\\users\\smrit\\anaconda3\\lib\\site-packages (2.5.0)\n",
      "Requirement already satisfied: scikit-learn>=0.20.0 in c:\\users\\smrit\\anaconda3\\lib\\site-packages (from category_encoders) (1.0.2)\n",
      "Requirement already satisfied: numpy>=1.14.0 in c:\\users\\smrit\\anaconda3\\lib\\site-packages (from category_encoders) (1.21.5)\n",
      "Requirement already satisfied: patsy>=0.5.1 in c:\\users\\smrit\\anaconda3\\lib\\site-packages (from category_encoders) (0.5.2)\n",
      "Requirement already satisfied: scipy>=1.0.0 in c:\\users\\smrit\\anaconda3\\lib\\site-packages (from category_encoders) (1.7.3)\n",
      "Requirement already satisfied: pandas>=1.0.5 in c:\\users\\smrit\\anaconda3\\lib\\site-packages (from category_encoders) (1.4.2)\n",
      "Requirement already satisfied: statsmodels>=0.9.0 in c:\\users\\smrit\\anaconda3\\lib\\site-packages (from category_encoders) (0.13.2)\n",
      "Requirement already satisfied: pytz>=2020.1 in c:\\users\\smrit\\anaconda3\\lib\\site-packages (from pandas>=1.0.5->category_encoders) (2021.3)\n",
      "Requirement already satisfied: python-dateutil>=2.8.1 in c:\\users\\smrit\\anaconda3\\lib\\site-packages (from pandas>=1.0.5->category_encoders) (2.8.2)\n",
      "Requirement already satisfied: six in c:\\users\\smrit\\anaconda3\\lib\\site-packages (from patsy>=0.5.1->category_encoders) (1.16.0)\n",
      "Requirement already satisfied: joblib>=0.11 in c:\\users\\smrit\\anaconda3\\lib\\site-packages (from scikit-learn>=0.20.0->category_encoders) (1.1.0)\n",
      "Requirement already satisfied: threadpoolctl>=2.0.0 in c:\\users\\smrit\\anaconda3\\lib\\site-packages (from scikit-learn>=0.20.0->category_encoders) (2.2.0)\n",
      "Requirement already satisfied: packaging>=21.3 in c:\\users\\smrit\\anaconda3\\lib\\site-packages (from statsmodels>=0.9.0->category_encoders) (21.3)\n",
      "Requirement already satisfied: pyparsing!=3.0.5,>=2.0.2 in c:\\users\\smrit\\anaconda3\\lib\\site-packages (from packaging>=21.3->statsmodels>=0.9.0->category_encoders) (3.0.4)\n"
     ]
    }
   ],
   "source": [
    "!pip install category_encoders\n",
    "import category_encoders as ce"
   ]
  },
  {
   "cell_type": "code",
   "execution_count": 8,
   "id": "up92-9bY7hyA",
   "metadata": {
    "id": "up92-9bY7hyA"
   },
   "outputs": [],
   "source": [
    "one_hot_encoded_df = loan_df.copy()\n",
    "\n",
    "encoder=ce.OneHotEncoder(cols= ['term', 'grade', 'home_ownership', 'verification_status', \n",
    "                                   'purpose', 'initial_list_status'], use_cat_names=True) \n",
    "                                  \n",
    "one_hot_encoded_df['last_week_pay'].replace(to_replace=['th week'], value='', regex=True,inplace= True)\n",
    "one_hot_encoded_df['term'] = one_hot_encoded_df['term'].map((lambda x: x.strip(' months'))).astype(str)\n",
    "\n",
    "# Dropping unnecessary features\n",
    "one_hot_encoded_df.drop(['member_id', 'batch_enrolled', 'sub_grade', 'emp_title', 'pymnt_plan', 'desc', \n",
    "                         'title', 'zip_code', 'addr_state', 'application_type', 'verification_status_joint'], axis=1, inplace= True)\n",
    "\n",
    "# Replacing unnecessary categories with 'Others'\n",
    "one_hot_encoded_df['purpose'].replace(['other', 'major_purchase', 'small_business', 'medical','car', \n",
    "                          'moving', 'vacation', 'house', 'wedding', 'renewable_energy', \n",
    "                          'educational'], 'Others', inplace=True)\n",
    "one_hot_encoded_df.replace(['OTHER','NONE','ANY'],'Others',inplace=True)\n",
    "\n",
    "# Replacing Categorical values with numeric values\n",
    "one_hot_encoded_df['emp_length'].replace(to_replace=['< 1 year','1 year','2 years','3 years','4 years','5 years',  \n",
    "                                          '6 years','7 years','8 years','9 years','10+ years'],\n",
    "                                         value = ['1','1','2','3','4','5','6','7','8','9','10'],inplace=True)\n",
    "\n",
    "# Numerical Features: \n",
    "# Imputing N/A values with mean, zero and Median\n",
    "mean_imputation_cols= ['total_rev_hi_lim','int_rate', 'annual_inc', 'dti', 'delinq_2yrs', 'inq_last_6mths', 'open_acc', 'revol_bal',\n",
    "         'revol_util', 'total_acc', 'total_rec_int', 'tot_cur_bal', 'total_rec_late_fee', 'recoveries',\n",
    "         'collection_recovery_fee','collections_12_mths_ex_med','acc_now_delinq', 'funded_amnt_inv']\n",
    "zero_imputation_cols =['delinq_2yrs','inq_last_6mths','collections_12_mths_ex_med','mths_since_last_major_derog','acc_now_delinq']\n",
    "median_imputation_cols =['emp_length','annual_inc','open_acc','pub_rec','revol_util','total_acc','mths_since_last_delinq','mths_since_last_record','tot_coll_amt',\n",
    "'tot_cur_bal','total_rev_hi_lim']\n",
    "\n",
    "## Imputing N/A values with mean\n",
    "one_hot_encoded_df[['total_rev_hi_lim','int_rate', 'annual_inc', 'dti', 'delinq_2yrs', 'inq_last_6mths', 'open_acc', 'revol_bal',\n",
    "         'revol_util', 'total_acc', 'total_rec_int', 'tot_cur_bal', 'total_rec_late_fee', 'recoveries',\n",
    "         'collection_recovery_fee','collections_12_mths_ex_med','acc_now_delinq', 'funded_amnt_inv']]  =   one_hot_encoded_df[['total_rev_hi_lim','int_rate', 'annual_inc', 'dti', 'delinq_2yrs', 'inq_last_6mths', 'open_acc', 'revol_bal',\n",
    "                    'revol_util', 'total_acc', 'total_rec_int', 'tot_cur_bal', 'total_rec_late_fee', 'recoveries',\n",
    "                    'collection_recovery_fee','collections_12_mths_ex_med','acc_now_delinq', 'funded_amnt_inv']].fillna(one_hot_encoded_df[\n",
    "                        ['total_rev_hi_lim','int_rate', \n",
    "                            'annual_inc', 'dti', 'delinq_2yrs',\n",
    "                            'inq_last_6mths', 'open_acc', 'revol_bal',\n",
    "                            'revol_util', 'total_acc', 'total_rec_int', \n",
    "                            'tot_cur_bal', 'total_rec_late_fee', 'recoveries',\n",
    "                            'collection_recovery_fee','collections_12_mths_ex_med',\n",
    "                            'acc_now_delinq', 'funded_amnt_inv']].mean()).astype(float). astype(int)\n",
    "\n",
    "\n",
    "\n",
    "## Imputing N/A values with zero:\n",
    "for col in zero_imputation_cols:\n",
    "    one_hot_encoded_df[col].fillna(0, inplace=True)\n",
    "one_hot_encoded_df['last_week_pay'].replace('NA', value= 0,inplace= True)\n",
    "\n",
    "## Imputing N/A values with median:\n",
    "for col in median_imputation_cols:    \n",
    "    one_hot_encoded_df[col].fillna(one_hot_encoded_df[col].median(), inplace=True)\n",
    "\n",
    "# Replacing Categorical values with numeric values\n",
    "\n",
    "one_hot_encoded_df['last_week_pay']=pd.to_numeric(one_hot_encoded_df.last_week_pay)\n",
    "one_hot_encoded_df['term']=pd.to_numeric(one_hot_encoded_df['term'])\n",
    "one_hot_encoded_df['emp_length']=pd.to_numeric(one_hot_encoded_df.emp_length)\n",
    "\n",
    "x = encoder.fit_transform(one_hot_encoded_df)\n"
   ]
  },
  {
   "cell_type": "code",
   "execution_count": 9,
   "id": "ipMH223VAwFu",
   "metadata": {
    "colab": {
     "base_uri": "https://localhost:8080/"
    },
    "id": "ipMH223VAwFu",
    "outputId": "fe2bf80d-ee86-4d45-98e8-53db68bce316"
   },
   "outputs": [
    {
     "data": {
      "text/plain": [
       "{int32: ['funded_amnt_inv', 'int_rate', 'annual_inc', 'dti', 'delinq_2yrs', 'inq_last_6mths', 'open_acc', 'revol_bal', 'revol_util', 'total_acc', 'total_rec_int', 'total_rec_late_fee', 'recoveries', 'collection_recovery_fee', 'collections_12_mths_ex_med', 'acc_now_delinq', 'tot_cur_bal', 'total_rev_hi_lim'], int64: ['loan_amnt', 'funded_amnt', 'term_36.0', 'term_60.0', 'grade_E', 'grade_B', 'grade_A', 'grade_D', 'grade_C', 'grade_F', 'grade_G', 'home_ownership_OWN', 'home_ownership_MORTGAGE', 'home_ownership_RENT', 'home_ownership_Others', 'verification_status_Source Verified', 'verification_status_Not Verified', 'verification_status_Verified', 'purpose_debt_consolidation', 'purpose_home_improvement', 'purpose_credit_card', 'purpose_Others', 'pub_rec', 'initial_list_status_f', 'initial_list_status_w', 'last_week_pay', 'loan_status'], float64: ['emp_length', 'mths_since_last_delinq', 'mths_since_last_record', 'mths_since_last_major_derog', 'tot_coll_amt']}"
      ]
     },
     "execution_count": 9,
     "metadata": {},
     "output_type": "execute_result"
    }
   ],
   "source": [
    "x.columns.groupby(x.dtypes)"
   ]
  },
  {
   "cell_type": "code",
   "execution_count": 10,
   "id": "yq9c0xHEyAkH",
   "metadata": {
    "id": "yq9c0xHEyAkH"
   },
   "outputs": [],
   "source": [
    "x.dropna(inplace= True)\n",
    "x = x.reset_index(drop = True)\n",
    "# x.isna().sum()"
   ]
  },
  {
   "cell_type": "code",
   "execution_count": 11,
   "id": "NQ794mk8bMlA",
   "metadata": {
    "id": "NQ794mk8bMlA"
   },
   "outputs": [
    {
     "data": {
      "text/html": [
       "<div>\n",
       "<style scoped>\n",
       "    .dataframe tbody tr th:only-of-type {\n",
       "        vertical-align: middle;\n",
       "    }\n",
       "\n",
       "    .dataframe tbody tr th {\n",
       "        vertical-align: top;\n",
       "    }\n",
       "\n",
       "    .dataframe thead th {\n",
       "        text-align: right;\n",
       "    }\n",
       "</style>\n",
       "<table border=\"1\" class=\"dataframe\">\n",
       "  <thead>\n",
       "    <tr style=\"text-align: right;\">\n",
       "      <th></th>\n",
       "      <th>loan_amnt</th>\n",
       "      <th>funded_amnt</th>\n",
       "      <th>funded_amnt_inv</th>\n",
       "      <th>term_36.0</th>\n",
       "      <th>term_60.0</th>\n",
       "      <th>int_rate</th>\n",
       "      <th>grade_E</th>\n",
       "      <th>grade_B</th>\n",
       "      <th>grade_A</th>\n",
       "      <th>grade_D</th>\n",
       "      <th>...</th>\n",
       "      <th>recoveries</th>\n",
       "      <th>collection_recovery_fee</th>\n",
       "      <th>collections_12_mths_ex_med</th>\n",
       "      <th>mths_since_last_major_derog</th>\n",
       "      <th>last_week_pay</th>\n",
       "      <th>acc_now_delinq</th>\n",
       "      <th>tot_coll_amt</th>\n",
       "      <th>tot_cur_bal</th>\n",
       "      <th>total_rev_hi_lim</th>\n",
       "      <th>loan_status</th>\n",
       "    </tr>\n",
       "  </thead>\n",
       "  <tbody>\n",
       "    <tr>\n",
       "      <th>0</th>\n",
       "      <td>14350</td>\n",
       "      <td>14350</td>\n",
       "      <td>14350</td>\n",
       "      <td>1</td>\n",
       "      <td>0</td>\n",
       "      <td>19</td>\n",
       "      <td>1</td>\n",
       "      <td>0</td>\n",
       "      <td>0</td>\n",
       "      <td>0</td>\n",
       "      <td>...</td>\n",
       "      <td>0</td>\n",
       "      <td>0</td>\n",
       "      <td>0</td>\n",
       "      <td>74.0</td>\n",
       "      <td>26</td>\n",
       "      <td>0</td>\n",
       "      <td>0.0</td>\n",
       "      <td>28699</td>\n",
       "      <td>30800</td>\n",
       "      <td>0</td>\n",
       "    </tr>\n",
       "    <tr>\n",
       "      <th>1</th>\n",
       "      <td>4800</td>\n",
       "      <td>4800</td>\n",
       "      <td>4800</td>\n",
       "      <td>1</td>\n",
       "      <td>0</td>\n",
       "      <td>10</td>\n",
       "      <td>0</td>\n",
       "      <td>1</td>\n",
       "      <td>0</td>\n",
       "      <td>0</td>\n",
       "      <td>...</td>\n",
       "      <td>0</td>\n",
       "      <td>0</td>\n",
       "      <td>0</td>\n",
       "      <td>0.0</td>\n",
       "      <td>9</td>\n",
       "      <td>0</td>\n",
       "      <td>0.0</td>\n",
       "      <td>9974</td>\n",
       "      <td>32900</td>\n",
       "      <td>0</td>\n",
       "    </tr>\n",
       "    <tr>\n",
       "      <th>2</th>\n",
       "      <td>10000</td>\n",
       "      <td>10000</td>\n",
       "      <td>10000</td>\n",
       "      <td>1</td>\n",
       "      <td>0</td>\n",
       "      <td>7</td>\n",
       "      <td>0</td>\n",
       "      <td>0</td>\n",
       "      <td>1</td>\n",
       "      <td>0</td>\n",
       "      <td>...</td>\n",
       "      <td>0</td>\n",
       "      <td>0</td>\n",
       "      <td>0</td>\n",
       "      <td>0.0</td>\n",
       "      <td>9</td>\n",
       "      <td>0</td>\n",
       "      <td>65.0</td>\n",
       "      <td>38295</td>\n",
       "      <td>34900</td>\n",
       "      <td>0</td>\n",
       "    </tr>\n",
       "    <tr>\n",
       "      <th>3</th>\n",
       "      <td>15000</td>\n",
       "      <td>15000</td>\n",
       "      <td>15000</td>\n",
       "      <td>1</td>\n",
       "      <td>0</td>\n",
       "      <td>19</td>\n",
       "      <td>0</td>\n",
       "      <td>0</td>\n",
       "      <td>0</td>\n",
       "      <td>1</td>\n",
       "      <td>...</td>\n",
       "      <td>0</td>\n",
       "      <td>0</td>\n",
       "      <td>0</td>\n",
       "      <td>0.0</td>\n",
       "      <td>135</td>\n",
       "      <td>0</td>\n",
       "      <td>0.0</td>\n",
       "      <td>55564</td>\n",
       "      <td>24700</td>\n",
       "      <td>0</td>\n",
       "    </tr>\n",
       "    <tr>\n",
       "      <th>4</th>\n",
       "      <td>16000</td>\n",
       "      <td>16000</td>\n",
       "      <td>16000</td>\n",
       "      <td>1</td>\n",
       "      <td>0</td>\n",
       "      <td>10</td>\n",
       "      <td>0</td>\n",
       "      <td>1</td>\n",
       "      <td>0</td>\n",
       "      <td>0</td>\n",
       "      <td>...</td>\n",
       "      <td>0</td>\n",
       "      <td>0</td>\n",
       "      <td>0</td>\n",
       "      <td>0.0</td>\n",
       "      <td>96</td>\n",
       "      <td>0</td>\n",
       "      <td>0.0</td>\n",
       "      <td>47159</td>\n",
       "      <td>47033</td>\n",
       "      <td>0</td>\n",
       "    </tr>\n",
       "  </tbody>\n",
       "</table>\n",
       "<p>5 rows × 50 columns</p>\n",
       "</div>"
      ],
      "text/plain": [
       "   loan_amnt  funded_amnt  funded_amnt_inv  term_36.0  term_60.0  int_rate  \\\n",
       "0      14350        14350            14350          1          0        19   \n",
       "1       4800         4800             4800          1          0        10   \n",
       "2      10000        10000            10000          1          0         7   \n",
       "3      15000        15000            15000          1          0        19   \n",
       "4      16000        16000            16000          1          0        10   \n",
       "\n",
       "   grade_E  grade_B  grade_A  grade_D  ...  recoveries  \\\n",
       "0        1        0        0        0  ...           0   \n",
       "1        0        1        0        0  ...           0   \n",
       "2        0        0        1        0  ...           0   \n",
       "3        0        0        0        1  ...           0   \n",
       "4        0        1        0        0  ...           0   \n",
       "\n",
       "   collection_recovery_fee  collections_12_mths_ex_med  \\\n",
       "0                        0                           0   \n",
       "1                        0                           0   \n",
       "2                        0                           0   \n",
       "3                        0                           0   \n",
       "4                        0                           0   \n",
       "\n",
       "   mths_since_last_major_derog  last_week_pay  acc_now_delinq  tot_coll_amt  \\\n",
       "0                         74.0             26               0           0.0   \n",
       "1                          0.0              9               0           0.0   \n",
       "2                          0.0              9               0          65.0   \n",
       "3                          0.0            135               0           0.0   \n",
       "4                          0.0             96               0           0.0   \n",
       "\n",
       "   tot_cur_bal  total_rev_hi_lim  loan_status  \n",
       "0        28699             30800            0  \n",
       "1         9974             32900            0  \n",
       "2        38295             34900            0  \n",
       "3        55564             24700            0  \n",
       "4        47159             47033            0  \n",
       "\n",
       "[5 rows x 50 columns]"
      ]
     },
     "execution_count": 11,
     "metadata": {},
     "output_type": "execute_result"
    }
   ],
   "source": [
    "x.head()"
   ]
  },
  {
   "cell_type": "markdown",
   "id": "bfef27d1",
   "metadata": {
    "id": "bfef27d1"
   },
   "source": [
    "# Machine Learning"
   ]
  },
  {
   "cell_type": "code",
   "execution_count": 12,
   "id": "_AjGhom4m9av",
   "metadata": {
    "id": "_AjGhom4m9av"
   },
   "outputs": [],
   "source": [
    "from sklearn.metrics import confusion_matrix, classification_report, accuracy_score\n",
    "from sklearn.model_selection import KFold\n",
    "from sklearn.model_selection import cross_val_score\n",
    "\n",
    "kfold = KFold(n_splits=5, random_state=7, shuffle=True)"
   ]
  },
  {
   "cell_type": "markdown",
   "id": "45a161d1",
   "metadata": {
    "id": "45a161d1"
   },
   "source": [
    "## Splitting Data into Testing and Training set"
   ]
  },
  {
   "cell_type": "code",
   "execution_count": 13,
   "id": "44ceab76",
   "metadata": {
    "colab": {
     "base_uri": "https://localhost:8080/"
    },
    "id": "44ceab76",
    "outputId": "9b4030a1-79e0-4ca1-ef6d-b6502e624171"
   },
   "outputs": [
    {
     "name": "stdout",
     "output_type": "stream",
     "text": [
      "<class 'pandas.core.frame.DataFrame'>\n",
      "RangeIndex: 49999 entries, 0 to 49998\n",
      "Data columns (total 50 columns):\n",
      " #   Column                               Non-Null Count  Dtype  \n",
      "---  ------                               --------------  -----  \n",
      " 0   loan_amnt                            49999 non-null  int64  \n",
      " 1   funded_amnt                          49999 non-null  int64  \n",
      " 2   funded_amnt_inv                      49999 non-null  int32  \n",
      " 3   term_36.0                            49999 non-null  int64  \n",
      " 4   term_60.0                            49999 non-null  int64  \n",
      " 5   int_rate                             49999 non-null  int32  \n",
      " 6   grade_E                              49999 non-null  int64  \n",
      " 7   grade_B                              49999 non-null  int64  \n",
      " 8   grade_A                              49999 non-null  int64  \n",
      " 9   grade_D                              49999 non-null  int64  \n",
      " 10  grade_C                              49999 non-null  int64  \n",
      " 11  grade_F                              49999 non-null  int64  \n",
      " 12  grade_G                              49999 non-null  int64  \n",
      " 13  emp_length                           49999 non-null  float64\n",
      " 14  home_ownership_OWN                   49999 non-null  int64  \n",
      " 15  home_ownership_MORTGAGE              49999 non-null  int64  \n",
      " 16  home_ownership_RENT                  49999 non-null  int64  \n",
      " 17  home_ownership_Others                49999 non-null  int64  \n",
      " 18  annual_inc                           49999 non-null  int32  \n",
      " 19  verification_status_Source Verified  49999 non-null  int64  \n",
      " 20  verification_status_Not Verified     49999 non-null  int64  \n",
      " 21  verification_status_Verified         49999 non-null  int64  \n",
      " 22  purpose_debt_consolidation           49999 non-null  int64  \n",
      " 23  purpose_home_improvement             49999 non-null  int64  \n",
      " 24  purpose_credit_card                  49999 non-null  int64  \n",
      " 25  purpose_Others                       49999 non-null  int64  \n",
      " 26  dti                                  49999 non-null  int32  \n",
      " 27  delinq_2yrs                          49999 non-null  int32  \n",
      " 28  inq_last_6mths                       49999 non-null  int32  \n",
      " 29  mths_since_last_delinq               49999 non-null  float64\n",
      " 30  mths_since_last_record               49999 non-null  float64\n",
      " 31  open_acc                             49999 non-null  int32  \n",
      " 32  pub_rec                              49999 non-null  int64  \n",
      " 33  revol_bal                            49999 non-null  int32  \n",
      " 34  revol_util                           49999 non-null  int32  \n",
      " 35  total_acc                            49999 non-null  int32  \n",
      " 36  initial_list_status_f                49999 non-null  int64  \n",
      " 37  initial_list_status_w                49999 non-null  int64  \n",
      " 38  total_rec_int                        49999 non-null  int32  \n",
      " 39  total_rec_late_fee                   49999 non-null  int32  \n",
      " 40  recoveries                           49999 non-null  int32  \n",
      " 41  collection_recovery_fee              49999 non-null  int32  \n",
      " 42  collections_12_mths_ex_med           49999 non-null  int32  \n",
      " 43  mths_since_last_major_derog          49999 non-null  float64\n",
      " 44  last_week_pay                        49999 non-null  int64  \n",
      " 45  acc_now_delinq                       49999 non-null  int32  \n",
      " 46  tot_coll_amt                         49999 non-null  float64\n",
      " 47  tot_cur_bal                          49999 non-null  int32  \n",
      " 48  total_rev_hi_lim                     49999 non-null  int32  \n",
      " 49  loan_status                          49999 non-null  int64  \n",
      "dtypes: float64(5), int32(18), int64(27)\n",
      "memory usage: 15.6 MB\n"
     ]
    }
   ],
   "source": [
    "final_data=x.copy()\n",
    "final_data.info()"
   ]
  },
  {
   "cell_type": "code",
   "execution_count": 14,
   "id": "EaiknxRMLO6h",
   "metadata": {
    "colab": {
     "base_uri": "https://localhost:8080/"
    },
    "id": "EaiknxRMLO6h",
    "outputId": "c8f7d4d9-f94f-48cf-93d8-e5e66f3f9aa0"
   },
   "outputs": [
    {
     "data": {
      "text/plain": [
       "loan_amnt                              0\n",
       "funded_amnt                            0\n",
       "funded_amnt_inv                        0\n",
       "term_36.0                              0\n",
       "term_60.0                              0\n",
       "int_rate                               0\n",
       "grade_E                                0\n",
       "grade_B                                0\n",
       "grade_A                                0\n",
       "grade_D                                0\n",
       "grade_C                                0\n",
       "grade_F                                0\n",
       "grade_G                                0\n",
       "emp_length                             0\n",
       "home_ownership_OWN                     0\n",
       "home_ownership_MORTGAGE                0\n",
       "home_ownership_RENT                    0\n",
       "home_ownership_Others                  0\n",
       "annual_inc                             0\n",
       "verification_status_Source Verified    0\n",
       "verification_status_Not Verified       0\n",
       "verification_status_Verified           0\n",
       "purpose_debt_consolidation             0\n",
       "purpose_home_improvement               0\n",
       "purpose_credit_card                    0\n",
       "purpose_Others                         0\n",
       "dti                                    0\n",
       "delinq_2yrs                            0\n",
       "inq_last_6mths                         0\n",
       "mths_since_last_delinq                 0\n",
       "mths_since_last_record                 0\n",
       "open_acc                               0\n",
       "pub_rec                                0\n",
       "revol_bal                              0\n",
       "revol_util                             0\n",
       "total_acc                              0\n",
       "initial_list_status_f                  0\n",
       "initial_list_status_w                  0\n",
       "total_rec_int                          0\n",
       "total_rec_late_fee                     0\n",
       "recoveries                             0\n",
       "collection_recovery_fee                0\n",
       "collections_12_mths_ex_med             0\n",
       "mths_since_last_major_derog            0\n",
       "last_week_pay                          0\n",
       "acc_now_delinq                         0\n",
       "tot_coll_amt                           0\n",
       "tot_cur_bal                            0\n",
       "total_rev_hi_lim                       0\n",
       "loan_status                            0\n",
       "dtype: int64"
      ]
     },
     "execution_count": 14,
     "metadata": {},
     "output_type": "execute_result"
    }
   ],
   "source": [
    "final_data.isna().sum()"
   ]
  },
  {
   "cell_type": "code",
   "execution_count": 15,
   "id": "659051e1",
   "metadata": {
    "colab": {
     "base_uri": "https://localhost:8080/",
     "height": 393
    },
    "id": "659051e1",
    "outputId": "fbb9d71e-a331-4d8e-fd99-bd053ccb52a6"
   },
   "outputs": [
    {
     "data": {
      "text/html": [
       "<div>\n",
       "<style scoped>\n",
       "    .dataframe tbody tr th:only-of-type {\n",
       "        vertical-align: middle;\n",
       "    }\n",
       "\n",
       "    .dataframe tbody tr th {\n",
       "        vertical-align: top;\n",
       "    }\n",
       "\n",
       "    .dataframe thead th {\n",
       "        text-align: right;\n",
       "    }\n",
       "</style>\n",
       "<table border=\"1\" class=\"dataframe\">\n",
       "  <thead>\n",
       "    <tr style=\"text-align: right;\">\n",
       "      <th></th>\n",
       "      <th>loan_amnt</th>\n",
       "      <th>funded_amnt</th>\n",
       "      <th>funded_amnt_inv</th>\n",
       "      <th>term_36.0</th>\n",
       "      <th>term_60.0</th>\n",
       "      <th>int_rate</th>\n",
       "      <th>grade_E</th>\n",
       "      <th>grade_B</th>\n",
       "      <th>grade_A</th>\n",
       "      <th>grade_D</th>\n",
       "      <th>...</th>\n",
       "      <th>total_rec_late_fee</th>\n",
       "      <th>recoveries</th>\n",
       "      <th>collection_recovery_fee</th>\n",
       "      <th>collections_12_mths_ex_med</th>\n",
       "      <th>mths_since_last_major_derog</th>\n",
       "      <th>last_week_pay</th>\n",
       "      <th>acc_now_delinq</th>\n",
       "      <th>tot_coll_amt</th>\n",
       "      <th>tot_cur_bal</th>\n",
       "      <th>total_rev_hi_lim</th>\n",
       "    </tr>\n",
       "  </thead>\n",
       "  <tbody>\n",
       "    <tr>\n",
       "      <th>count</th>\n",
       "      <td>49999.000000</td>\n",
       "      <td>49999.000000</td>\n",
       "      <td>49999.000000</td>\n",
       "      <td>49999.000000</td>\n",
       "      <td>49999.000000</td>\n",
       "      <td>49999.000000</td>\n",
       "      <td>49999.000000</td>\n",
       "      <td>49999.000000</td>\n",
       "      <td>49999.000000</td>\n",
       "      <td>49999.000000</td>\n",
       "      <td>...</td>\n",
       "      <td>49999.000000</td>\n",
       "      <td>49999.000000</td>\n",
       "      <td>49999.000000</td>\n",
       "      <td>49999.000000</td>\n",
       "      <td>49999.000000</td>\n",
       "      <td>49999.000000</td>\n",
       "      <td>49999.000000</td>\n",
       "      <td>49999.000000</td>\n",
       "      <td>4.999900e+04</td>\n",
       "      <td>4.999900e+04</td>\n",
       "    </tr>\n",
       "    <tr>\n",
       "      <th>mean</th>\n",
       "      <td>14796.850937</td>\n",
       "      <td>14784.044681</td>\n",
       "      <td>14748.013560</td>\n",
       "      <td>0.699074</td>\n",
       "      <td>0.300926</td>\n",
       "      <td>12.672453</td>\n",
       "      <td>0.079602</td>\n",
       "      <td>0.286106</td>\n",
       "      <td>0.167163</td>\n",
       "      <td>0.155703</td>\n",
       "      <td>...</td>\n",
       "      <td>0.360487</td>\n",
       "      <td>44.184404</td>\n",
       "      <td>4.610932</td>\n",
       "      <td>0.014700</td>\n",
       "      <td>10.838437</td>\n",
       "      <td>57.299466</td>\n",
       "      <td>0.005340</td>\n",
       "      <td>195.822276</td>\n",
       "      <td>1.401636e+05</td>\n",
       "      <td>3.230018e+04</td>\n",
       "    </tr>\n",
       "    <tr>\n",
       "      <th>std</th>\n",
       "      <td>8401.559860</td>\n",
       "      <td>8396.864107</td>\n",
       "      <td>8407.359647</td>\n",
       "      <td>0.458665</td>\n",
       "      <td>0.458665</td>\n",
       "      <td>4.360630</td>\n",
       "      <td>0.270678</td>\n",
       "      <td>0.451944</td>\n",
       "      <td>0.373125</td>\n",
       "      <td>0.362577</td>\n",
       "      <td>...</td>\n",
       "      <td>4.266978</td>\n",
       "      <td>382.416212</td>\n",
       "      <td>60.911450</td>\n",
       "      <td>0.131014</td>\n",
       "      <td>21.907493</td>\n",
       "      <td>44.790728</td>\n",
       "      <td>0.078688</td>\n",
       "      <td>1647.042540</td>\n",
       "      <td>1.466943e+05</td>\n",
       "      <td>3.074710e+04</td>\n",
       "    </tr>\n",
       "    <tr>\n",
       "      <th>min</th>\n",
       "      <td>1000.000000</td>\n",
       "      <td>1000.000000</td>\n",
       "      <td>0.000000</td>\n",
       "      <td>0.000000</td>\n",
       "      <td>0.000000</td>\n",
       "      <td>5.000000</td>\n",
       "      <td>0.000000</td>\n",
       "      <td>0.000000</td>\n",
       "      <td>0.000000</td>\n",
       "      <td>0.000000</td>\n",
       "      <td>...</td>\n",
       "      <td>0.000000</td>\n",
       "      <td>0.000000</td>\n",
       "      <td>0.000000</td>\n",
       "      <td>0.000000</td>\n",
       "      <td>0.000000</td>\n",
       "      <td>0.000000</td>\n",
       "      <td>0.000000</td>\n",
       "      <td>0.000000</td>\n",
       "      <td>0.000000e+00</td>\n",
       "      <td>0.000000e+00</td>\n",
       "    </tr>\n",
       "    <tr>\n",
       "      <th>25%</th>\n",
       "      <td>8000.000000</td>\n",
       "      <td>8000.000000</td>\n",
       "      <td>8000.000000</td>\n",
       "      <td>0.000000</td>\n",
       "      <td>0.000000</td>\n",
       "      <td>9.000000</td>\n",
       "      <td>0.000000</td>\n",
       "      <td>0.000000</td>\n",
       "      <td>0.000000</td>\n",
       "      <td>0.000000</td>\n",
       "      <td>...</td>\n",
       "      <td>0.000000</td>\n",
       "      <td>0.000000</td>\n",
       "      <td>0.000000</td>\n",
       "      <td>0.000000</td>\n",
       "      <td>0.000000</td>\n",
       "      <td>22.000000</td>\n",
       "      <td>0.000000</td>\n",
       "      <td>0.000000</td>\n",
       "      <td>3.275500e+04</td>\n",
       "      <td>1.490000e+04</td>\n",
       "    </tr>\n",
       "    <tr>\n",
       "      <th>50%</th>\n",
       "      <td>13000.000000</td>\n",
       "      <td>13000.000000</td>\n",
       "      <td>13000.000000</td>\n",
       "      <td>1.000000</td>\n",
       "      <td>0.000000</td>\n",
       "      <td>12.000000</td>\n",
       "      <td>0.000000</td>\n",
       "      <td>0.000000</td>\n",
       "      <td>0.000000</td>\n",
       "      <td>0.000000</td>\n",
       "      <td>...</td>\n",
       "      <td>0.000000</td>\n",
       "      <td>0.000000</td>\n",
       "      <td>0.000000</td>\n",
       "      <td>0.000000</td>\n",
       "      <td>0.000000</td>\n",
       "      <td>48.000000</td>\n",
       "      <td>0.000000</td>\n",
       "      <td>0.000000</td>\n",
       "      <td>1.014920e+05</td>\n",
       "      <td>2.610000e+04</td>\n",
       "    </tr>\n",
       "    <tr>\n",
       "      <th>75%</th>\n",
       "      <td>20000.000000</td>\n",
       "      <td>20000.000000</td>\n",
       "      <td>20000.000000</td>\n",
       "      <td>1.000000</td>\n",
       "      <td>1.000000</td>\n",
       "      <td>16.000000</td>\n",
       "      <td>0.000000</td>\n",
       "      <td>1.000000</td>\n",
       "      <td>0.000000</td>\n",
       "      <td>0.000000</td>\n",
       "      <td>...</td>\n",
       "      <td>0.000000</td>\n",
       "      <td>0.000000</td>\n",
       "      <td>0.000000</td>\n",
       "      <td>0.000000</td>\n",
       "      <td>0.000000</td>\n",
       "      <td>83.000000</td>\n",
       "      <td>0.000000</td>\n",
       "      <td>0.000000</td>\n",
       "      <td>1.967825e+05</td>\n",
       "      <td>3.820000e+04</td>\n",
       "    </tr>\n",
       "    <tr>\n",
       "      <th>max</th>\n",
       "      <td>35000.000000</td>\n",
       "      <td>35000.000000</td>\n",
       "      <td>35000.000000</td>\n",
       "      <td>1.000000</td>\n",
       "      <td>1.000000</td>\n",
       "      <td>28.000000</td>\n",
       "      <td>1.000000</td>\n",
       "      <td>1.000000</td>\n",
       "      <td>1.000000</td>\n",
       "      <td>1.000000</td>\n",
       "      <td>...</td>\n",
       "      <td>358.000000</td>\n",
       "      <td>20006.000000</td>\n",
       "      <td>7002.000000</td>\n",
       "      <td>4.000000</td>\n",
       "      <td>150.000000</td>\n",
       "      <td>265.000000</td>\n",
       "      <td>4.000000</td>\n",
       "      <td>91996.000000</td>\n",
       "      <td>2.482331e+06</td>\n",
       "      <td>1.314900e+06</td>\n",
       "    </tr>\n",
       "  </tbody>\n",
       "</table>\n",
       "<p>8 rows × 49 columns</p>\n",
       "</div>"
      ],
      "text/plain": [
       "          loan_amnt   funded_amnt  funded_amnt_inv     term_36.0  \\\n",
       "count  49999.000000  49999.000000     49999.000000  49999.000000   \n",
       "mean   14796.850937  14784.044681     14748.013560      0.699074   \n",
       "std     8401.559860   8396.864107      8407.359647      0.458665   \n",
       "min     1000.000000   1000.000000         0.000000      0.000000   \n",
       "25%     8000.000000   8000.000000      8000.000000      0.000000   \n",
       "50%    13000.000000  13000.000000     13000.000000      1.000000   \n",
       "75%    20000.000000  20000.000000     20000.000000      1.000000   \n",
       "max    35000.000000  35000.000000     35000.000000      1.000000   \n",
       "\n",
       "          term_60.0      int_rate       grade_E       grade_B       grade_A  \\\n",
       "count  49999.000000  49999.000000  49999.000000  49999.000000  49999.000000   \n",
       "mean       0.300926     12.672453      0.079602      0.286106      0.167163   \n",
       "std        0.458665      4.360630      0.270678      0.451944      0.373125   \n",
       "min        0.000000      5.000000      0.000000      0.000000      0.000000   \n",
       "25%        0.000000      9.000000      0.000000      0.000000      0.000000   \n",
       "50%        0.000000     12.000000      0.000000      0.000000      0.000000   \n",
       "75%        1.000000     16.000000      0.000000      1.000000      0.000000   \n",
       "max        1.000000     28.000000      1.000000      1.000000      1.000000   \n",
       "\n",
       "            grade_D  ...  total_rec_late_fee    recoveries  \\\n",
       "count  49999.000000  ...        49999.000000  49999.000000   \n",
       "mean       0.155703  ...            0.360487     44.184404   \n",
       "std        0.362577  ...            4.266978    382.416212   \n",
       "min        0.000000  ...            0.000000      0.000000   \n",
       "25%        0.000000  ...            0.000000      0.000000   \n",
       "50%        0.000000  ...            0.000000      0.000000   \n",
       "75%        0.000000  ...            0.000000      0.000000   \n",
       "max        1.000000  ...          358.000000  20006.000000   \n",
       "\n",
       "       collection_recovery_fee  collections_12_mths_ex_med  \\\n",
       "count             49999.000000                49999.000000   \n",
       "mean                  4.610932                    0.014700   \n",
       "std                  60.911450                    0.131014   \n",
       "min                   0.000000                    0.000000   \n",
       "25%                   0.000000                    0.000000   \n",
       "50%                   0.000000                    0.000000   \n",
       "75%                   0.000000                    0.000000   \n",
       "max                7002.000000                    4.000000   \n",
       "\n",
       "       mths_since_last_major_derog  last_week_pay  acc_now_delinq  \\\n",
       "count                 49999.000000   49999.000000    49999.000000   \n",
       "mean                     10.838437      57.299466        0.005340   \n",
       "std                      21.907493      44.790728        0.078688   \n",
       "min                       0.000000       0.000000        0.000000   \n",
       "25%                       0.000000      22.000000        0.000000   \n",
       "50%                       0.000000      48.000000        0.000000   \n",
       "75%                       0.000000      83.000000        0.000000   \n",
       "max                     150.000000     265.000000        4.000000   \n",
       "\n",
       "       tot_coll_amt   tot_cur_bal  total_rev_hi_lim  \n",
       "count  49999.000000  4.999900e+04      4.999900e+04  \n",
       "mean     195.822276  1.401636e+05      3.230018e+04  \n",
       "std     1647.042540  1.466943e+05      3.074710e+04  \n",
       "min        0.000000  0.000000e+00      0.000000e+00  \n",
       "25%        0.000000  3.275500e+04      1.490000e+04  \n",
       "50%        0.000000  1.014920e+05      2.610000e+04  \n",
       "75%        0.000000  1.967825e+05      3.820000e+04  \n",
       "max    91996.000000  2.482331e+06      1.314900e+06  \n",
       "\n",
       "[8 rows x 49 columns]"
      ]
     },
     "execution_count": 15,
     "metadata": {},
     "output_type": "execute_result"
    }
   ],
   "source": [
    "X=final_data.drop('loan_status',axis=1)\n",
    "X.describe()"
   ]
  },
  {
   "cell_type": "code",
   "execution_count": 16,
   "id": "a71e0936",
   "metadata": {
    "id": "a71e0936"
   },
   "outputs": [],
   "source": [
    "y = final_data['loan_status']\n",
    "X=final_data.drop('loan_status',axis=1)\n",
    "y = final_data['loan_status']\n",
    "\n",
    "from sklearn.model_selection import train_test_split\n",
    "X_train,X_test,y_train,y_test=train_test_split(X,y,test_size=0.30,random_state=101)"
   ]
  },
  {
   "cell_type": "code",
   "execution_count": 17,
   "id": "2Rg_--QozEij",
   "metadata": {
    "colab": {
     "base_uri": "https://localhost:8080/"
    },
    "id": "2Rg_--QozEij",
    "outputId": "040ff48c-743b-48f7-8fa5-56ea55fdb450"
   },
   "outputs": [
    {
     "data": {
      "text/plain": [
       "loan_amnt                              0\n",
       "funded_amnt                            0\n",
       "funded_amnt_inv                        0\n",
       "term_36.0                              0\n",
       "term_60.0                              0\n",
       "int_rate                               0\n",
       "grade_E                                0\n",
       "grade_B                                0\n",
       "grade_A                                0\n",
       "grade_D                                0\n",
       "grade_C                                0\n",
       "grade_F                                0\n",
       "grade_G                                0\n",
       "emp_length                             0\n",
       "home_ownership_OWN                     0\n",
       "home_ownership_MORTGAGE                0\n",
       "home_ownership_RENT                    0\n",
       "home_ownership_Others                  0\n",
       "annual_inc                             0\n",
       "verification_status_Source Verified    0\n",
       "verification_status_Not Verified       0\n",
       "verification_status_Verified           0\n",
       "purpose_debt_consolidation             0\n",
       "purpose_home_improvement               0\n",
       "purpose_credit_card                    0\n",
       "purpose_Others                         0\n",
       "dti                                    0\n",
       "delinq_2yrs                            0\n",
       "inq_last_6mths                         0\n",
       "mths_since_last_delinq                 0\n",
       "mths_since_last_record                 0\n",
       "open_acc                               0\n",
       "pub_rec                                0\n",
       "revol_bal                              0\n",
       "revol_util                             0\n",
       "total_acc                              0\n",
       "initial_list_status_f                  0\n",
       "initial_list_status_w                  0\n",
       "total_rec_int                          0\n",
       "total_rec_late_fee                     0\n",
       "recoveries                             0\n",
       "collection_recovery_fee                0\n",
       "collections_12_mths_ex_med             0\n",
       "mths_since_last_major_derog            0\n",
       "last_week_pay                          0\n",
       "acc_now_delinq                         0\n",
       "tot_coll_amt                           0\n",
       "tot_cur_bal                            0\n",
       "total_rev_hi_lim                       0\n",
       "dtype: int64"
      ]
     },
     "execution_count": 17,
     "metadata": {},
     "output_type": "execute_result"
    }
   ],
   "source": [
    "X_train.isnull().sum()\n"
   ]
  },
  {
   "cell_type": "code",
   "execution_count": null,
   "id": "FDrvb_PAzET-",
   "metadata": {
    "id": "FDrvb_PAzET-"
   },
   "outputs": [],
   "source": []
  },
  {
   "cell_type": "markdown",
   "id": "ded66dae",
   "metadata": {
    "id": "ded66dae"
   },
   "source": [
    "## Logistic Regression Model"
   ]
  },
  {
   "cell_type": "code",
   "execution_count": 18,
   "id": "b42a6642",
   "metadata": {
    "colab": {
     "base_uri": "https://localhost:8080/"
    },
    "id": "b42a6642",
    "outputId": "ee127fd5-ad4e-42c9-8957-71f843618082"
   },
   "outputs": [
    {
     "data": {
      "text/plain": [
       "LogisticRegression(max_iter=3000)"
      ]
     },
     "execution_count": 18,
     "metadata": {},
     "output_type": "execute_result"
    }
   ],
   "source": [
    "from sklearn.linear_model import LogisticRegression\n",
    "\n",
    "log_reg= LogisticRegression(max_iter=3000)\n",
    "log_reg.fit(X_train, y_train)"
   ]
  },
  {
   "cell_type": "markdown",
   "id": "Cf6cx9wrn68t",
   "metadata": {
    "id": "Cf6cx9wrn68t"
   },
   "source": [
    "### Evaluating Logistic Regression"
   ]
  },
  {
   "cell_type": "code",
   "execution_count": 19,
   "id": "7YQ6IsVBn6mC",
   "metadata": {
    "colab": {
     "base_uri": "https://localhost:8080/"
    },
    "id": "7YQ6IsVBn6mC",
    "outputId": "bc797124-03c5-470b-c042-af4babbe5d8e"
   },
   "outputs": [
    {
     "name": "stdout",
     "output_type": "stream",
     "text": [
      "Classification Report:\n",
      "               precision    recall  f1-score   support\n",
      "\n",
      "           0       0.80      0.97      0.87     11474\n",
      "           1       0.66      0.21      0.31      3526\n",
      "\n",
      "    accuracy                           0.79     15000\n",
      "   macro avg       0.73      0.59      0.59     15000\n",
      "weighted avg       0.77      0.79      0.74     15000\n",
      "\n",
      "\n",
      "\n",
      "\n",
      " Confusion matrix \n",
      " [[11100   374]\n",
      " [ 2798   728]]\n",
      "\n",
      " Score of Random Forest training Model: 0.7838223949255693\n",
      "\n",
      " Score of Random Forest testing Model: 0.7885333333333333\n",
      "\n",
      " Accuracy: 78.853%\n"
     ]
    }
   ],
   "source": [
    "y_pred_logreg= log_reg.predict(X_test)\n",
    "print('Classification Report:\\n', classification_report(y_test,y_pred_logreg))\n",
    "print('\\n')\n",
    "print(\"\\n Confusion matrix \\n\", confusion_matrix(y_test,y_pred_logreg))\n",
    "print(\"\\n Score of Logistic Regression training Model:\",  log_reg.score(X_train, y_train))\n",
    "print(\"\\n Score of Logistic Regression testing Model:\",  log_reg.score(X_test, y_test))\n",
    "print(\"\\n Accuracy: %.3f%%\" % ((log_reg.score(X_test, y_test))*100.0))"
   ]
  },
  {
   "cell_type": "markdown",
   "id": "89bd86cb",
   "metadata": {
    "id": "89bd86cb"
   },
   "source": [
    "## Decision Tree Classifier"
   ]
  },
  {
   "cell_type": "code",
   "execution_count": 20,
   "id": "384d6ae7",
   "metadata": {
    "colab": {
     "base_uri": "https://localhost:8080/"
    },
    "id": "384d6ae7",
    "outputId": "84a6c080-1f78-4805-cb47-3f66d50f0f9c"
   },
   "outputs": [
    {
     "data": {
      "text/plain": [
       "DecisionTreeClassifier()"
      ]
     },
     "execution_count": 20,
     "metadata": {},
     "output_type": "execute_result"
    }
   ],
   "source": [
    "from sklearn.tree import DecisionTreeClassifier\n",
    "dtree=DecisionTreeClassifier()\n",
    "dtree.fit(X_train,y_train)"
   ]
  },
  {
   "cell_type": "markdown",
   "id": "ad7ef7d8",
   "metadata": {
    "id": "ad7ef7d8"
   },
   "source": [
    "### Evaluating Decision Tree"
   ]
  },
  {
   "cell_type": "code",
   "execution_count": 21,
   "id": "5dde7b8c",
   "metadata": {
    "colab": {
     "base_uri": "https://localhost:8080/"
    },
    "id": "5dde7b8c",
    "outputId": "f6e04d39-927a-4700-f727-fa37038a3b93"
   },
   "outputs": [
    {
     "name": "stdout",
     "output_type": "stream",
     "text": [
      "Classification Report:\n",
      "               precision    recall  f1-score   support\n",
      "\n",
      "           0       0.85      0.82      0.83     11474\n",
      "           1       0.47      0.52      0.49      3526\n",
      "\n",
      "    accuracy                           0.75     15000\n",
      "   macro avg       0.66      0.67      0.66     15000\n",
      "weighted avg       0.76      0.75      0.75     15000\n",
      "\n",
      "\n",
      "\n",
      "\n",
      " Confusion matrix \n",
      " [[9418 2056]\n",
      " [1707 1819]]\n",
      "\n",
      " Score of Random Forest training Model: 1.0\n",
      "\n",
      " Score of Random Forest testing Model: 0.7491333333333333\n",
      "\n",
      " Accuracy: 74.913%\n"
     ]
    }
   ],
   "source": [
    "y_pred_dtree=dtree.predict(X_test)\n",
    "print('Classification Report:\\n', classification_report(y_test,y_pred_dtree))\n",
    "print('\\n')\n",
    "print(\"\\n Confusion matrix \\n\", confusion_matrix(y_test,y_pred_dtree))\n",
    "print(\"\\n Score of Decision Tree training Model:\",  dtree.score(X_train, y_train))\n",
    "print(\"\\n Score of Decision Tree testing Model:\",  dtree.score(X_test, y_test))\n",
    "print(\"\\n Accuracy: %.3f%%\" % ((dtree.score(X_test, y_test))*100.0))"
   ]
  },
  {
   "cell_type": "markdown",
   "id": "18dd66a1",
   "metadata": {
    "id": "18dd66a1"
   },
   "source": [
    "## Random Forest Classifier"
   ]
  },
  {
   "cell_type": "code",
   "execution_count": 22,
   "id": "3b974bd3",
   "metadata": {
    "colab": {
     "base_uri": "https://localhost:8080/"
    },
    "id": "3b974bd3",
    "outputId": "c3652fdb-e175-46dc-8966-9caf9dd9bcdb"
   },
   "outputs": [
    {
     "data": {
      "text/plain": [
       "RandomForestClassifier(n_estimators=600)"
      ]
     },
     "execution_count": 22,
     "metadata": {},
     "output_type": "execute_result"
    }
   ],
   "source": [
    "from sklearn.ensemble import RandomForestClassifier\n",
    "rfc=RandomForestClassifier(n_estimators=600)\n",
    "rfc.fit(X_train,y_train)"
   ]
  },
  {
   "cell_type": "markdown",
   "id": "805bb97a",
   "metadata": {
    "id": "805bb97a"
   },
   "source": [
    "### Evaluating Random Forest Classifier:"
   ]
  },
  {
   "cell_type": "code",
   "execution_count": 23,
   "id": "2245284c",
   "metadata": {
    "colab": {
     "base_uri": "https://localhost:8080/"
    },
    "id": "2245284c",
    "outputId": "3378fb88-3358-4958-b923-5a8565aeefb1"
   },
   "outputs": [
    {
     "name": "stdout",
     "output_type": "stream",
     "text": [
      "Classification Report:\n",
      "               precision    recall  f1-score   support\n",
      "\n",
      "           0       0.83      0.99      0.90     11474\n",
      "           1       0.92      0.32      0.47      3526\n",
      "\n",
      "    accuracy                           0.83     15000\n",
      "   macro avg       0.87      0.66      0.69     15000\n",
      "weighted avg       0.85      0.83      0.80     15000\n",
      "\n",
      "\n",
      "\n",
      "\n",
      " Confusion matrix \n",
      " [[11381    93]\n",
      " [ 2403  1123]]\n",
      "\n",
      " Score of Random Forest training Model: 1.0\n",
      "\n",
      " Score of Random Forest testing Model: 0.8336\n",
      "\n",
      " Accuracy: 83.360%\n"
     ]
    }
   ],
   "source": [
    "y_pred_rfc=rfc.predict(X_test)\n",
    "from sklearn.metrics import classification_report,confusion_matrix\n",
    "print('Classification Report:\\n', classification_report(y_test,y_pred_rfc))\n",
    "print('\\n')\n",
    "print(\"\\n Confusion matrix \\n\", confusion_matrix(y_test,y_pred_rfc))\n",
    "print(\"\\n Score of Random Forest training Model:\",  rfc.score(X_train, y_train))\n",
    "print(\"\\n Score of Random Forest testing Model:\",  rfc.score(X_test, y_test))\n",
    "print(\"\\n Accuracy: %.3f%%\" % ((rfc.score(X_test, y_test))*100.0))"
   ]
  },
  {
   "cell_type": "markdown",
   "id": "f758a5c7",
   "metadata": {
    "id": "f758a5c7"
   },
   "source": [
    "## K- Nearest Neighbor Classification"
   ]
  },
  {
   "cell_type": "code",
   "execution_count": 24,
   "id": "e1481b6f",
   "metadata": {
    "id": "e1481b6f"
   },
   "outputs": [],
   "source": [
    "from sklearn.preprocessing import StandardScaler\n",
    "from sklearn.neighbors import KNeighborsClassifier\n",
    "scaler = StandardScaler()\n",
    "scaler.fit(X_train)\n",
    "X_train = scaler.transform(X_train)\n",
    "X_test = scaler.transform(X_test)"
   ]
  },
  {
   "cell_type": "markdown",
   "id": "iPZHOmJAygUg",
   "metadata": {
    "id": "iPZHOmJAygUg"
   },
   "source": [
    "### Trying Out different n-Neighbors"
   ]
  },
  {
   "cell_type": "markdown",
   "id": "958e8253",
   "metadata": {
    "id": "958e8253"
   },
   "source": [
    "#### Nearest Neighbor = 1"
   ]
  },
  {
   "cell_type": "code",
   "execution_count": 25,
   "id": "6d607fcc",
   "metadata": {
    "colab": {
     "base_uri": "https://localhost:8080/"
    },
    "id": "6d607fcc",
    "outputId": "37b7c6df-fde2-4097-ba0a-88942639e89b"
   },
   "outputs": [
    {
     "data": {
      "text/plain": [
       "KNeighborsClassifier(n_neighbors=1)"
      ]
     },
     "execution_count": 25,
     "metadata": {},
     "output_type": "execute_result"
    }
   ],
   "source": [
    "knn1 = KNeighborsClassifier(n_neighbors = 1)\n",
    "knn1.fit(X_train, y_train)"
   ]
  },
  {
   "cell_type": "code",
   "execution_count": 26,
   "id": "WT_M-fqexUp_",
   "metadata": {
    "id": "WT_M-fqexUp_"
   },
   "outputs": [],
   "source": [
    "y_pred_knn1=knn1.predict(X_test)"
   ]
  },
  {
   "cell_type": "markdown",
   "id": "ef21be9d",
   "metadata": {
    "id": "ef21be9d"
   },
   "source": [
    "#### Nearest Neighbor = 5"
   ]
  },
  {
   "cell_type": "code",
   "execution_count": 27,
   "id": "1a6e7916",
   "metadata": {
    "id": "1a6e7916"
   },
   "outputs": [],
   "source": [
    "knn5 = KNeighborsClassifier(n_neighbors = 5)\n",
    "knn5.fit(X_train, y_train)\n",
    "y_pred_knn5=knn5.predict(X_test)\n"
   ]
  },
  {
   "cell_type": "markdown",
   "id": "98304f90",
   "metadata": {
    "id": "98304f90"
   },
   "source": [
    "#### Nearest Neighbor = 7"
   ]
  },
  {
   "cell_type": "code",
   "execution_count": 28,
   "id": "a32b1807",
   "metadata": {
    "id": "a32b1807"
   },
   "outputs": [],
   "source": [
    "knn7 = KNeighborsClassifier(n_neighbors = 7)\n",
    "knn7.fit(X_train, y_train)\n",
    "y_pred_knn7=knn7.predict(X_test)\n"
   ]
  },
  {
   "cell_type": "markdown",
   "id": "05e12b6e",
   "metadata": {
    "id": "05e12b6e"
   },
   "source": [
    "#### Nearest Neighbor = 10"
   ]
  },
  {
   "cell_type": "code",
   "execution_count": 29,
   "id": "a607ae4d",
   "metadata": {
    "id": "a607ae4d"
   },
   "outputs": [],
   "source": [
    "knn10 = KNeighborsClassifier(n_neighbors = 10)\n",
    "knn10.fit(X_train, y_train)\n",
    "y_pred_knn10=knn10.predict(X_test)\n"
   ]
  },
  {
   "cell_type": "markdown",
   "id": "ho5Qmt8ytIeA",
   "metadata": {
    "id": "ho5Qmt8ytIeA"
   },
   "source": [
    "### Evaluation Metrics"
   ]
  },
  {
   "cell_type": "code",
   "execution_count": 30,
   "id": "9aeed072",
   "metadata": {
    "colab": {
     "base_uri": "https://localhost:8080/"
    },
    "id": "9aeed072",
    "outputId": "aaa6b6d5-aa94-42cd-ec4a-714085933f88"
   },
   "outputs": [
    {
     "name": "stdout",
     "output_type": "stream",
     "text": [
      "KNN =1\n",
      "Classification Report:\n",
      "               precision    recall  f1-score   support\n",
      "\n",
      "           0       0.81      0.80      0.80     11474\n",
      "           1       0.38      0.40      0.39      3526\n",
      "\n",
      "    accuracy                           0.70     15000\n",
      "   macro avg       0.59      0.60      0.60     15000\n",
      "weighted avg       0.71      0.70      0.71     15000\n",
      "\n",
      "\n",
      "\n",
      "\n",
      " Confusion matrix \n",
      " [[9157 2317]\n",
      " [2130 1396]]\n",
      "\n",
      " Score of Random Forest training Model: 1.0\n",
      "\n",
      " Score of Random Forest testing Model: 0.7035333333333333\n",
      "\n",
      " Accuracy: 70.353%\n"
     ]
    }
   ],
   "source": [
    "print('KNN =1')\n",
    "print('Classification Report:\\n', classification_report(y_test,y_pred_knn1))\n",
    "print('\\n')\n",
    "print(\"\\n Confusion matrix \\n\", confusion_matrix(y_test,y_pred_knn1))\n",
    "print(\"\\n Score of Random Forest training Model:\",  knn1.score(X_train, y_train))\n",
    "print(\"\\n Score of Random Forest testing Model:\",  knn1.score(X_test, y_test))\n",
    "print(\"\\n Accuracy: %.3f%%\" % ((knn1.score(X_test, y_test))*100.0))"
   ]
  },
  {
   "cell_type": "code",
   "execution_count": 31,
   "id": "08fe33ad",
   "metadata": {
    "colab": {
     "base_uri": "https://localhost:8080/"
    },
    "id": "08fe33ad",
    "outputId": "5b16a5aa-a070-4104-bbaa-0b84dfd5440a"
   },
   "outputs": [
    {
     "name": "stdout",
     "output_type": "stream",
     "text": [
      "KNN = 5\n",
      "Classification Report:\n",
      "               precision    recall  f1-score   support\n",
      "\n",
      "           0       0.81      0.90      0.85     11474\n",
      "           1       0.50      0.32      0.39      3526\n",
      "\n",
      "    accuracy                           0.76     15000\n",
      "   macro avg       0.65      0.61      0.62     15000\n",
      "weighted avg       0.74      0.76      0.74     15000\n",
      "\n",
      "\n",
      "\n",
      "\n",
      " Confusion matrix \n",
      " [[10329  1145]\n",
      " [ 2397  1129]]\n",
      "\n",
      " Score of Random Forest training Model: 0.8297951370039144\n",
      "\n",
      " Score of Random Forest testing Model: 0.7638666666666667\n",
      "\n",
      " Accuracy: 76.387%\n"
     ]
    }
   ],
   "source": [
    "print('KNN = 5')\n",
    "print('Classification Report:\\n', classification_report(y_test,y_pred_knn5))\n",
    "print('\\n')\n",
    "print(\"\\n Confusion matrix \\n\", confusion_matrix(y_test,y_pred_knn5))\n",
    "print(\"\\n Score of Random Forest training Model:\",  knn5.score(X_train, y_train))\n",
    "print(\"\\n Score of Random Forest testing Model:\",  knn5.score(X_test, y_test))\n",
    "print(\"\\n Accuracy: %.3f%%\" % ((knn5.score(X_test, y_test))*100.0))"
   ]
  },
  {
   "cell_type": "code",
   "execution_count": 32,
   "id": "BWOZ1zmAtZ6f",
   "metadata": {
    "colab": {
     "base_uri": "https://localhost:8080/"
    },
    "id": "BWOZ1zmAtZ6f",
    "outputId": "4074dd25-d2de-4303-f7a4-8523c21054e2"
   },
   "outputs": [
    {
     "name": "stdout",
     "output_type": "stream",
     "text": [
      "KNN = 7\n",
      "Classification Report:\n",
      "               precision    recall  f1-score   support\n",
      "\n",
      "           0       0.81      0.92      0.86     11474\n",
      "           1       0.54      0.30      0.38      3526\n",
      "\n",
      "    accuracy                           0.77     15000\n",
      "   macro avg       0.67      0.61      0.62     15000\n",
      "weighted avg       0.75      0.77      0.75     15000\n",
      "\n",
      "\n",
      "\n",
      "\n",
      " Confusion matrix \n",
      " [[10566   908]\n",
      " [ 2477  1049]]\n",
      "\n",
      " Score of Random Forest training Model: 0.8192519786279608\n",
      "\n",
      " Score of Random Forest testing Model: 0.7743333333333333\n",
      "\n",
      " Accuracy: 77.433%\n"
     ]
    }
   ],
   "source": [
    "print('KNN = 7')\n",
    "print('Classification Report:\\n', classification_report(y_test,y_pred_knn7))\n",
    "print('\\n')\n",
    "print(\"\\n Confusion matrix \\n\", confusion_matrix(y_test,y_pred_knn7))\n",
    "print(\"\\n Score of Random Forest training Model:\",  knn7.score(X_train, y_train))\n",
    "print(\"\\n Score of Random Forest testing Model:\",  knn7.score(X_test, y_test))\n",
    "print(\"\\n Accuracy: %.3f%%\" % ((knn7.score(X_test, y_test))*100.0))"
   ]
  },
  {
   "cell_type": "code",
   "execution_count": 33,
   "id": "nEThpWmhtZ3K",
   "metadata": {
    "colab": {
     "base_uri": "https://localhost:8080/"
    },
    "id": "nEThpWmhtZ3K",
    "outputId": "91ea0715-96c3-4fa5-8373-3dc4fdfe0528"
   },
   "outputs": [
    {
     "name": "stdout",
     "output_type": "stream",
     "text": [
      "KNN = 10\n",
      "Classification Report:\n",
      "               precision    recall  f1-score   support\n",
      "\n",
      "           0       0.80      0.96      0.87     11474\n",
      "           1       0.62      0.23      0.34      3526\n",
      "\n",
      "    accuracy                           0.79     15000\n",
      "   macro avg       0.71      0.59      0.60     15000\n",
      "weighted avg       0.76      0.79      0.75     15000\n",
      "\n",
      "\n",
      "\n",
      "\n",
      " Confusion matrix \n",
      " [[10971   503]\n",
      " [ 2710   816]]\n",
      "\n",
      " Score of Random Forest training Model: 0.8077087916797623\n",
      "\n",
      " Score of Random Forest testing Model: 0.7858\n",
      "\n",
      " Accuracy: 70.353%\n"
     ]
    }
   ],
   "source": [
    "print('KNN = 10')\n",
    "print('Classification Report:\\n', classification_report(y_test,y_pred_knn10))\n",
    "print('\\n')\n",
    "print(\"\\n Confusion matrix \\n\", confusion_matrix(y_test,y_pred_knn10))\n",
    "print(\"\\n Score of Random Forest training Model:\",  knn10.score(X_train, y_train))\n",
    "print(\"\\n Score of Random Forest testing Model:\",  knn10.score(X_test, y_test))\n",
    "print(\"\\n Accuracy: %.3f%%\" % ((knn1.score(X_test, y_test))*100.0))"
   ]
  },
  {
   "cell_type": "markdown",
   "id": "b909166e",
   "metadata": {
    "id": "b909166e"
   },
   "source": [
    "## Gradient Boosting"
   ]
  },
  {
   "cell_type": "code",
   "execution_count": 34,
   "id": "7b9397de",
   "metadata": {
    "id": "7b9397de"
   },
   "outputs": [],
   "source": [
    "from sklearn.ensemble import GradientBoostingClassifier\n",
    "from sklearn.model_selection import GridSearchCV"
   ]
  },
  {
   "cell_type": "code",
   "execution_count": 35,
   "id": "cf58e31b",
   "metadata": {
    "colab": {
     "base_uri": "https://localhost:8080/"
    },
    "id": "cf58e31b",
    "outputId": "0b402508-fd1c-4729-b2dd-b51b4f8bd302"
   },
   "outputs": [
    {
     "name": "stdout",
     "output_type": "stream",
     "text": [
      "Fitting 5 folds for each of 1 candidates, totalling 5 fits\n",
      "0.7611931769479128\n",
      " Results from Grid Search \n",
      "\n",
      " The best estimator across ALL searched params:\n",
      " GradientBoostingClassifier(learning_rate=0.01, max_features='log2',\n",
      "                           min_samples_leaf=0.1, min_samples_split=0.1,\n",
      "                           n_estimators=10, subsample=0.5)\n",
      "\n",
      " The best score across ALL searched params:\n",
      " 0.7611931786173535\n",
      "\n",
      " The best parameters across ALL searched params:\n",
      " {'criterion': 'friedman_mse', 'learning_rate': 0.01, 'loss': 'deviance', 'max_depth': 3, 'max_features': 'log2', 'min_samples_leaf': 0.1, 'min_samples_split': 0.1, 'n_estimators': 10, 'subsample': 0.5}\n",
      "\n",
      " Accuracy Score:\n",
      " 76.49333333333334\n"
     ]
    }
   ],
   "source": [
    "# 1st method\n",
    "parameters = {\n",
    "    \"loss\":[\"deviance\"],\n",
    "    \"learning_rate\": [0.01],\n",
    "    \"min_samples_split\": [0.1],\n",
    "    \"min_samples_leaf\": [0.1],\n",
    "    \"max_depth\":[3],\n",
    "    \"max_features\":[\"log2\"],\n",
    "    \"criterion\": [\"friedman_mse\"],\n",
    "    \"subsample\":[0.5],\n",
    "    \"n_estimators\":[10]\n",
    "    }\n",
    "gb_clfb_1 = GridSearchCV(GradientBoostingClassifier(), parameters, cv=5, n_jobs=-1,verbose=1)\n",
    "gb_clfb_1.fit(X_train, y_train)\n",
    "print(gb_clfb_1.score(X_train, y_train))\n",
    "\n",
    "print(\" Results from Grid Search \" )\n",
    "print(\"\\n The best estimator across ALL searched params:\\n\",gb_clfb_1.best_estimator_)\n",
    "print(\"\\n The best score across ALL searched params:\\n\",gb_clfb_1.best_score_)\n",
    "print(\"\\n The best parameters across ALL searched params:\\n\",gb_clfb_1.best_params_)\n",
    "print(\"\\n Accuracy Score:\\n\", accuracy_score(gb_clfb_1.predict(X_test), y_test)*100)\n"
   ]
  },
  {
   "cell_type": "code",
   "execution_count": 36,
   "id": "d8466cc9",
   "metadata": {
    "colab": {
     "base_uri": "https://localhost:8080/"
    },
    "id": "d8466cc9",
    "outputId": "b8b959ec-e53b-4b1d-d073-7855695e2f52"
   },
   "outputs": [
    {
     "name": "stdout",
     "output_type": "stream",
     "text": [
      "Fitting 5 folds for each of 216 candidates, totalling 1080 fits\n",
      "0.8178519386268179\n",
      " Results from Grid Search \n",
      "\n",
      " The best estimator across ALL searched params:\n",
      " GradientBoostingClassifier(learning_rate=0.2, max_depth=5, max_features='sqrt',\n",
      "                           min_samples_leaf=0.1, min_samples_split=0.1,\n",
      "                           n_estimators=300, subsample=0.9)\n",
      "\n",
      " The best score across ALL searched params:\n",
      " 0.8114516726879349\n",
      "\n",
      " The best parameters across ALL searched params:\n",
      " {'learning_rate': 0.2, 'max_depth': 5, 'max_features': 'sqrt', 'min_samples_leaf': 0.1, 'min_samples_split': 0.1, 'n_estimators': 300, 'subsample': 0.9}\n",
      "\n",
      " Accuracy Score:\n",
      " 81.58\n"
     ]
    }
   ],
   "source": [
    "# 2nd method\n",
    "parameters = {\n",
    "    \"learning_rate\": [0.01, 0.1, 0.2],\n",
    "    \"min_samples_split\": [0.1],\n",
    "    \"min_samples_leaf\": [0.1],\n",
    "    \"max_depth\":[5, 10, 15, 20],\n",
    "    \"max_features\":[\"log2\",\"sqrt\"],\n",
    "    \"subsample\":[0.7, 0.8, 0.9],\n",
    "    \"n_estimators\":[100,200,300]\n",
    "    }\n",
    "\n",
    "# should be right \n",
    "\n",
    "gb_clfb = GridSearchCV(GradientBoostingClassifier(), parameters, cv=5, n_jobs=-1,verbose=4)\n",
    "gb_clfb.fit(X_train, y_train)\n",
    "print(gb_clfb.score(X_train, y_train))\n",
    "print(\" Results from Grid Search \" )\n",
    "print(\"\\n The best estimator across ALL searched params:\\n\",gb_clfb.best_estimator_)\n",
    "print(\"\\n The best score across ALL searched params:\\n\",gb_clfb.best_score_)\n",
    "print(\"\\n The best parameters across ALL searched params:\\n\",gb_clfb.best_params_)\n",
    "print(\"\\n Accuracy Score:\\n\", accuracy_score(gb_clfb.predict(X_test), y_test)*100)"
   ]
  },
  {
   "cell_type": "code",
   "execution_count": 37,
   "id": "WUL9y2HsXDTP",
   "metadata": {
    "id": "WUL9y2HsXDTP"
   },
   "outputs": [],
   "source": [
    "# Predictions:\n",
    "y_pred_gb=gb_clfb.predict(X_test)"
   ]
  },
  {
   "cell_type": "code",
   "execution_count": 38,
   "id": "fIOzHeXmlkbU",
   "metadata": {
    "id": "fIOzHeXmlkbU"
   },
   "outputs": [],
   "source": [
    "import pickle\n",
    "model = gb_clfb.best_estimator_\n",
    "\n",
    "with open('Gradient Boost tuned.pkl', 'wb') as file:\n",
    "    # A new file will be created\n",
    "    pickle.dump(model, file)\n",
    "\n"
   ]
  },
  {
   "cell_type": "markdown",
   "id": "037cf72e",
   "metadata": {
    "id": "037cf72e"
   },
   "source": [
    "### Evaluating Gradient Boosting Classifier:"
   ]
  },
  {
   "cell_type": "code",
   "execution_count": 39,
   "id": "469e78cd",
   "metadata": {
    "colab": {
     "base_uri": "https://localhost:8080/",
     "height": 175
    },
    "id": "469e78cd",
    "outputId": "d9570efe-81d8-44cb-c84b-6a67905e91a9"
   },
   "outputs": [
    {
     "data": {
      "text/html": [
       "<div>\n",
       "<style scoped>\n",
       "    .dataframe tbody tr th:only-of-type {\n",
       "        vertical-align: middle;\n",
       "    }\n",
       "\n",
       "    .dataframe tbody tr th {\n",
       "        vertical-align: top;\n",
       "    }\n",
       "\n",
       "    .dataframe thead th {\n",
       "        text-align: right;\n",
       "    }\n",
       "</style>\n",
       "<table border=\"1\" class=\"dataframe\">\n",
       "  <thead>\n",
       "    <tr style=\"text-align: right;\">\n",
       "      <th>Predicted</th>\n",
       "      <th>0</th>\n",
       "      <th>1</th>\n",
       "      <th>All</th>\n",
       "    </tr>\n",
       "    <tr>\n",
       "      <th>Actual</th>\n",
       "      <th></th>\n",
       "      <th></th>\n",
       "      <th></th>\n",
       "    </tr>\n",
       "  </thead>\n",
       "  <tbody>\n",
       "    <tr>\n",
       "      <th>0</th>\n",
       "      <td>11061</td>\n",
       "      <td>413</td>\n",
       "      <td>11474</td>\n",
       "    </tr>\n",
       "    <tr>\n",
       "      <th>1</th>\n",
       "      <td>2350</td>\n",
       "      <td>1176</td>\n",
       "      <td>3526</td>\n",
       "    </tr>\n",
       "    <tr>\n",
       "      <th>All</th>\n",
       "      <td>13411</td>\n",
       "      <td>1589</td>\n",
       "      <td>15000</td>\n",
       "    </tr>\n",
       "  </tbody>\n",
       "</table>\n",
       "</div>"
      ],
      "text/plain": [
       "Predicted      0     1    All\n",
       "Actual                       \n",
       "0          11061   413  11474\n",
       "1           2350  1176   3526\n",
       "All        13411  1589  15000"
      ]
     },
     "execution_count": 39,
     "metadata": {},
     "output_type": "execute_result"
    }
   ],
   "source": [
    "# For visualisation:\n",
    "pd.crosstab(y_test, y_pred_gb, rownames=['Actual'], colnames=['Predicted'], margins=True)"
   ]
  },
  {
   "cell_type": "code",
   "execution_count": 40,
   "id": "ij7FhQdsuctn",
   "metadata": {
    "colab": {
     "base_uri": "https://localhost:8080/"
    },
    "id": "ij7FhQdsuctn",
    "outputId": "91a8d826-fd89-450b-e944-df0d6f6620a7",
    "scrolled": false
   },
   "outputs": [
    {
     "name": "stdout",
     "output_type": "stream",
     "text": [
      "Classification Report:\n",
      "               precision    recall  f1-score   support\n",
      "\n",
      "           0       0.82      0.96      0.89     11474\n",
      "           1       0.74      0.33      0.46      3526\n",
      "\n",
      "    accuracy                           0.82     15000\n",
      "   macro avg       0.78      0.65      0.67     15000\n",
      "weighted avg       0.80      0.82      0.79     15000\n",
      "\n",
      "\n",
      "\n",
      "\n",
      " Confusion matrix \n",
      " [[11061   413]\n",
      " [ 2350  1176]]\n",
      "\n",
      " Score of Random Forest training Model: 0.8178519386268179\n",
      "\n",
      " Score of Random Forest testing Model: 0.8158\n",
      "\n",
      " Accuracy: 81.580%\n"
     ]
    }
   ],
   "source": [
    "print('Classification Report:\\n', classification_report(y_test,y_pred_gb))\n",
    "print('\\n')\n",
    "print(\"\\n Confusion matrix \\n\", confusion_matrix(y_test,y_pred_gb))\n",
    "print(\"\\n Score of Random Forest training Model:\",  gb_clfb.score(X_train, y_train))\n",
    "print(\"\\n Score of Random Forest testing Model:\",  gb_clfb.score(X_test, y_test))\n",
    "print(\"\\n Accuracy: %.3f%%\" % ((gb_clfb.score(X_test, y_test))*100.0))"
   ]
  },
  {
   "cell_type": "markdown",
   "id": "v5Z1cvdnhAKJ",
   "metadata": {
    "id": "v5Z1cvdnhAKJ"
   },
   "source": [
    "# Comparing Models\n",
    "\n"
   ]
  },
  {
   "cell_type": "code",
   "execution_count": 41,
   "id": "qXP-Y8cBx1MS",
   "metadata": {
    "colab": {
     "base_uri": "https://localhost:8080/"
    },
    "id": "qXP-Y8cBx1MS",
    "outputId": "ff1553a8-95b3-488f-f812-12324ea7a641"
   },
   "outputs": [
    {
     "name": "stdout",
     "output_type": "stream",
     "text": [
      "Fitting 5 folds for each of 216 candidates, totalling 1080 fits\n",
      "Fitting 5 folds for each of 216 candidates, totalling 1080 fits\n",
      "Fitting 5 folds for each of 216 candidates, totalling 1080 fits\n",
      "Fitting 5 folds for each of 216 candidates, totalling 1080 fits\n",
      "Fitting 5 folds for each of 216 candidates, totalling 1080 fits\n"
     ]
    }
   ],
   "source": [
    "# Import required libraries for performance metrics\n",
    "from sklearn.metrics import make_scorer\n",
    "from sklearn.metrics import accuracy_score\n",
    "from sklearn.metrics import precision_score\n",
    "from sklearn.metrics import recall_score\n",
    "from sklearn.metrics import f1_score\n",
    "from sklearn.model_selection import cross_validate\n",
    "\n",
    "# dictionary with performance metrics\n",
    "scoring = {'accuracy':make_scorer(accuracy_score), \n",
    "           'precision':make_scorer(precision_score),\n",
    "           'recall':make_scorer(recall_score), \n",
    "           'f1_score':make_scorer(f1_score)}\n",
    "\n",
    "\n",
    "# Models evaluation function\n",
    "def models_evaluation(X, y, folds):\n",
    "    \n",
    "    # Performing cross-validation to each classifier\n",
    "    log_cv = cross_validate(log_reg, X, y, cv=folds, scoring=scoring)\n",
    "    dtree_cv = cross_validate(dtree, X, y, cv=folds, scoring=scoring)\n",
    "    rfc_cv = cross_validate(rfc, X, y, cv=folds, scoring=scoring)\n",
    "    knn1_cv = cross_validate(knn1, X, y, cv=folds, scoring=scoring)\n",
    "    knn5_cv = cross_validate(knn5, X, y, cv=folds, scoring=scoring)\n",
    "    knn7_cv = cross_validate(knn7, X, y, cv=folds, scoring=scoring)\n",
    "    knn10_cv = cross_validate(knn10, X, y, cv=folds, scoring=scoring)\n",
    "    gb_cv = cross_validate(gb_clfb, X, y, cv=folds, scoring=scoring)\n",
    "\n",
    "    # Creating a data frame with the model performance metrics:\n",
    "    models_scores_table = pd.DataFrame({'Logistic Regression':[log_cv['test_accuracy'].mean(),\n",
    "                                                               log_cv['test_precision'].mean(),\n",
    "                                                               log_cv['test_recall'].mean(),\n",
    "                                                               log_cv['test_f1_score'].mean()],\n",
    "                                       \n",
    "                                      'Decision Tree':[dtree_cv['test_accuracy'].mean(),\n",
    "                                                                   dtree_cv['test_precision'].mean(),\n",
    "                                                                   dtree_cv['test_recall'].mean(),\n",
    "                                                                   dtree_cv['test_f1_score'].mean()],\n",
    "                                       \n",
    "                                      'Random Forest Classifier':[rfc_cv['test_accuracy'].mean(),\n",
    "                                                       rfc_cv['test_precision'].mean(),\n",
    "                                                       rfc_cv['test_recall'].mean(),\n",
    "                                                       rfc_cv['test_f1_score'].mean()],\n",
    "                                       \n",
    "                                      'K-Nearest Neighbor (1)':[knn1_cv['test_accuracy'].mean(),\n",
    "                                                       knn1_cv['test_precision'].mean(),\n",
    "                                                       knn1_cv['test_recall'].mean(),\n",
    "                                                       knn1_cv['test_f1_score'].mean()],\n",
    "                                        \n",
    "                                      'K-Nearest Neighbor (nearest neighbors= 5)':[knn5_cv['test_accuracy'].mean(),\n",
    "                                                       knn5_cv['test_precision'].mean(),\n",
    "                                                       knn5_cv['test_recall'].mean(),\n",
    "                                                       knn5_cv['test_f1_score'].mean()],\n",
    "                                       \n",
    "                                      'K-Nearest Neighbor (7)':[knn7_cv['test_accuracy'].mean(),\n",
    "                                                       knn7_cv['test_precision'].mean(),\n",
    "                                                       knn7_cv['test_recall'].mean(),\n",
    "                                                       knn7_cv['test_f1_score'].mean()],\n",
    "                                       \n",
    "                                      'K-Nearest Neighbor (10)':[knn10_cv['test_accuracy'].mean(),\n",
    "                                                       knn10_cv['test_precision'].mean(),\n",
    "                                                       knn10_cv['test_recall'].mean(),\n",
    "                                                       knn10_cv['test_f1_score'].mean()],\n",
    "                                       \n",
    "                                       \n",
    "                                      'Gradient Boosting':[gb_cv['test_accuracy'].mean(),\n",
    "                                                              gb_cv['test_precision'].mean(),\n",
    "                                                              gb_cv['test_recall'].mean(),\n",
    "                                                              gb_cv['test_f1_score'].mean()]},\n",
    "                                      \n",
    "                                      index=['Accuracy', 'Precision', 'Recall', 'F1 Score'])\n",
    "    \n",
    "    # Adding 'Best Score' column\n",
    "    models_scores_table['Best Score'] = models_scores_table.idxmax(axis=1)\n",
    "    \n",
    "    # Returning models performance metrics in the form of data frame\n",
    "    return(models_scores_table)\n",
    "  \n",
    "# Calling models_evaluation function with 5 folds\n",
    "results = models_evaluation(X_test, y_test, 5)"
   ]
  },
  {
   "cell_type": "code",
   "execution_count": 42,
   "id": "oo-m5PDR3Kee",
   "metadata": {
    "id": "oo-m5PDR3Kee"
   },
   "outputs": [
    {
     "data": {
      "text/html": [
       "<div>\n",
       "<style scoped>\n",
       "    .dataframe tbody tr th:only-of-type {\n",
       "        vertical-align: middle;\n",
       "    }\n",
       "\n",
       "    .dataframe tbody tr th {\n",
       "        vertical-align: top;\n",
       "    }\n",
       "\n",
       "    .dataframe thead th {\n",
       "        text-align: right;\n",
       "    }\n",
       "</style>\n",
       "<table border=\"1\" class=\"dataframe\">\n",
       "  <thead>\n",
       "    <tr style=\"text-align: right;\">\n",
       "      <th></th>\n",
       "      <th>Accuracy</th>\n",
       "      <th>Precision</th>\n",
       "      <th>Recall</th>\n",
       "      <th>F1 Score</th>\n",
       "    </tr>\n",
       "  </thead>\n",
       "  <tbody>\n",
       "    <tr>\n",
       "      <th>Logistic Regression</th>\n",
       "      <td>0.7956</td>\n",
       "      <td>0.635068</td>\n",
       "      <td>0.308562</td>\n",
       "      <td>0.415213</td>\n",
       "    </tr>\n",
       "    <tr>\n",
       "      <th>Decision Tree</th>\n",
       "      <td>0.736</td>\n",
       "      <td>0.443001</td>\n",
       "      <td>0.478726</td>\n",
       "      <td>0.460136</td>\n",
       "    </tr>\n",
       "    <tr>\n",
       "      <th>Random Forest Classifier</th>\n",
       "      <td>0.831933</td>\n",
       "      <td>0.921202</td>\n",
       "      <td>0.311679</td>\n",
       "      <td>0.46564</td>\n",
       "    </tr>\n",
       "    <tr>\n",
       "      <th>K-Nearest Neighbor (1)</th>\n",
       "      <td>0.705267</td>\n",
       "      <td>0.373983</td>\n",
       "      <td>0.376627</td>\n",
       "      <td>0.375252</td>\n",
       "    </tr>\n",
       "    <tr>\n",
       "      <th>K-Nearest Neighbor (nearest neighbors= 5)</th>\n",
       "      <td>0.7662</td>\n",
       "      <td>0.505126</td>\n",
       "      <td>0.299775</td>\n",
       "      <td>0.376056</td>\n",
       "    </tr>\n",
       "    <tr>\n",
       "      <th>K-Nearest Neighbor (7)</th>\n",
       "      <td>0.776267</td>\n",
       "      <td>0.547125</td>\n",
       "      <td>0.284176</td>\n",
       "      <td>0.373958</td>\n",
       "    </tr>\n",
       "    <tr>\n",
       "      <th>K-Nearest Neighbor (10)</th>\n",
       "      <td>0.7862</td>\n",
       "      <td>0.63625</td>\n",
       "      <td>0.211002</td>\n",
       "      <td>0.316891</td>\n",
       "    </tr>\n",
       "    <tr>\n",
       "      <th>Gradient Boosting</th>\n",
       "      <td>0.8112</td>\n",
       "      <td>0.736407</td>\n",
       "      <td>0.306857</td>\n",
       "      <td>0.433159</td>\n",
       "    </tr>\n",
       "    <tr>\n",
       "      <th>Best Score</th>\n",
       "      <td>Random Forest Classifier</td>\n",
       "      <td>Random Forest Classifier</td>\n",
       "      <td>Decision Tree</td>\n",
       "      <td>Random Forest Classifier</td>\n",
       "    </tr>\n",
       "  </tbody>\n",
       "</table>\n",
       "</div>"
      ],
      "text/plain": [
       "                                                           Accuracy  \\\n",
       "Logistic Regression                                          0.7956   \n",
       "Decision Tree                                                 0.736   \n",
       "Random Forest Classifier                                   0.831933   \n",
       "K-Nearest Neighbor (1)                                     0.705267   \n",
       "K-Nearest Neighbor (nearest neighbors= 5)                    0.7662   \n",
       "K-Nearest Neighbor (7)                                     0.776267   \n",
       "K-Nearest Neighbor (10)                                      0.7862   \n",
       "Gradient Boosting                                            0.8112   \n",
       "Best Score                                 Random Forest Classifier   \n",
       "\n",
       "                                                          Precision  \\\n",
       "Logistic Regression                                        0.635068   \n",
       "Decision Tree                                              0.443001   \n",
       "Random Forest Classifier                                   0.921202   \n",
       "K-Nearest Neighbor (1)                                     0.373983   \n",
       "K-Nearest Neighbor (nearest neighbors= 5)                  0.505126   \n",
       "K-Nearest Neighbor (7)                                     0.547125   \n",
       "K-Nearest Neighbor (10)                                     0.63625   \n",
       "Gradient Boosting                                          0.736407   \n",
       "Best Score                                 Random Forest Classifier   \n",
       "\n",
       "                                                  Recall  \\\n",
       "Logistic Regression                             0.308562   \n",
       "Decision Tree                                   0.478726   \n",
       "Random Forest Classifier                        0.311679   \n",
       "K-Nearest Neighbor (1)                          0.376627   \n",
       "K-Nearest Neighbor (nearest neighbors= 5)       0.299775   \n",
       "K-Nearest Neighbor (7)                          0.284176   \n",
       "K-Nearest Neighbor (10)                         0.211002   \n",
       "Gradient Boosting                               0.306857   \n",
       "Best Score                                 Decision Tree   \n",
       "\n",
       "                                                           F1 Score  \n",
       "Logistic Regression                                        0.415213  \n",
       "Decision Tree                                              0.460136  \n",
       "Random Forest Classifier                                    0.46564  \n",
       "K-Nearest Neighbor (1)                                     0.375252  \n",
       "K-Nearest Neighbor (nearest neighbors= 5)                  0.376056  \n",
       "K-Nearest Neighbor (7)                                     0.373958  \n",
       "K-Nearest Neighbor (10)                                    0.316891  \n",
       "Gradient Boosting                                          0.433159  \n",
       "Best Score                                 Random Forest Classifier  "
      ]
     },
     "execution_count": 42,
     "metadata": {},
     "output_type": "execute_result"
    }
   ],
   "source": [
    "results.T"
   ]
  },
  {
   "cell_type": "code",
   "execution_count": 44,
   "id": "81c4a99c",
   "metadata": {},
   "outputs": [
    {
     "data": {
      "text/html": [
       "<div>\n",
       "<style scoped>\n",
       "    .dataframe tbody tr th:only-of-type {\n",
       "        vertical-align: middle;\n",
       "    }\n",
       "\n",
       "    .dataframe tbody tr th {\n",
       "        vertical-align: top;\n",
       "    }\n",
       "\n",
       "    .dataframe thead th {\n",
       "        text-align: right;\n",
       "    }\n",
       "</style>\n",
       "<table border=\"1\" class=\"dataframe\">\n",
       "  <thead>\n",
       "    <tr style=\"text-align: right;\">\n",
       "      <th></th>\n",
       "      <th>Logistic Regression</th>\n",
       "      <th>Decision Tree</th>\n",
       "      <th>Random Forest Classifier</th>\n",
       "      <th>K-Nearest Neighbor (1)</th>\n",
       "      <th>K-Nearest Neighbor (nearest neighbors= 5)</th>\n",
       "      <th>K-Nearest Neighbor (7)</th>\n",
       "      <th>K-Nearest Neighbor (10)</th>\n",
       "      <th>Gradient Boosting</th>\n",
       "      <th>Best Score</th>\n",
       "    </tr>\n",
       "  </thead>\n",
       "  <tbody>\n",
       "    <tr>\n",
       "      <th>Accuracy</th>\n",
       "      <td>0.795600</td>\n",
       "      <td>0.736000</td>\n",
       "      <td>0.831933</td>\n",
       "      <td>0.705267</td>\n",
       "      <td>0.766200</td>\n",
       "      <td>0.776267</td>\n",
       "      <td>0.786200</td>\n",
       "      <td>0.811200</td>\n",
       "      <td>Random Forest Classifier</td>\n",
       "    </tr>\n",
       "    <tr>\n",
       "      <th>Precision</th>\n",
       "      <td>0.635068</td>\n",
       "      <td>0.443001</td>\n",
       "      <td>0.921202</td>\n",
       "      <td>0.373983</td>\n",
       "      <td>0.505126</td>\n",
       "      <td>0.547125</td>\n",
       "      <td>0.636250</td>\n",
       "      <td>0.736407</td>\n",
       "      <td>Random Forest Classifier</td>\n",
       "    </tr>\n",
       "    <tr>\n",
       "      <th>Recall</th>\n",
       "      <td>0.308562</td>\n",
       "      <td>0.478726</td>\n",
       "      <td>0.311679</td>\n",
       "      <td>0.376627</td>\n",
       "      <td>0.299775</td>\n",
       "      <td>0.284176</td>\n",
       "      <td>0.211002</td>\n",
       "      <td>0.306857</td>\n",
       "      <td>Decision Tree</td>\n",
       "    </tr>\n",
       "    <tr>\n",
       "      <th>F1 Score</th>\n",
       "      <td>0.415213</td>\n",
       "      <td>0.460136</td>\n",
       "      <td>0.465640</td>\n",
       "      <td>0.375252</td>\n",
       "      <td>0.376056</td>\n",
       "      <td>0.373958</td>\n",
       "      <td>0.316891</td>\n",
       "      <td>0.433159</td>\n",
       "      <td>Random Forest Classifier</td>\n",
       "    </tr>\n",
       "  </tbody>\n",
       "</table>\n",
       "</div>"
      ],
      "text/plain": [
       "           Logistic Regression  Decision Tree  Random Forest Classifier  \\\n",
       "Accuracy              0.795600       0.736000                  0.831933   \n",
       "Precision             0.635068       0.443001                  0.921202   \n",
       "Recall                0.308562       0.478726                  0.311679   \n",
       "F1 Score              0.415213       0.460136                  0.465640   \n",
       "\n",
       "           K-Nearest Neighbor (1)  K-Nearest Neighbor (nearest neighbors= 5)  \\\n",
       "Accuracy                 0.705267                                   0.766200   \n",
       "Precision                0.373983                                   0.505126   \n",
       "Recall                   0.376627                                   0.299775   \n",
       "F1 Score                 0.375252                                   0.376056   \n",
       "\n",
       "           K-Nearest Neighbor (7)  K-Nearest Neighbor (10)  Gradient Boosting  \\\n",
       "Accuracy                 0.776267                 0.786200           0.811200   \n",
       "Precision                0.547125                 0.636250           0.736407   \n",
       "Recall                   0.284176                 0.211002           0.306857   \n",
       "F1 Score                 0.373958                 0.316891           0.433159   \n",
       "\n",
       "                         Best Score  \n",
       "Accuracy   Random Forest Classifier  \n",
       "Precision  Random Forest Classifier  \n",
       "Recall                Decision Tree  \n",
       "F1 Score   Random Forest Classifier  "
      ]
     },
     "execution_count": 44,
     "metadata": {},
     "output_type": "execute_result"
    }
   ],
   "source": [
    "results"
   ]
  },
  {
   "cell_type": "code",
   "execution_count": null,
   "id": "92b92056",
   "metadata": {},
   "outputs": [],
   "source": []
  }
 ],
 "metadata": {
  "colab": {
   "collapsed_sections": [
    "992ab99e",
    "377bd89a",
    "NS7Sxz2w2exQ",
    "45a161d1",
    "Cf6cx9wrn68t",
    "NDgHobyphdOE"
   ],
   "name": "Final_Prediction using Machine Learning_NPA",
   "provenance": []
  },
  "kernelspec": {
   "display_name": "Python 3 (ipykernel)",
   "language": "python",
   "name": "python3"
  },
  "language_info": {
   "codemirror_mode": {
    "name": "ipython",
    "version": 3
   },
   "file_extension": ".py",
   "mimetype": "text/x-python",
   "name": "python",
   "nbconvert_exporter": "python",
   "pygments_lexer": "ipython3",
   "version": "3.9.12"
  }
 },
 "nbformat": 4,
 "nbformat_minor": 5
}
