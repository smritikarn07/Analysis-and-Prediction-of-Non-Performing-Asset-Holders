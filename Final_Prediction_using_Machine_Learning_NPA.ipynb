{
  "cells": [
    {
      "cell_type": "markdown",
      "metadata": {
        "id": "992ab99e"
      },
      "source": [
        "# Importing Libraries"
      ],
      "id": "992ab99e"
    },
    {
      "cell_type": "code",
      "execution_count": 1,
      "metadata": {
        "id": "130536cc"
      },
      "outputs": [],
      "source": [
        "import pandas as pd\n",
        "import numpy as np\n",
        "import matplotlib.pyplot as plt\n",
        "import seaborn as sns\n",
        "%matplotlib inline"
      ],
      "id": "130536cc"
    },
    {
      "cell_type": "markdown",
      "metadata": {
        "id": "377bd89a"
      },
      "source": [
        "# Loading Dataset"
      ],
      "id": "377bd89a"
    },
    {
      "cell_type": "code",
      "execution_count": 2,
      "metadata": {
        "id": "e294c0a7",
        "colab": {
          "base_uri": "https://localhost:8080/"
        },
        "outputId": "46680f0b-b355-4184-9d96-948ebd153d77"
      },
      "outputs": [
        {
          "output_type": "stream",
          "name": "stderr",
          "text": [
            "/usr/local/lib/python3.7/dist-packages/IPython/core/interactiveshell.py:3326: DtypeWarning: Columns (38) have mixed types.Specify dtype option on import or set low_memory=False.\n",
            "  exec(code_obj, self.user_global_ns, self.user_ns)\n"
          ]
        }
      ],
      "source": [
        "from pandas import read_csv\n",
        "# train = pd.read_csv('train_indessa.csv')\n",
        "# train = pd.read_csv('train1.csv')\n",
        "train = pd.read_csv('train_50k.csv')\n",
        "\n",
        "\n",
        "loan_df=train.copy()\n",
        "loan_df_0=train.copy()"
      ],
      "id": "e294c0a7"
    },
    {
      "cell_type": "code",
      "execution_count": 3,
      "metadata": {
        "id": "ANCk18cA3A7w"
      },
      "outputs": [],
      "source": [
        "# loan_df= loan_df[:10000]"
      ],
      "id": "ANCk18cA3A7w"
    },
    {
      "cell_type": "code",
      "execution_count": 4,
      "metadata": {
        "colab": {
          "base_uri": "https://localhost:8080/"
        },
        "id": "JCC7bbB23CwJ",
        "outputId": "c816c9b0-be24-4d8b-9a58-c4b9adc0d0eb"
      },
      "outputs": [
        {
          "output_type": "execute_result",
          "data": {
            "text/plain": [
              "(49999, 45)"
            ]
          },
          "metadata": {},
          "execution_count": 4
        }
      ],
      "source": [
        "loan_df.shape"
      ],
      "id": "JCC7bbB23CwJ"
    },
    {
      "cell_type": "code",
      "execution_count": 5,
      "metadata": {
        "colab": {
          "base_uri": "https://localhost:8080/"
        },
        "id": "9c41dee5",
        "outputId": "17802b6c-bb25-470a-b99e-59c69c8a2b85"
      },
      "outputs": [
        {
          "output_type": "stream",
          "name": "stdout",
          "text": [
            "<class 'pandas.core.frame.DataFrame'>\n",
            "RangeIndex: 49999 entries, 0 to 49998\n",
            "Data columns (total 45 columns):\n",
            " #   Column                       Non-Null Count  Dtype  \n",
            "---  ------                       --------------  -----  \n",
            " 0   member_id                    49999 non-null  int64  \n",
            " 1   loan_amnt                    49999 non-null  int64  \n",
            " 2   funded_amnt                  49999 non-null  int64  \n",
            " 3   funded_amnt_inv              49999 non-null  float64\n",
            " 4   term                         49999 non-null  object \n",
            " 5   batch_enrolled               41991 non-null  object \n",
            " 6   int_rate                     49999 non-null  float64\n",
            " 7   grade                        49999 non-null  object \n",
            " 8   sub_grade                    49999 non-null  object \n",
            " 9   emp_title                    47029 non-null  object \n",
            " 10  emp_length                   47418 non-null  object \n",
            " 11  home_ownership               49999 non-null  object \n",
            " 12  annual_inc                   49999 non-null  float64\n",
            " 13  verification_status          49999 non-null  object \n",
            " 14  pymnt_plan                   49999 non-null  object \n",
            " 15  desc                         7077 non-null   object \n",
            " 16  purpose                      49999 non-null  object \n",
            " 17  title                        49988 non-null  object \n",
            " 18  zip_code                     49999 non-null  object \n",
            " 19  addr_state                   49999 non-null  object \n",
            " 20  dti                          49999 non-null  float64\n",
            " 21  delinq_2yrs                  49999 non-null  int64  \n",
            " 22  inq_last_6mths               49999 non-null  int64  \n",
            " 23  mths_since_last_delinq       24308 non-null  float64\n",
            " 24  mths_since_last_record       7534 non-null   float64\n",
            " 25  open_acc                     49999 non-null  int64  \n",
            " 26  pub_rec                      49999 non-null  int64  \n",
            " 27  revol_bal                    49999 non-null  int64  \n",
            " 28  revol_util                   49980 non-null  float64\n",
            " 29  total_acc                    49999 non-null  int64  \n",
            " 30  initial_list_status          49999 non-null  object \n",
            " 31  total_rec_int                49999 non-null  float64\n",
            " 32  total_rec_late_fee           49999 non-null  float64\n",
            " 33  recoveries                   49999 non-null  float64\n",
            " 34  collection_recovery_fee      49999 non-null  float64\n",
            " 35  collections_12_mths_ex_med   49994 non-null  float64\n",
            " 36  mths_since_last_major_derog  12326 non-null  float64\n",
            " 37  application_type             49999 non-null  object \n",
            " 38  verification_status_joint    20 non-null     object \n",
            " 39  last_week_pay                49999 non-null  object \n",
            " 40  acc_now_delinq               49999 non-null  int64  \n",
            " 41  tot_coll_amt                 45966 non-null  float64\n",
            " 42  tot_cur_bal                  45966 non-null  float64\n",
            " 43  total_rev_hi_lim             45966 non-null  float64\n",
            " 44  loan_status                  49999 non-null  int64  \n",
            "dtypes: float64(16), int64(11), object(18)\n",
            "memory usage: 17.2+ MB\n"
          ]
        }
      ],
      "source": [
        "loan_df.info()"
      ],
      "id": "9c41dee5"
    },
    {
      "cell_type": "markdown",
      "metadata": {
        "id": "NS7Sxz2w2exQ"
      },
      "source": [
        "# Feature Engineering"
      ],
      "id": "NS7Sxz2w2exQ"
    },
    {
      "cell_type": "code",
      "execution_count": null,
      "metadata": {
        "id": "roB3emNJA80o"
      },
      "outputs": [],
      "source": [
        "!pip install category_encoders\n",
        "import category_encoders as ce"
      ],
      "id": "roB3emNJA80o"
    },
    {
      "cell_type": "code",
      "execution_count": 7,
      "metadata": {
        "id": "up92-9bY7hyA"
      },
      "outputs": [],
      "source": [
        "one_hot_encoded_df = loan_df.copy()\n",
        "\n",
        "encoder=ce.OneHotEncoder(cols= ['term', 'grade', 'home_ownership', 'verification_status', \n",
        "                                   'purpose', 'initial_list_status'], use_cat_names=True) \n",
        "                                  \n",
        "one_hot_encoded_df['last_week_pay'].replace(to_replace=['th week'], value='', regex=True,inplace= True)\n",
        "one_hot_encoded_df['term'] = one_hot_encoded_df['term'].map((lambda x: x.strip(' months'))).astype(str)\n",
        "\n",
        "# Dropping unnecessary features\n",
        "one_hot_encoded_df.drop(['member_id', 'batch_enrolled', 'sub_grade', 'emp_title', 'pymnt_plan', 'desc', \n",
        "                         'title', 'zip_code', 'addr_state', 'application_type', 'verification_status_joint'], axis=1, inplace= True)\n",
        "\n",
        "# Replacing unnecessary categories with 'Others'\n",
        "one_hot_encoded_df['purpose'].replace(['other', 'major_purchase', 'small_business', 'medical','car', \n",
        "                          'moving', 'vacation', 'house', 'wedding', 'renewable_energy', \n",
        "                          'educational'], 'Others', inplace=True)\n",
        "one_hot_encoded_df.replace(['OTHER','NONE','ANY'],'Others',inplace=True)\n",
        "\n",
        "# Replacing Categorical values with numeric values\n",
        "one_hot_encoded_df['emp_length'].replace(to_replace=['< 1 year','1 year','2 years','3 years','4 years','5 years',  \n",
        "                                          '6 years','7 years','8 years','9 years','10+ years'],\n",
        "                                         value = ['1','1','2','3','4','5','6','7','8','9','10'],inplace=True)\n",
        "\n",
        "# Numerical Features: \n",
        "# Imputing N/A values with mean, zero and Median\n",
        "mean_imputation_cols= ['total_rev_hi_lim','int_rate', 'annual_inc', 'dti', 'delinq_2yrs', 'inq_last_6mths', 'open_acc', 'revol_bal',\n",
        "         'revol_util', 'total_acc', 'total_rec_int', 'tot_cur_bal', 'total_rec_late_fee', 'recoveries',\n",
        "         'collection_recovery_fee','collections_12_mths_ex_med','acc_now_delinq', 'funded_amnt_inv']\n",
        "zero_imputation_cols =['delinq_2yrs','inq_last_6mths','collections_12_mths_ex_med','mths_since_last_major_derog','acc_now_delinq']\n",
        "median_imputation_cols =['emp_length','annual_inc','open_acc','pub_rec','revol_util','total_acc','mths_since_last_delinq','mths_since_last_record','tot_coll_amt',\n",
        "'tot_cur_bal','total_rev_hi_lim']\n",
        "\n",
        "## Imputing N/A values with mean\n",
        "one_hot_encoded_df[['total_rev_hi_lim','int_rate', 'annual_inc', 'dti', 'delinq_2yrs', 'inq_last_6mths', 'open_acc', 'revol_bal',\n",
        "         'revol_util', 'total_acc', 'total_rec_int', 'tot_cur_bal', 'total_rec_late_fee', 'recoveries',\n",
        "         'collection_recovery_fee','collections_12_mths_ex_med','acc_now_delinq', 'funded_amnt_inv']]  =   one_hot_encoded_df[['total_rev_hi_lim','int_rate', 'annual_inc', 'dti', 'delinq_2yrs', 'inq_last_6mths', 'open_acc', 'revol_bal',\n",
        "                    'revol_util', 'total_acc', 'total_rec_int', 'tot_cur_bal', 'total_rec_late_fee', 'recoveries',\n",
        "                    'collection_recovery_fee','collections_12_mths_ex_med','acc_now_delinq', 'funded_amnt_inv']].fillna(one_hot_encoded_df[\n",
        "                        ['total_rev_hi_lim','int_rate', \n",
        "                            'annual_inc', 'dti', 'delinq_2yrs',\n",
        "                            'inq_last_6mths', 'open_acc', 'revol_bal',\n",
        "                            'revol_util', 'total_acc', 'total_rec_int', \n",
        "                            'tot_cur_bal', 'total_rec_late_fee', 'recoveries',\n",
        "                            'collection_recovery_fee','collections_12_mths_ex_med',\n",
        "                            'acc_now_delinq', 'funded_amnt_inv']].mean()).astype(float). astype(int)\n",
        "\n",
        "\n",
        "\n",
        "## Imputing N/A values with zero:\n",
        "for col in zero_imputation_cols:\n",
        "    one_hot_encoded_df[col].fillna(0, inplace=True)\n",
        "one_hot_encoded_df['last_week_pay'].replace('NA', value= 0,inplace= True)\n",
        "\n",
        "## Imputing N/A values with median:\n",
        "for col in median_imputation_cols:    \n",
        "    one_hot_encoded_df[col].fillna(one_hot_encoded_df[col].median(), inplace=True)\n",
        "\n",
        "# Replacing Categorical values with numeric values\n",
        "\n",
        "one_hot_encoded_df['last_week_pay']=pd.to_numeric(one_hot_encoded_df.last_week_pay)\n",
        "one_hot_encoded_df['term']=pd.to_numeric(one_hot_encoded_df['term'])\n",
        "one_hot_encoded_df['emp_length']=pd.to_numeric(one_hot_encoded_df.emp_length)\n",
        "\n",
        "x = encoder.fit_transform(one_hot_encoded_df)\n"
      ],
      "id": "up92-9bY7hyA"
    },
    {
      "cell_type": "code",
      "execution_count": 8,
      "metadata": {
        "colab": {
          "base_uri": "https://localhost:8080/"
        },
        "id": "ipMH223VAwFu",
        "outputId": "fe2bf80d-ee86-4d45-98e8-53db68bce316"
      },
      "outputs": [
        {
          "output_type": "execute_result",
          "data": {
            "text/plain": [
              "{int64: ['loan_amnt', 'funded_amnt', 'funded_amnt_inv', 'term_36.0', 'term_60.0', 'int_rate', 'grade_E', 'grade_B', 'grade_A', 'grade_D', 'grade_C', 'grade_F', 'grade_G', 'home_ownership_OWN', 'home_ownership_MORTGAGE', 'home_ownership_RENT', 'home_ownership_Others', 'annual_inc', 'verification_status_Source Verified', 'verification_status_Not Verified', 'verification_status_Verified', 'purpose_debt_consolidation', 'purpose_home_improvement', 'purpose_credit_card', 'purpose_Others', 'dti', 'delinq_2yrs', 'inq_last_6mths', 'open_acc', 'pub_rec', 'revol_bal', 'revol_util', 'total_acc', 'initial_list_status_f', 'initial_list_status_w', 'total_rec_int', 'total_rec_late_fee', 'recoveries', 'collection_recovery_fee', 'collections_12_mths_ex_med', 'last_week_pay', 'acc_now_delinq', 'tot_cur_bal', 'total_rev_hi_lim', 'loan_status'], float64: ['emp_length', 'mths_since_last_delinq', 'mths_since_last_record', 'mths_since_last_major_derog', 'tot_coll_amt']}"
            ]
          },
          "metadata": {},
          "execution_count": 8
        }
      ],
      "source": [
        "x.columns.groupby(x.dtypes)"
      ],
      "id": "ipMH223VAwFu"
    },
    {
      "cell_type": "code",
      "execution_count": 9,
      "metadata": {
        "id": "yq9c0xHEyAkH"
      },
      "outputs": [],
      "source": [
        "x.dropna(inplace= True)\n",
        "x = x.reset_index(drop = True)\n",
        "# x.isna().sum()"
      ],
      "id": "yq9c0xHEyAkH"
    },
    {
      "cell_type": "code",
      "source": [
        "x.head()"
      ],
      "metadata": {
        "id": "NQ794mk8bMlA"
      },
      "id": "NQ794mk8bMlA",
      "execution_count": null,
      "outputs": []
    },
    {
      "cell_type": "markdown",
      "metadata": {
        "id": "bfef27d1"
      },
      "source": [
        "# Machine Learning"
      ],
      "id": "bfef27d1"
    },
    {
      "cell_type": "code",
      "execution_count": 10,
      "metadata": {
        "id": "_AjGhom4m9av"
      },
      "outputs": [],
      "source": [
        "from sklearn.metrics import confusion_matrix, classification_report, accuracy_score\n",
        "from sklearn.model_selection import KFold\n",
        "from sklearn.model_selection import cross_val_score\n",
        "\n",
        "kfold = KFold(n_splits=5, random_state=7, shuffle=True)"
      ],
      "id": "_AjGhom4m9av"
    },
    {
      "cell_type": "markdown",
      "metadata": {
        "id": "45a161d1"
      },
      "source": [
        "## Splitting Data into Testing and Training set"
      ],
      "id": "45a161d1"
    },
    {
      "cell_type": "code",
      "execution_count": 11,
      "metadata": {
        "colab": {
          "base_uri": "https://localhost:8080/"
        },
        "id": "44ceab76",
        "outputId": "9b4030a1-79e0-4ca1-ef6d-b6502e624171"
      },
      "outputs": [
        {
          "output_type": "stream",
          "name": "stdout",
          "text": [
            "<class 'pandas.core.frame.DataFrame'>\n",
            "RangeIndex: 49999 entries, 0 to 49998\n",
            "Data columns (total 50 columns):\n",
            " #   Column                               Non-Null Count  Dtype  \n",
            "---  ------                               --------------  -----  \n",
            " 0   loan_amnt                            49999 non-null  int64  \n",
            " 1   funded_amnt                          49999 non-null  int64  \n",
            " 2   funded_amnt_inv                      49999 non-null  int64  \n",
            " 3   term_36.0                            49999 non-null  int64  \n",
            " 4   term_60.0                            49999 non-null  int64  \n",
            " 5   int_rate                             49999 non-null  int64  \n",
            " 6   grade_E                              49999 non-null  int64  \n",
            " 7   grade_B                              49999 non-null  int64  \n",
            " 8   grade_A                              49999 non-null  int64  \n",
            " 9   grade_D                              49999 non-null  int64  \n",
            " 10  grade_C                              49999 non-null  int64  \n",
            " 11  grade_F                              49999 non-null  int64  \n",
            " 12  grade_G                              49999 non-null  int64  \n",
            " 13  emp_length                           49999 non-null  float64\n",
            " 14  home_ownership_OWN                   49999 non-null  int64  \n",
            " 15  home_ownership_MORTGAGE              49999 non-null  int64  \n",
            " 16  home_ownership_RENT                  49999 non-null  int64  \n",
            " 17  home_ownership_Others                49999 non-null  int64  \n",
            " 18  annual_inc                           49999 non-null  int64  \n",
            " 19  verification_status_Source Verified  49999 non-null  int64  \n",
            " 20  verification_status_Not Verified     49999 non-null  int64  \n",
            " 21  verification_status_Verified         49999 non-null  int64  \n",
            " 22  purpose_debt_consolidation           49999 non-null  int64  \n",
            " 23  purpose_home_improvement             49999 non-null  int64  \n",
            " 24  purpose_credit_card                  49999 non-null  int64  \n",
            " 25  purpose_Others                       49999 non-null  int64  \n",
            " 26  dti                                  49999 non-null  int64  \n",
            " 27  delinq_2yrs                          49999 non-null  int64  \n",
            " 28  inq_last_6mths                       49999 non-null  int64  \n",
            " 29  mths_since_last_delinq               49999 non-null  float64\n",
            " 30  mths_since_last_record               49999 non-null  float64\n",
            " 31  open_acc                             49999 non-null  int64  \n",
            " 32  pub_rec                              49999 non-null  int64  \n",
            " 33  revol_bal                            49999 non-null  int64  \n",
            " 34  revol_util                           49999 non-null  int64  \n",
            " 35  total_acc                            49999 non-null  int64  \n",
            " 36  initial_list_status_f                49999 non-null  int64  \n",
            " 37  initial_list_status_w                49999 non-null  int64  \n",
            " 38  total_rec_int                        49999 non-null  int64  \n",
            " 39  total_rec_late_fee                   49999 non-null  int64  \n",
            " 40  recoveries                           49999 non-null  int64  \n",
            " 41  collection_recovery_fee              49999 non-null  int64  \n",
            " 42  collections_12_mths_ex_med           49999 non-null  int64  \n",
            " 43  mths_since_last_major_derog          49999 non-null  float64\n",
            " 44  last_week_pay                        49999 non-null  int64  \n",
            " 45  acc_now_delinq                       49999 non-null  int64  \n",
            " 46  tot_coll_amt                         49999 non-null  float64\n",
            " 47  tot_cur_bal                          49999 non-null  int64  \n",
            " 48  total_rev_hi_lim                     49999 non-null  int64  \n",
            " 49  loan_status                          49999 non-null  int64  \n",
            "dtypes: float64(5), int64(45)\n",
            "memory usage: 19.1 MB\n"
          ]
        }
      ],
      "source": [
        "final_data=x.copy()\n",
        "final_data.info()"
      ],
      "id": "44ceab76"
    },
    {
      "cell_type": "code",
      "execution_count": 12,
      "metadata": {
        "colab": {
          "base_uri": "https://localhost:8080/"
        },
        "id": "EaiknxRMLO6h",
        "outputId": "c8f7d4d9-f94f-48cf-93d8-e5e66f3f9aa0"
      },
      "outputs": [
        {
          "output_type": "execute_result",
          "data": {
            "text/plain": [
              "loan_amnt                              0\n",
              "funded_amnt                            0\n",
              "funded_amnt_inv                        0\n",
              "term_36.0                              0\n",
              "term_60.0                              0\n",
              "int_rate                               0\n",
              "grade_E                                0\n",
              "grade_B                                0\n",
              "grade_A                                0\n",
              "grade_D                                0\n",
              "grade_C                                0\n",
              "grade_F                                0\n",
              "grade_G                                0\n",
              "emp_length                             0\n",
              "home_ownership_OWN                     0\n",
              "home_ownership_MORTGAGE                0\n",
              "home_ownership_RENT                    0\n",
              "home_ownership_Others                  0\n",
              "annual_inc                             0\n",
              "verification_status_Source Verified    0\n",
              "verification_status_Not Verified       0\n",
              "verification_status_Verified           0\n",
              "purpose_debt_consolidation             0\n",
              "purpose_home_improvement               0\n",
              "purpose_credit_card                    0\n",
              "purpose_Others                         0\n",
              "dti                                    0\n",
              "delinq_2yrs                            0\n",
              "inq_last_6mths                         0\n",
              "mths_since_last_delinq                 0\n",
              "mths_since_last_record                 0\n",
              "open_acc                               0\n",
              "pub_rec                                0\n",
              "revol_bal                              0\n",
              "revol_util                             0\n",
              "total_acc                              0\n",
              "initial_list_status_f                  0\n",
              "initial_list_status_w                  0\n",
              "total_rec_int                          0\n",
              "total_rec_late_fee                     0\n",
              "recoveries                             0\n",
              "collection_recovery_fee                0\n",
              "collections_12_mths_ex_med             0\n",
              "mths_since_last_major_derog            0\n",
              "last_week_pay                          0\n",
              "acc_now_delinq                         0\n",
              "tot_coll_amt                           0\n",
              "tot_cur_bal                            0\n",
              "total_rev_hi_lim                       0\n",
              "loan_status                            0\n",
              "dtype: int64"
            ]
          },
          "metadata": {},
          "execution_count": 12
        }
      ],
      "source": [
        "final_data.isna().sum()"
      ],
      "id": "EaiknxRMLO6h"
    },
    {
      "cell_type": "code",
      "execution_count": 13,
      "metadata": {
        "colab": {
          "base_uri": "https://localhost:8080/",
          "height": 393
        },
        "id": "659051e1",
        "outputId": "fbb9d71e-a331-4d8e-fd99-bd053ccb52a6"
      },
      "outputs": [
        {
          "output_type": "execute_result",
          "data": {
            "text/plain": [
              "          loan_amnt   funded_amnt  funded_amnt_inv     term_36.0  \\\n",
              "count  49999.000000  49999.000000     49999.000000  49999.000000   \n",
              "mean   14796.850937  14784.044681     14748.013560      0.699074   \n",
              "std     8401.559860   8396.864107      8407.359647      0.458665   \n",
              "min     1000.000000   1000.000000         0.000000      0.000000   \n",
              "25%     8000.000000   8000.000000      8000.000000      0.000000   \n",
              "50%    13000.000000  13000.000000     13000.000000      1.000000   \n",
              "75%    20000.000000  20000.000000     20000.000000      1.000000   \n",
              "max    35000.000000  35000.000000     35000.000000      1.000000   \n",
              "\n",
              "          term_60.0      int_rate       grade_E       grade_B       grade_A  \\\n",
              "count  49999.000000  49999.000000  49999.000000  49999.000000  49999.000000   \n",
              "mean       0.300926     12.672453      0.079602      0.286106      0.167163   \n",
              "std        0.458665      4.360630      0.270678      0.451944      0.373125   \n",
              "min        0.000000      5.000000      0.000000      0.000000      0.000000   \n",
              "25%        0.000000      9.000000      0.000000      0.000000      0.000000   \n",
              "50%        0.000000     12.000000      0.000000      0.000000      0.000000   \n",
              "75%        1.000000     16.000000      0.000000      1.000000      0.000000   \n",
              "max        1.000000     28.000000      1.000000      1.000000      1.000000   \n",
              "\n",
              "            grade_D  ...  total_rec_late_fee    recoveries  \\\n",
              "count  49999.000000  ...        49999.000000  49999.000000   \n",
              "mean       0.155703  ...            0.360487     44.184404   \n",
              "std        0.362577  ...            4.266978    382.416212   \n",
              "min        0.000000  ...            0.000000      0.000000   \n",
              "25%        0.000000  ...            0.000000      0.000000   \n",
              "50%        0.000000  ...            0.000000      0.000000   \n",
              "75%        0.000000  ...            0.000000      0.000000   \n",
              "max        1.000000  ...          358.000000  20006.000000   \n",
              "\n",
              "       collection_recovery_fee  collections_12_mths_ex_med  \\\n",
              "count             49999.000000                49999.000000   \n",
              "mean                  4.610932                    0.014700   \n",
              "std                  60.911450                    0.131014   \n",
              "min                   0.000000                    0.000000   \n",
              "25%                   0.000000                    0.000000   \n",
              "50%                   0.000000                    0.000000   \n",
              "75%                   0.000000                    0.000000   \n",
              "max                7002.000000                    4.000000   \n",
              "\n",
              "       mths_since_last_major_derog  last_week_pay  acc_now_delinq  \\\n",
              "count                 49999.000000   49999.000000    49999.000000   \n",
              "mean                     10.838437      57.299466        0.005340   \n",
              "std                      21.907493      44.790728        0.078688   \n",
              "min                       0.000000       0.000000        0.000000   \n",
              "25%                       0.000000      22.000000        0.000000   \n",
              "50%                       0.000000      48.000000        0.000000   \n",
              "75%                       0.000000      83.000000        0.000000   \n",
              "max                     150.000000     265.000000        4.000000   \n",
              "\n",
              "       tot_coll_amt   tot_cur_bal  total_rev_hi_lim  \n",
              "count  49999.000000  4.999900e+04      4.999900e+04  \n",
              "mean     195.822276  1.401636e+05      3.230018e+04  \n",
              "std     1647.042540  1.466943e+05      3.074710e+04  \n",
              "min        0.000000  0.000000e+00      0.000000e+00  \n",
              "25%        0.000000  3.275500e+04      1.490000e+04  \n",
              "50%        0.000000  1.014920e+05      2.610000e+04  \n",
              "75%        0.000000  1.967825e+05      3.820000e+04  \n",
              "max    91996.000000  2.482331e+06      1.314900e+06  \n",
              "\n",
              "[8 rows x 49 columns]"
            ],
            "text/html": [
              "\n",
              "  <div id=\"df-415f2ef8-61cd-424a-a2d7-bb50a8477cf7\">\n",
              "    <div class=\"colab-df-container\">\n",
              "      <div>\n",
              "<style scoped>\n",
              "    .dataframe tbody tr th:only-of-type {\n",
              "        vertical-align: middle;\n",
              "    }\n",
              "\n",
              "    .dataframe tbody tr th {\n",
              "        vertical-align: top;\n",
              "    }\n",
              "\n",
              "    .dataframe thead th {\n",
              "        text-align: right;\n",
              "    }\n",
              "</style>\n",
              "<table border=\"1\" class=\"dataframe\">\n",
              "  <thead>\n",
              "    <tr style=\"text-align: right;\">\n",
              "      <th></th>\n",
              "      <th>loan_amnt</th>\n",
              "      <th>funded_amnt</th>\n",
              "      <th>funded_amnt_inv</th>\n",
              "      <th>term_36.0</th>\n",
              "      <th>term_60.0</th>\n",
              "      <th>int_rate</th>\n",
              "      <th>grade_E</th>\n",
              "      <th>grade_B</th>\n",
              "      <th>grade_A</th>\n",
              "      <th>grade_D</th>\n",
              "      <th>...</th>\n",
              "      <th>total_rec_late_fee</th>\n",
              "      <th>recoveries</th>\n",
              "      <th>collection_recovery_fee</th>\n",
              "      <th>collections_12_mths_ex_med</th>\n",
              "      <th>mths_since_last_major_derog</th>\n",
              "      <th>last_week_pay</th>\n",
              "      <th>acc_now_delinq</th>\n",
              "      <th>tot_coll_amt</th>\n",
              "      <th>tot_cur_bal</th>\n",
              "      <th>total_rev_hi_lim</th>\n",
              "    </tr>\n",
              "  </thead>\n",
              "  <tbody>\n",
              "    <tr>\n",
              "      <th>count</th>\n",
              "      <td>49999.000000</td>\n",
              "      <td>49999.000000</td>\n",
              "      <td>49999.000000</td>\n",
              "      <td>49999.000000</td>\n",
              "      <td>49999.000000</td>\n",
              "      <td>49999.000000</td>\n",
              "      <td>49999.000000</td>\n",
              "      <td>49999.000000</td>\n",
              "      <td>49999.000000</td>\n",
              "      <td>49999.000000</td>\n",
              "      <td>...</td>\n",
              "      <td>49999.000000</td>\n",
              "      <td>49999.000000</td>\n",
              "      <td>49999.000000</td>\n",
              "      <td>49999.000000</td>\n",
              "      <td>49999.000000</td>\n",
              "      <td>49999.000000</td>\n",
              "      <td>49999.000000</td>\n",
              "      <td>49999.000000</td>\n",
              "      <td>4.999900e+04</td>\n",
              "      <td>4.999900e+04</td>\n",
              "    </tr>\n",
              "    <tr>\n",
              "      <th>mean</th>\n",
              "      <td>14796.850937</td>\n",
              "      <td>14784.044681</td>\n",
              "      <td>14748.013560</td>\n",
              "      <td>0.699074</td>\n",
              "      <td>0.300926</td>\n",
              "      <td>12.672453</td>\n",
              "      <td>0.079602</td>\n",
              "      <td>0.286106</td>\n",
              "      <td>0.167163</td>\n",
              "      <td>0.155703</td>\n",
              "      <td>...</td>\n",
              "      <td>0.360487</td>\n",
              "      <td>44.184404</td>\n",
              "      <td>4.610932</td>\n",
              "      <td>0.014700</td>\n",
              "      <td>10.838437</td>\n",
              "      <td>57.299466</td>\n",
              "      <td>0.005340</td>\n",
              "      <td>195.822276</td>\n",
              "      <td>1.401636e+05</td>\n",
              "      <td>3.230018e+04</td>\n",
              "    </tr>\n",
              "    <tr>\n",
              "      <th>std</th>\n",
              "      <td>8401.559860</td>\n",
              "      <td>8396.864107</td>\n",
              "      <td>8407.359647</td>\n",
              "      <td>0.458665</td>\n",
              "      <td>0.458665</td>\n",
              "      <td>4.360630</td>\n",
              "      <td>0.270678</td>\n",
              "      <td>0.451944</td>\n",
              "      <td>0.373125</td>\n",
              "      <td>0.362577</td>\n",
              "      <td>...</td>\n",
              "      <td>4.266978</td>\n",
              "      <td>382.416212</td>\n",
              "      <td>60.911450</td>\n",
              "      <td>0.131014</td>\n",
              "      <td>21.907493</td>\n",
              "      <td>44.790728</td>\n",
              "      <td>0.078688</td>\n",
              "      <td>1647.042540</td>\n",
              "      <td>1.466943e+05</td>\n",
              "      <td>3.074710e+04</td>\n",
              "    </tr>\n",
              "    <tr>\n",
              "      <th>min</th>\n",
              "      <td>1000.000000</td>\n",
              "      <td>1000.000000</td>\n",
              "      <td>0.000000</td>\n",
              "      <td>0.000000</td>\n",
              "      <td>0.000000</td>\n",
              "      <td>5.000000</td>\n",
              "      <td>0.000000</td>\n",
              "      <td>0.000000</td>\n",
              "      <td>0.000000</td>\n",
              "      <td>0.000000</td>\n",
              "      <td>...</td>\n",
              "      <td>0.000000</td>\n",
              "      <td>0.000000</td>\n",
              "      <td>0.000000</td>\n",
              "      <td>0.000000</td>\n",
              "      <td>0.000000</td>\n",
              "      <td>0.000000</td>\n",
              "      <td>0.000000</td>\n",
              "      <td>0.000000</td>\n",
              "      <td>0.000000e+00</td>\n",
              "      <td>0.000000e+00</td>\n",
              "    </tr>\n",
              "    <tr>\n",
              "      <th>25%</th>\n",
              "      <td>8000.000000</td>\n",
              "      <td>8000.000000</td>\n",
              "      <td>8000.000000</td>\n",
              "      <td>0.000000</td>\n",
              "      <td>0.000000</td>\n",
              "      <td>9.000000</td>\n",
              "      <td>0.000000</td>\n",
              "      <td>0.000000</td>\n",
              "      <td>0.000000</td>\n",
              "      <td>0.000000</td>\n",
              "      <td>...</td>\n",
              "      <td>0.000000</td>\n",
              "      <td>0.000000</td>\n",
              "      <td>0.000000</td>\n",
              "      <td>0.000000</td>\n",
              "      <td>0.000000</td>\n",
              "      <td>22.000000</td>\n",
              "      <td>0.000000</td>\n",
              "      <td>0.000000</td>\n",
              "      <td>3.275500e+04</td>\n",
              "      <td>1.490000e+04</td>\n",
              "    </tr>\n",
              "    <tr>\n",
              "      <th>50%</th>\n",
              "      <td>13000.000000</td>\n",
              "      <td>13000.000000</td>\n",
              "      <td>13000.000000</td>\n",
              "      <td>1.000000</td>\n",
              "      <td>0.000000</td>\n",
              "      <td>12.000000</td>\n",
              "      <td>0.000000</td>\n",
              "      <td>0.000000</td>\n",
              "      <td>0.000000</td>\n",
              "      <td>0.000000</td>\n",
              "      <td>...</td>\n",
              "      <td>0.000000</td>\n",
              "      <td>0.000000</td>\n",
              "      <td>0.000000</td>\n",
              "      <td>0.000000</td>\n",
              "      <td>0.000000</td>\n",
              "      <td>48.000000</td>\n",
              "      <td>0.000000</td>\n",
              "      <td>0.000000</td>\n",
              "      <td>1.014920e+05</td>\n",
              "      <td>2.610000e+04</td>\n",
              "    </tr>\n",
              "    <tr>\n",
              "      <th>75%</th>\n",
              "      <td>20000.000000</td>\n",
              "      <td>20000.000000</td>\n",
              "      <td>20000.000000</td>\n",
              "      <td>1.000000</td>\n",
              "      <td>1.000000</td>\n",
              "      <td>16.000000</td>\n",
              "      <td>0.000000</td>\n",
              "      <td>1.000000</td>\n",
              "      <td>0.000000</td>\n",
              "      <td>0.000000</td>\n",
              "      <td>...</td>\n",
              "      <td>0.000000</td>\n",
              "      <td>0.000000</td>\n",
              "      <td>0.000000</td>\n",
              "      <td>0.000000</td>\n",
              "      <td>0.000000</td>\n",
              "      <td>83.000000</td>\n",
              "      <td>0.000000</td>\n",
              "      <td>0.000000</td>\n",
              "      <td>1.967825e+05</td>\n",
              "      <td>3.820000e+04</td>\n",
              "    </tr>\n",
              "    <tr>\n",
              "      <th>max</th>\n",
              "      <td>35000.000000</td>\n",
              "      <td>35000.000000</td>\n",
              "      <td>35000.000000</td>\n",
              "      <td>1.000000</td>\n",
              "      <td>1.000000</td>\n",
              "      <td>28.000000</td>\n",
              "      <td>1.000000</td>\n",
              "      <td>1.000000</td>\n",
              "      <td>1.000000</td>\n",
              "      <td>1.000000</td>\n",
              "      <td>...</td>\n",
              "      <td>358.000000</td>\n",
              "      <td>20006.000000</td>\n",
              "      <td>7002.000000</td>\n",
              "      <td>4.000000</td>\n",
              "      <td>150.000000</td>\n",
              "      <td>265.000000</td>\n",
              "      <td>4.000000</td>\n",
              "      <td>91996.000000</td>\n",
              "      <td>2.482331e+06</td>\n",
              "      <td>1.314900e+06</td>\n",
              "    </tr>\n",
              "  </tbody>\n",
              "</table>\n",
              "<p>8 rows × 49 columns</p>\n",
              "</div>\n",
              "      <button class=\"colab-df-convert\" onclick=\"convertToInteractive('df-415f2ef8-61cd-424a-a2d7-bb50a8477cf7')\"\n",
              "              title=\"Convert this dataframe to an interactive table.\"\n",
              "              style=\"display:none;\">\n",
              "        \n",
              "  <svg xmlns=\"http://www.w3.org/2000/svg\" height=\"24px\"viewBox=\"0 0 24 24\"\n",
              "       width=\"24px\">\n",
              "    <path d=\"M0 0h24v24H0V0z\" fill=\"none\"/>\n",
              "    <path d=\"M18.56 5.44l.94 2.06.94-2.06 2.06-.94-2.06-.94-.94-2.06-.94 2.06-2.06.94zm-11 1L8.5 8.5l.94-2.06 2.06-.94-2.06-.94L8.5 2.5l-.94 2.06-2.06.94zm10 10l.94 2.06.94-2.06 2.06-.94-2.06-.94-.94-2.06-.94 2.06-2.06.94z\"/><path d=\"M17.41 7.96l-1.37-1.37c-.4-.4-.92-.59-1.43-.59-.52 0-1.04.2-1.43.59L10.3 9.45l-7.72 7.72c-.78.78-.78 2.05 0 2.83L4 21.41c.39.39.9.59 1.41.59.51 0 1.02-.2 1.41-.59l7.78-7.78 2.81-2.81c.8-.78.8-2.07 0-2.86zM5.41 20L4 18.59l7.72-7.72 1.47 1.35L5.41 20z\"/>\n",
              "  </svg>\n",
              "      </button>\n",
              "      \n",
              "  <style>\n",
              "    .colab-df-container {\n",
              "      display:flex;\n",
              "      flex-wrap:wrap;\n",
              "      gap: 12px;\n",
              "    }\n",
              "\n",
              "    .colab-df-convert {\n",
              "      background-color: #E8F0FE;\n",
              "      border: none;\n",
              "      border-radius: 50%;\n",
              "      cursor: pointer;\n",
              "      display: none;\n",
              "      fill: #1967D2;\n",
              "      height: 32px;\n",
              "      padding: 0 0 0 0;\n",
              "      width: 32px;\n",
              "    }\n",
              "\n",
              "    .colab-df-convert:hover {\n",
              "      background-color: #E2EBFA;\n",
              "      box-shadow: 0px 1px 2px rgba(60, 64, 67, 0.3), 0px 1px 3px 1px rgba(60, 64, 67, 0.15);\n",
              "      fill: #174EA6;\n",
              "    }\n",
              "\n",
              "    [theme=dark] .colab-df-convert {\n",
              "      background-color: #3B4455;\n",
              "      fill: #D2E3FC;\n",
              "    }\n",
              "\n",
              "    [theme=dark] .colab-df-convert:hover {\n",
              "      background-color: #434B5C;\n",
              "      box-shadow: 0px 1px 3px 1px rgba(0, 0, 0, 0.15);\n",
              "      filter: drop-shadow(0px 1px 2px rgba(0, 0, 0, 0.3));\n",
              "      fill: #FFFFFF;\n",
              "    }\n",
              "  </style>\n",
              "\n",
              "      <script>\n",
              "        const buttonEl =\n",
              "          document.querySelector('#df-415f2ef8-61cd-424a-a2d7-bb50a8477cf7 button.colab-df-convert');\n",
              "        buttonEl.style.display =\n",
              "          google.colab.kernel.accessAllowed ? 'block' : 'none';\n",
              "\n",
              "        async function convertToInteractive(key) {\n",
              "          const element = document.querySelector('#df-415f2ef8-61cd-424a-a2d7-bb50a8477cf7');\n",
              "          const dataTable =\n",
              "            await google.colab.kernel.invokeFunction('convertToInteractive',\n",
              "                                                     [key], {});\n",
              "          if (!dataTable) return;\n",
              "\n",
              "          const docLinkHtml = 'Like what you see? Visit the ' +\n",
              "            '<a target=\"_blank\" href=https://colab.research.google.com/notebooks/data_table.ipynb>data table notebook</a>'\n",
              "            + ' to learn more about interactive tables.';\n",
              "          element.innerHTML = '';\n",
              "          dataTable['output_type'] = 'display_data';\n",
              "          await google.colab.output.renderOutput(dataTable, element);\n",
              "          const docLink = document.createElement('div');\n",
              "          docLink.innerHTML = docLinkHtml;\n",
              "          element.appendChild(docLink);\n",
              "        }\n",
              "      </script>\n",
              "    </div>\n",
              "  </div>\n",
              "  "
            ]
          },
          "metadata": {},
          "execution_count": 13
        }
      ],
      "source": [
        "X=final_data.drop('loan_status',axis=1)\n",
        "X.describe()"
      ],
      "id": "659051e1"
    },
    {
      "cell_type": "code",
      "execution_count": 14,
      "metadata": {
        "id": "a71e0936"
      },
      "outputs": [],
      "source": [
        "y = final_data['loan_status']\n",
        "X=final_data.drop('loan_status',axis=1)\n",
        "y = final_data['loan_status']\n",
        "\n",
        "from sklearn.model_selection import train_test_split\n",
        "X_train,X_test,y_train,y_test=train_test_split(X,y,test_size=0.30,random_state=101)"
      ],
      "id": "a71e0936"
    },
    {
      "cell_type": "code",
      "execution_count": 15,
      "metadata": {
        "colab": {
          "base_uri": "https://localhost:8080/"
        },
        "id": "2Rg_--QozEij",
        "outputId": "040ff48c-743b-48f7-8fa5-56ea55fdb450"
      },
      "outputs": [
        {
          "output_type": "execute_result",
          "data": {
            "text/plain": [
              "loan_amnt                              0\n",
              "funded_amnt                            0\n",
              "funded_amnt_inv                        0\n",
              "term_36.0                              0\n",
              "term_60.0                              0\n",
              "int_rate                               0\n",
              "grade_E                                0\n",
              "grade_B                                0\n",
              "grade_A                                0\n",
              "grade_D                                0\n",
              "grade_C                                0\n",
              "grade_F                                0\n",
              "grade_G                                0\n",
              "emp_length                             0\n",
              "home_ownership_OWN                     0\n",
              "home_ownership_MORTGAGE                0\n",
              "home_ownership_RENT                    0\n",
              "home_ownership_Others                  0\n",
              "annual_inc                             0\n",
              "verification_status_Source Verified    0\n",
              "verification_status_Not Verified       0\n",
              "verification_status_Verified           0\n",
              "purpose_debt_consolidation             0\n",
              "purpose_home_improvement               0\n",
              "purpose_credit_card                    0\n",
              "purpose_Others                         0\n",
              "dti                                    0\n",
              "delinq_2yrs                            0\n",
              "inq_last_6mths                         0\n",
              "mths_since_last_delinq                 0\n",
              "mths_since_last_record                 0\n",
              "open_acc                               0\n",
              "pub_rec                                0\n",
              "revol_bal                              0\n",
              "revol_util                             0\n",
              "total_acc                              0\n",
              "initial_list_status_f                  0\n",
              "initial_list_status_w                  0\n",
              "total_rec_int                          0\n",
              "total_rec_late_fee                     0\n",
              "recoveries                             0\n",
              "collection_recovery_fee                0\n",
              "collections_12_mths_ex_med             0\n",
              "mths_since_last_major_derog            0\n",
              "last_week_pay                          0\n",
              "acc_now_delinq                         0\n",
              "tot_coll_amt                           0\n",
              "tot_cur_bal                            0\n",
              "total_rev_hi_lim                       0\n",
              "dtype: int64"
            ]
          },
          "metadata": {},
          "execution_count": 15
        }
      ],
      "source": [
        "X_train.isnull().sum()\n"
      ],
      "id": "2Rg_--QozEij"
    },
    {
      "cell_type": "code",
      "execution_count": 15,
      "metadata": {
        "id": "FDrvb_PAzET-"
      },
      "outputs": [],
      "source": [
        ""
      ],
      "id": "FDrvb_PAzET-"
    },
    {
      "cell_type": "markdown",
      "metadata": {
        "id": "ded66dae"
      },
      "source": [
        "## Logistic Regression Model"
      ],
      "id": "ded66dae"
    },
    {
      "cell_type": "code",
      "execution_count": 16,
      "metadata": {
        "colab": {
          "base_uri": "https://localhost:8080/"
        },
        "id": "b42a6642",
        "outputId": "ee127fd5-ad4e-42c9-8957-71f843618082"
      },
      "outputs": [
        {
          "output_type": "execute_result",
          "data": {
            "text/plain": [
              "LogisticRegression(max_iter=3000)"
            ]
          },
          "metadata": {},
          "execution_count": 16
        }
      ],
      "source": [
        "from sklearn.linear_model import LogisticRegression\n",
        "\n",
        "log_reg= LogisticRegression(max_iter=3000)\n",
        "log_reg.fit(X_train, y_train)"
      ],
      "id": "b42a6642"
    },
    {
      "cell_type": "markdown",
      "metadata": {
        "id": "Cf6cx9wrn68t"
      },
      "source": [
        "### Evaluating Logistic Regression"
      ],
      "id": "Cf6cx9wrn68t"
    },
    {
      "cell_type": "code",
      "execution_count": 17,
      "metadata": {
        "colab": {
          "base_uri": "https://localhost:8080/"
        },
        "id": "7YQ6IsVBn6mC",
        "outputId": "bc797124-03c5-470b-c042-af4babbe5d8e"
      },
      "outputs": [
        {
          "output_type": "stream",
          "name": "stdout",
          "text": [
            "Classification Report:\n",
            "               precision    recall  f1-score   support\n",
            "\n",
            "           0       0.80      0.97      0.88     11474\n",
            "           1       0.68      0.20      0.31      3526\n",
            "\n",
            "    accuracy                           0.79     15000\n",
            "   macro avg       0.74      0.59      0.59     15000\n",
            "weighted avg       0.77      0.79      0.74     15000\n",
            "\n",
            "\n",
            "\n",
            "\n",
            " Confusion matrix \n",
            " [[11139   335]\n",
            " [ 2821   705]]\n",
            "\n",
            " Score of Random Forest training Model: 0.7857938798251378\n",
            "\n",
            " Score of Random Forest testing Model: 0.7896\n",
            "\n",
            " Accuracy: 78.960%\n"
          ]
        }
      ],
      "source": [
        "y_pred_logreg= log_reg.predict(X_test)\n",
        "print('Classification Report:\\n', classification_report(y_test,y_pred_logreg))\n",
        "print('\\n')\n",
        "print(\"\\n Confusion matrix \\n\", confusion_matrix(y_test,y_pred_logreg))\n",
        "print(\"\\n Score of Random Forest training Model:\",  log_reg.score(X_train, y_train))\n",
        "print(\"\\n Score of Random Forest testing Model:\",  log_reg.score(X_test, y_test))\n",
        "print(\"\\n Accuracy: %.3f%%\" % ((log_reg.score(X_test, y_test))*100.0))"
      ],
      "id": "7YQ6IsVBn6mC"
    },
    {
      "cell_type": "markdown",
      "metadata": {
        "id": "89bd86cb"
      },
      "source": [
        "## Decision Tree Classifier"
      ],
      "id": "89bd86cb"
    },
    {
      "cell_type": "code",
      "execution_count": 18,
      "metadata": {
        "colab": {
          "base_uri": "https://localhost:8080/"
        },
        "id": "384d6ae7",
        "outputId": "84a6c080-1f78-4805-cb47-3f66d50f0f9c"
      },
      "outputs": [
        {
          "output_type": "execute_result",
          "data": {
            "text/plain": [
              "DecisionTreeClassifier()"
            ]
          },
          "metadata": {},
          "execution_count": 18
        }
      ],
      "source": [
        "from sklearn.tree import DecisionTreeClassifier\n",
        "dtree=DecisionTreeClassifier()\n",
        "dtree.fit(X_train,y_train)"
      ],
      "id": "384d6ae7"
    },
    {
      "cell_type": "markdown",
      "metadata": {
        "id": "ad7ef7d8"
      },
      "source": [
        "### Evaluating Decision Tree"
      ],
      "id": "ad7ef7d8"
    },
    {
      "cell_type": "code",
      "execution_count": 19,
      "metadata": {
        "colab": {
          "base_uri": "https://localhost:8080/"
        },
        "id": "5dde7b8c",
        "outputId": "f6e04d39-927a-4700-f727-fa37038a3b93"
      },
      "outputs": [
        {
          "output_type": "stream",
          "name": "stdout",
          "text": [
            "Classification Report:\n",
            "               precision    recall  f1-score   support\n",
            "\n",
            "           0       0.84      0.82      0.83     11474\n",
            "           1       0.46      0.50      0.48      3526\n",
            "\n",
            "    accuracy                           0.75     15000\n",
            "   macro avg       0.65      0.66      0.66     15000\n",
            "weighted avg       0.75      0.75      0.75     15000\n",
            "\n",
            "\n",
            "\n",
            "\n",
            " Confusion matrix \n",
            " [[9405 2069]\n",
            " [1752 1774]]\n",
            "\n",
            " Score of Random Forest training Model: 1.0\n",
            "\n",
            " Score of Random Forest testing Model: 0.7452666666666666\n",
            "\n",
            " Accuracy: 74.527%\n"
          ]
        }
      ],
      "source": [
        "y_pred_dtree=dtree.predict(X_test)\n",
        "print('Classification Report:\\n', classification_report(y_test,y_pred_dtree))\n",
        "print('\\n')\n",
        "print(\"\\n Confusion matrix \\n\", confusion_matrix(y_test,y_pred_dtree))\n",
        "print(\"\\n Score of Random Forest training Model:\",  dtree.score(X_train, y_train))\n",
        "print(\"\\n Score of Random Forest testing Model:\",  dtree.score(X_test, y_test))\n",
        "print(\"\\n Accuracy: %.3f%%\" % ((dtree.score(X_test, y_test))*100.0))"
      ],
      "id": "5dde7b8c"
    },
    {
      "cell_type": "markdown",
      "metadata": {
        "id": "18dd66a1"
      },
      "source": [
        "## Random Forest Classifier"
      ],
      "id": "18dd66a1"
    },
    {
      "cell_type": "code",
      "execution_count": 20,
      "metadata": {
        "id": "3b974bd3",
        "colab": {
          "base_uri": "https://localhost:8080/"
        },
        "outputId": "c3652fdb-e175-46dc-8966-9caf9dd9bcdb"
      },
      "outputs": [
        {
          "output_type": "execute_result",
          "data": {
            "text/plain": [
              "RandomForestClassifier(n_estimators=600)"
            ]
          },
          "metadata": {},
          "execution_count": 20
        }
      ],
      "source": [
        "from sklearn.ensemble import RandomForestClassifier\n",
        "rfc=RandomForestClassifier(n_estimators=600)\n",
        "rfc.fit(X_train,y_train)"
      ],
      "id": "3b974bd3"
    },
    {
      "cell_type": "markdown",
      "metadata": {
        "id": "805bb97a"
      },
      "source": [
        "### Evaluating Random Forest Classifier:"
      ],
      "id": "805bb97a"
    },
    {
      "cell_type": "code",
      "execution_count": 21,
      "metadata": {
        "id": "2245284c",
        "colab": {
          "base_uri": "https://localhost:8080/"
        },
        "outputId": "3378fb88-3358-4958-b923-5a8565aeefb1"
      },
      "outputs": [
        {
          "output_type": "stream",
          "name": "stdout",
          "text": [
            "Classification Report:\n",
            "               precision    recall  f1-score   support\n",
            "\n",
            "           0       0.83      0.99      0.90     11474\n",
            "           1       0.92      0.32      0.48      3526\n",
            "\n",
            "    accuracy                           0.83     15000\n",
            "   macro avg       0.88      0.66      0.69     15000\n",
            "weighted avg       0.85      0.83      0.80     15000\n",
            "\n",
            "\n",
            "\n",
            "\n",
            " Confusion matrix \n",
            " [[11382    92]\n",
            " [ 2397  1129]]\n",
            "\n",
            " Score of Random Forest training Model: 1.0\n",
            "\n",
            " Score of Random Forest testing Model: 0.8340666666666666\n",
            "\n",
            " Accuracy: 83.407%\n"
          ]
        }
      ],
      "source": [
        "y_pred_rfc=rfc.predict(X_test)\n",
        "from sklearn.metrics import classification_report,confusion_matrix\n",
        "print('Classification Report:\\n', classification_report(y_test,y_pred_rfc))\n",
        "print('\\n')\n",
        "print(\"\\n Confusion matrix \\n\", confusion_matrix(y_test,y_pred_rfc))\n",
        "print(\"\\n Score of Random Forest training Model:\",  rfc.score(X_train, y_train))\n",
        "print(\"\\n Score of Random Forest testing Model:\",  rfc.score(X_test, y_test))\n",
        "print(\"\\n Accuracy: %.3f%%\" % ((rfc.score(X_test, y_test))*100.0))"
      ],
      "id": "2245284c"
    },
    {
      "cell_type": "markdown",
      "metadata": {
        "id": "f758a5c7"
      },
      "source": [
        "## K- Nearest Neighbor Classification"
      ],
      "id": "f758a5c7"
    },
    {
      "cell_type": "code",
      "execution_count": 22,
      "metadata": {
        "id": "e1481b6f"
      },
      "outputs": [],
      "source": [
        "from sklearn.preprocessing import StandardScaler\n",
        "from sklearn.neighbors import KNeighborsClassifier\n",
        "scaler = StandardScaler()\n",
        "scaler.fit(X_train)\n",
        "X_train = scaler.transform(X_train)\n",
        "X_test = scaler.transform(X_test)"
      ],
      "id": "e1481b6f"
    },
    {
      "cell_type": "markdown",
      "metadata": {
        "id": "iPZHOmJAygUg"
      },
      "source": [
        "### Trying Out different n-Neighbors"
      ],
      "id": "iPZHOmJAygUg"
    },
    {
      "cell_type": "markdown",
      "metadata": {
        "id": "958e8253"
      },
      "source": [
        "#### Nearest Neighbor = 1"
      ],
      "id": "958e8253"
    },
    {
      "cell_type": "code",
      "execution_count": 23,
      "metadata": {
        "colab": {
          "base_uri": "https://localhost:8080/"
        },
        "id": "6d607fcc",
        "outputId": "37b7c6df-fde2-4097-ba0a-88942639e89b"
      },
      "outputs": [
        {
          "output_type": "execute_result",
          "data": {
            "text/plain": [
              "KNeighborsClassifier(n_neighbors=1)"
            ]
          },
          "metadata": {},
          "execution_count": 23
        }
      ],
      "source": [
        "knn1 = KNeighborsClassifier(n_neighbors = 1)\n",
        "knn1.fit(X_train, y_train)"
      ],
      "id": "6d607fcc"
    },
    {
      "cell_type": "code",
      "source": [
        "y_pred_knn1=knn1.predict(X_test)"
      ],
      "metadata": {
        "id": "WT_M-fqexUp_"
      },
      "id": "WT_M-fqexUp_",
      "execution_count": 24,
      "outputs": []
    },
    {
      "cell_type": "markdown",
      "metadata": {
        "id": "ef21be9d"
      },
      "source": [
        "#### Nearest Neighbor = 5"
      ],
      "id": "ef21be9d"
    },
    {
      "cell_type": "code",
      "execution_count": 25,
      "metadata": {
        "id": "1a6e7916"
      },
      "outputs": [],
      "source": [
        "knn5 = KNeighborsClassifier(n_neighbors = 5)\n",
        "knn5.fit(X_train, y_train)\n",
        "y_pred_knn5=knn5.predict(X_test)\n"
      ],
      "id": "1a6e7916"
    },
    {
      "cell_type": "markdown",
      "metadata": {
        "id": "98304f90"
      },
      "source": [
        "#### Nearest Neighbor = 7"
      ],
      "id": "98304f90"
    },
    {
      "cell_type": "code",
      "execution_count": 26,
      "metadata": {
        "id": "a32b1807"
      },
      "outputs": [],
      "source": [
        "knn7 = KNeighborsClassifier(n_neighbors = 7)\n",
        "knn7.fit(X_train, y_train)\n",
        "y_pred_knn7=knn7.predict(X_test)\n"
      ],
      "id": "a32b1807"
    },
    {
      "cell_type": "markdown",
      "metadata": {
        "id": "05e12b6e"
      },
      "source": [
        "#### Nearest Neighbor = 10"
      ],
      "id": "05e12b6e"
    },
    {
      "cell_type": "code",
      "execution_count": 27,
      "metadata": {
        "id": "a607ae4d"
      },
      "outputs": [],
      "source": [
        "knn10 = KNeighborsClassifier(n_neighbors = 10)\n",
        "knn10.fit(X_train, y_train)\n",
        "y_pred_knn10=knn10.predict(X_test)\n"
      ],
      "id": "a607ae4d"
    },
    {
      "cell_type": "markdown",
      "metadata": {
        "id": "ho5Qmt8ytIeA"
      },
      "source": [
        "### Evaluation Metrics"
      ],
      "id": "ho5Qmt8ytIeA"
    },
    {
      "cell_type": "code",
      "execution_count": 28,
      "metadata": {
        "colab": {
          "base_uri": "https://localhost:8080/"
        },
        "id": "9aeed072",
        "outputId": "aaa6b6d5-aa94-42cd-ec4a-714085933f88"
      },
      "outputs": [
        {
          "output_type": "stream",
          "name": "stdout",
          "text": [
            "KNN =1\n",
            "Classification Report:\n",
            "               precision    recall  f1-score   support\n",
            "\n",
            "           0       0.81      0.80      0.80     11474\n",
            "           1       0.38      0.40      0.39      3526\n",
            "\n",
            "    accuracy                           0.70     15000\n",
            "   macro avg       0.59      0.60      0.60     15000\n",
            "weighted avg       0.71      0.70      0.71     15000\n",
            "\n",
            "\n",
            "\n",
            "\n",
            " Confusion matrix \n",
            " [[9157 2317]\n",
            " [2130 1396]]\n",
            "\n",
            " Score of Random Forest training Model: 1.0\n",
            "\n",
            " Score of Random Forest testing Model: 0.7035333333333333\n",
            "\n",
            " Accuracy: 70.353%\n"
          ]
        }
      ],
      "source": [
        "print('KNN =1')\n",
        "print('Classification Report:\\n', classification_report(y_test,y_pred_knn1))\n",
        "print('\\n')\n",
        "print(\"\\n Confusion matrix \\n\", confusion_matrix(y_test,y_pred_knn1))\n",
        "print(\"\\n Score of Random Forest training Model:\",  knn1.score(X_train, y_train))\n",
        "print(\"\\n Score of Random Forest testing Model:\",  knn1.score(X_test, y_test))\n",
        "print(\"\\n Accuracy: %.3f%%\" % ((knn1.score(X_test, y_test))*100.0))"
      ],
      "id": "9aeed072"
    },
    {
      "cell_type": "code",
      "execution_count": 29,
      "metadata": {
        "id": "08fe33ad",
        "colab": {
          "base_uri": "https://localhost:8080/"
        },
        "outputId": "5b16a5aa-a070-4104-bbaa-0b84dfd5440a"
      },
      "outputs": [
        {
          "output_type": "stream",
          "name": "stdout",
          "text": [
            "KNN =5\n",
            "Classification Report:\n",
            "               precision    recall  f1-score   support\n",
            "\n",
            "           0       0.81      0.90      0.85     11474\n",
            "           1       0.50      0.32      0.39      3526\n",
            "\n",
            "    accuracy                           0.76     15000\n",
            "   macro avg       0.65      0.61      0.62     15000\n",
            "weighted avg       0.74      0.76      0.74     15000\n",
            "\n",
            "\n",
            "\n",
            "\n",
            " Confusion matrix \n",
            " [[10329  1145]\n",
            " [ 2397  1129]]\n",
            "\n",
            " Score of Random Forest training Model: 0.8297951370039144\n",
            "\n",
            " Score of Random Forest testing Model: 0.7638666666666667\n",
            "\n",
            " Accuracy: 76.387%\n"
          ]
        }
      ],
      "source": [
        "print('KNN = 5')\n",
        "print('Classification Report:\\n', classification_report(y_test,y_pred_knn5))\n",
        "print('\\n')\n",
        "print(\"\\n Confusion matrix \\n\", confusion_matrix(y_test,y_pred_knn5))\n",
        "print(\"\\n Score of Random Forest training Model:\",  knn5.score(X_train, y_train))\n",
        "print(\"\\n Score of Random Forest testing Model:\",  knn5.score(X_test, y_test))\n",
        "print(\"\\n Accuracy: %.3f%%\" % ((knn5.score(X_test, y_test))*100.0))"
      ],
      "id": "08fe33ad"
    },
    {
      "cell_type": "code",
      "execution_count": 30,
      "metadata": {
        "id": "BWOZ1zmAtZ6f",
        "colab": {
          "base_uri": "https://localhost:8080/"
        },
        "outputId": "4074dd25-d2de-4303-f7a4-8523c21054e2"
      },
      "outputs": [
        {
          "output_type": "stream",
          "name": "stdout",
          "text": [
            "KNN =7\n",
            "Classification Report:\n",
            "               precision    recall  f1-score   support\n",
            "\n",
            "           0       0.81      0.92      0.86     11474\n",
            "           1       0.54      0.30      0.38      3526\n",
            "\n",
            "    accuracy                           0.77     15000\n",
            "   macro avg       0.67      0.61      0.62     15000\n",
            "weighted avg       0.75      0.77      0.75     15000\n",
            "\n",
            "\n",
            "\n",
            "\n",
            " Confusion matrix \n",
            " [[10566   908]\n",
            " [ 2477  1049]]\n",
            "\n",
            " Score of Random Forest training Model: 0.8192519786279608\n",
            "\n",
            " Score of Random Forest testing Model: 0.7743333333333333\n",
            "\n",
            " Accuracy: 77.433%\n"
          ]
        }
      ],
      "source": [
        "print('KNN = 7')\n",
        "print('Classification Report:\\n', classification_report(y_test,y_pred_knn7))\n",
        "print('\\n')\n",
        "print(\"\\n Confusion matrix \\n\", confusion_matrix(y_test,y_pred_knn7))\n",
        "print(\"\\n Score of Random Forest training Model:\",  knn7.score(X_train, y_train))\n",
        "print(\"\\n Score of Random Forest testing Model:\",  knn7.score(X_test, y_test))\n",
        "print(\"\\n Accuracy: %.3f%%\" % ((knn7.score(X_test, y_test))*100.0))"
      ],
      "id": "BWOZ1zmAtZ6f"
    },
    {
      "cell_type": "code",
      "execution_count": 31,
      "metadata": {
        "id": "nEThpWmhtZ3K",
        "colab": {
          "base_uri": "https://localhost:8080/"
        },
        "outputId": "91ea0715-96c3-4fa5-8373-3dc4fdfe0528"
      },
      "outputs": [
        {
          "output_type": "stream",
          "name": "stdout",
          "text": [
            "KNN =10\n",
            "Classification Report:\n",
            "               precision    recall  f1-score   support\n",
            "\n",
            "           0       0.80      0.96      0.87     11474\n",
            "           1       0.62      0.23      0.34      3526\n",
            "\n",
            "    accuracy                           0.79     15000\n",
            "   macro avg       0.71      0.59      0.60     15000\n",
            "weighted avg       0.76      0.79      0.75     15000\n",
            "\n",
            "\n",
            "\n",
            "\n",
            " Confusion matrix \n",
            " [[10971   503]\n",
            " [ 2710   816]]\n",
            "\n",
            " Score of Random Forest training Model: 0.8077087916797623\n",
            "\n",
            " Score of Random Forest testing Model: 0.7858\n",
            "\n",
            " Accuracy: 70.353%\n"
          ]
        }
      ],
      "source": [
        "print('KNN = 10')\n",
        "print('Classification Report:\\n', classification_report(y_test,y_pred_knn10))\n",
        "print('\\n')\n",
        "print(\"\\n Confusion matrix \\n\", confusion_matrix(y_test,y_pred_knn10))\n",
        "print(\"\\n Score of Random Forest training Model:\",  knn10.score(X_train, y_train))\n",
        "print(\"\\n Score of Random Forest testing Model:\",  knn10.score(X_test, y_test))\n",
        "print(\"\\n Accuracy: %.3f%%\" % ((knn1.score(X_test, y_test))*100.0))"
      ],
      "id": "nEThpWmhtZ3K"
    },
    {
      "cell_type": "markdown",
      "metadata": {
        "id": "b909166e"
      },
      "source": [
        "## Gradient Boosting"
      ],
      "id": "b909166e"
    },
    {
      "cell_type": "code",
      "execution_count": 32,
      "metadata": {
        "id": "7b9397de"
      },
      "outputs": [],
      "source": [
        "from sklearn.ensemble import GradientBoostingClassifier\n",
        "from sklearn.model_selection import GridSearchCV"
      ],
      "id": "7b9397de"
    },
    {
      "cell_type": "code",
      "execution_count": 33,
      "metadata": {
        "colab": {
          "base_uri": "https://localhost:8080/"
        },
        "id": "cf58e31b",
        "outputId": "0b402508-fd1c-4729-b2dd-b51b4f8bd302"
      },
      "outputs": [
        {
          "output_type": "stream",
          "name": "stdout",
          "text": [
            "Fitting 5 folds for each of 1 candidates, totalling 5 fits\n",
            "0.7611931769479128\n",
            " Results from Grid Search \n",
            "\n",
            " The best estimator across ALL searched params:\n",
            " GradientBoostingClassifier(learning_rate=0.01, max_features='log2',\n",
            "                           min_samples_leaf=0.1, min_samples_split=0.1,\n",
            "                           n_estimators=10, subsample=0.5)\n",
            "\n",
            " The best score across ALL searched params:\n",
            " 0.7611931786173535\n",
            "\n",
            " The best parameters across ALL searched params:\n",
            " {'criterion': 'friedman_mse', 'learning_rate': 0.01, 'loss': 'deviance', 'max_depth': 3, 'max_features': 'log2', 'min_samples_leaf': 0.1, 'min_samples_split': 0.1, 'n_estimators': 10, 'subsample': 0.5}\n",
            "\n",
            " Accuracy Score:\n",
            " 76.49333333333334\n"
          ]
        }
      ],
      "source": [
        "# 1st method\n",
        "parameters = {\n",
        "    \"loss\":[\"deviance\"],\n",
        "    \"learning_rate\": [0.01],\n",
        "    \"min_samples_split\": [0.1],\n",
        "    \"min_samples_leaf\": [0.1],\n",
        "    \"max_depth\":[3],\n",
        "    \"max_features\":[\"log2\"],\n",
        "    \"criterion\": [\"friedman_mse\"],\n",
        "    \"subsample\":[0.5],\n",
        "    \"n_estimators\":[10]\n",
        "    }\n",
        "gb_clfb_1 = GridSearchCV(GradientBoostingClassifier(), parameters, cv=5, n_jobs=-1,verbose=1)\n",
        "gb_clfb_1.fit(X_train, y_train)\n",
        "print(gb_clfb_1.score(X_train, y_train))\n",
        "\n",
        "print(\" Results from Grid Search \" )\n",
        "print(\"\\n The best estimator across ALL searched params:\\n\",gb_clfb_1.best_estimator_)\n",
        "print(\"\\n The best score across ALL searched params:\\n\",gb_clfb_1.best_score_)\n",
        "print(\"\\n The best parameters across ALL searched params:\\n\",gb_clfb_1.best_params_)\n",
        "print(\"\\n Accuracy Score:\\n\", accuracy_score(gb_clfb_1.predict(X_test), y_test)*100)\n"
      ],
      "id": "cf58e31b"
    },
    {
      "cell_type": "code",
      "execution_count": 35,
      "metadata": {
        "colab": {
          "base_uri": "https://localhost:8080/"
        },
        "id": "d8466cc9",
        "outputId": "b8b959ec-e53b-4b1d-d073-7855695e2f52"
      },
      "outputs": [
        {
          "output_type": "stream",
          "name": "stdout",
          "text": [
            "Fitting 5 folds for each of 216 candidates, totalling 1080 fits\n",
            "0.8175376439326838\n",
            " Results from Grid Search \n",
            "\n",
            " The best estimator across ALL searched params:\n",
            " GradientBoostingClassifier(learning_rate=0.2, max_depth=15, max_features='sqrt',\n",
            "                           min_samples_leaf=0.1, min_samples_split=0.1,\n",
            "                           n_estimators=300, subsample=0.9)\n",
            "\n",
            " The best score across ALL searched params:\n",
            " 0.8118231706570326\n",
            "\n",
            " The best parameters across ALL searched params:\n",
            " {'learning_rate': 0.2, 'max_depth': 15, 'max_features': 'sqrt', 'min_samples_leaf': 0.1, 'min_samples_split': 0.1, 'n_estimators': 300, 'subsample': 0.9}\n",
            "\n",
            " Accuracy Score:\n",
            " 81.58\n"
          ]
        }
      ],
      "source": [
        "# 2nd method\n",
        "parameters = {\n",
        "    \"learning_rate\": [0.01, 0.1, 0.2],\n",
        "    \"min_samples_split\": [0.1],\n",
        "    \"min_samples_leaf\": [0.1],\n",
        "    \"max_depth\":[5, 10, 15, 20],\n",
        "    \"max_features\":[\"log2\",\"sqrt\"],\n",
        "    \"subsample\":[0.7, 0.8, 0.9],\n",
        "    \"n_estimators\":[100,200,300]\n",
        "    }\n",
        "\n",
        "# should be right \n",
        "\n",
        "gb_clfb = GridSearchCV(GradientBoostingClassifier(), parameters, cv=5, n_jobs=-1,verbose=4)\n",
        "gb_clfb.fit(X_train, y_train)\n",
        "print(gb_clfb.score(X_train, y_train))\n",
        "print(\" Results from Grid Search \" )\n",
        "print(\"\\n The best estimator across ALL searched params:\\n\",gb_clfb.best_estimator_)\n",
        "print(\"\\n The best score across ALL searched params:\\n\",gb_clfb.best_score_)\n",
        "print(\"\\n The best parameters across ALL searched params:\\n\",gb_clfb.best_params_)\n",
        "print(\"\\n Accuracy Score:\\n\", accuracy_score(gb_clfb.predict(X_test), y_test)*100)"
      ],
      "id": "d8466cc9"
    },
    {
      "cell_type": "code",
      "source": [
        "# Predictions:\n",
        "y_pred_gb=gb_clfb.predict(X_test)"
      ],
      "metadata": {
        "id": "WUL9y2HsXDTP"
      },
      "id": "WUL9y2HsXDTP",
      "execution_count": 36,
      "outputs": []
    },
    {
      "cell_type": "code",
      "execution_count": 37,
      "metadata": {
        "id": "fIOzHeXmlkbU"
      },
      "outputs": [],
      "source": [
        "import pickle\n",
        "model = gb_clfb.best_estimator_\n",
        "\n",
        "with open('Gradient Boost tuned.pkl', 'wb') as file:\n",
        "    # A new file will be created\n",
        "    pickle.dump(model, file)\n",
        "\n"
      ],
      "id": "fIOzHeXmlkbU"
    },
    {
      "cell_type": "markdown",
      "metadata": {
        "id": "037cf72e"
      },
      "source": [
        "### Evaluating Gradient Boosting Classifier:"
      ],
      "id": "037cf72e"
    },
    {
      "cell_type": "code",
      "execution_count": 39,
      "metadata": {
        "colab": {
          "base_uri": "https://localhost:8080/",
          "height": 175
        },
        "id": "469e78cd",
        "outputId": "d9570efe-81d8-44cb-c84b-6a67905e91a9"
      },
      "outputs": [
        {
          "output_type": "execute_result",
          "data": {
            "text/plain": [
              "Predicted      0     1    All\n",
              "Actual                       \n",
              "0          11050   424  11474\n",
              "1           2339  1187   3526\n",
              "All        13389  1611  15000"
            ],
            "text/html": [
              "\n",
              "  <div id=\"df-d6f240a4-3af2-4f24-8c57-11c063589850\">\n",
              "    <div class=\"colab-df-container\">\n",
              "      <div>\n",
              "<style scoped>\n",
              "    .dataframe tbody tr th:only-of-type {\n",
              "        vertical-align: middle;\n",
              "    }\n",
              "\n",
              "    .dataframe tbody tr th {\n",
              "        vertical-align: top;\n",
              "    }\n",
              "\n",
              "    .dataframe thead th {\n",
              "        text-align: right;\n",
              "    }\n",
              "</style>\n",
              "<table border=\"1\" class=\"dataframe\">\n",
              "  <thead>\n",
              "    <tr style=\"text-align: right;\">\n",
              "      <th>Predicted</th>\n",
              "      <th>0</th>\n",
              "      <th>1</th>\n",
              "      <th>All</th>\n",
              "    </tr>\n",
              "    <tr>\n",
              "      <th>Actual</th>\n",
              "      <th></th>\n",
              "      <th></th>\n",
              "      <th></th>\n",
              "    </tr>\n",
              "  </thead>\n",
              "  <tbody>\n",
              "    <tr>\n",
              "      <th>0</th>\n",
              "      <td>11050</td>\n",
              "      <td>424</td>\n",
              "      <td>11474</td>\n",
              "    </tr>\n",
              "    <tr>\n",
              "      <th>1</th>\n",
              "      <td>2339</td>\n",
              "      <td>1187</td>\n",
              "      <td>3526</td>\n",
              "    </tr>\n",
              "    <tr>\n",
              "      <th>All</th>\n",
              "      <td>13389</td>\n",
              "      <td>1611</td>\n",
              "      <td>15000</td>\n",
              "    </tr>\n",
              "  </tbody>\n",
              "</table>\n",
              "</div>\n",
              "      <button class=\"colab-df-convert\" onclick=\"convertToInteractive('df-d6f240a4-3af2-4f24-8c57-11c063589850')\"\n",
              "              title=\"Convert this dataframe to an interactive table.\"\n",
              "              style=\"display:none;\">\n",
              "        \n",
              "  <svg xmlns=\"http://www.w3.org/2000/svg\" height=\"24px\"viewBox=\"0 0 24 24\"\n",
              "       width=\"24px\">\n",
              "    <path d=\"M0 0h24v24H0V0z\" fill=\"none\"/>\n",
              "    <path d=\"M18.56 5.44l.94 2.06.94-2.06 2.06-.94-2.06-.94-.94-2.06-.94 2.06-2.06.94zm-11 1L8.5 8.5l.94-2.06 2.06-.94-2.06-.94L8.5 2.5l-.94 2.06-2.06.94zm10 10l.94 2.06.94-2.06 2.06-.94-2.06-.94-.94-2.06-.94 2.06-2.06.94z\"/><path d=\"M17.41 7.96l-1.37-1.37c-.4-.4-.92-.59-1.43-.59-.52 0-1.04.2-1.43.59L10.3 9.45l-7.72 7.72c-.78.78-.78 2.05 0 2.83L4 21.41c.39.39.9.59 1.41.59.51 0 1.02-.2 1.41-.59l7.78-7.78 2.81-2.81c.8-.78.8-2.07 0-2.86zM5.41 20L4 18.59l7.72-7.72 1.47 1.35L5.41 20z\"/>\n",
              "  </svg>\n",
              "      </button>\n",
              "      \n",
              "  <style>\n",
              "    .colab-df-container {\n",
              "      display:flex;\n",
              "      flex-wrap:wrap;\n",
              "      gap: 12px;\n",
              "    }\n",
              "\n",
              "    .colab-df-convert {\n",
              "      background-color: #E8F0FE;\n",
              "      border: none;\n",
              "      border-radius: 50%;\n",
              "      cursor: pointer;\n",
              "      display: none;\n",
              "      fill: #1967D2;\n",
              "      height: 32px;\n",
              "      padding: 0 0 0 0;\n",
              "      width: 32px;\n",
              "    }\n",
              "\n",
              "    .colab-df-convert:hover {\n",
              "      background-color: #E2EBFA;\n",
              "      box-shadow: 0px 1px 2px rgba(60, 64, 67, 0.3), 0px 1px 3px 1px rgba(60, 64, 67, 0.15);\n",
              "      fill: #174EA6;\n",
              "    }\n",
              "\n",
              "    [theme=dark] .colab-df-convert {\n",
              "      background-color: #3B4455;\n",
              "      fill: #D2E3FC;\n",
              "    }\n",
              "\n",
              "    [theme=dark] .colab-df-convert:hover {\n",
              "      background-color: #434B5C;\n",
              "      box-shadow: 0px 1px 3px 1px rgba(0, 0, 0, 0.15);\n",
              "      filter: drop-shadow(0px 1px 2px rgba(0, 0, 0, 0.3));\n",
              "      fill: #FFFFFF;\n",
              "    }\n",
              "  </style>\n",
              "\n",
              "      <script>\n",
              "        const buttonEl =\n",
              "          document.querySelector('#df-d6f240a4-3af2-4f24-8c57-11c063589850 button.colab-df-convert');\n",
              "        buttonEl.style.display =\n",
              "          google.colab.kernel.accessAllowed ? 'block' : 'none';\n",
              "\n",
              "        async function convertToInteractive(key) {\n",
              "          const element = document.querySelector('#df-d6f240a4-3af2-4f24-8c57-11c063589850');\n",
              "          const dataTable =\n",
              "            await google.colab.kernel.invokeFunction('convertToInteractive',\n",
              "                                                     [key], {});\n",
              "          if (!dataTable) return;\n",
              "\n",
              "          const docLinkHtml = 'Like what you see? Visit the ' +\n",
              "            '<a target=\"_blank\" href=https://colab.research.google.com/notebooks/data_table.ipynb>data table notebook</a>'\n",
              "            + ' to learn more about interactive tables.';\n",
              "          element.innerHTML = '';\n",
              "          dataTable['output_type'] = 'display_data';\n",
              "          await google.colab.output.renderOutput(dataTable, element);\n",
              "          const docLink = document.createElement('div');\n",
              "          docLink.innerHTML = docLinkHtml;\n",
              "          element.appendChild(docLink);\n",
              "        }\n",
              "      </script>\n",
              "    </div>\n",
              "  </div>\n",
              "  "
            ]
          },
          "metadata": {},
          "execution_count": 39
        }
      ],
      "source": [
        "# For visualisation:\n",
        "pd.crosstab(y_test, y_pred_gb, rownames=['Actual'], colnames=['Predicted'], margins=True)"
      ],
      "id": "469e78cd"
    },
    {
      "cell_type": "code",
      "execution_count": 42,
      "metadata": {
        "colab": {
          "base_uri": "https://localhost:8080/"
        },
        "id": "ij7FhQdsuctn",
        "outputId": "91a8d826-fd89-450b-e944-df0d6f6620a7"
      },
      "outputs": [
        {
          "output_type": "stream",
          "name": "stdout",
          "text": [
            "Classification Report:\n",
            "               precision    recall  f1-score   support\n",
            "\n",
            "           0       0.83      0.96      0.89     11474\n",
            "           1       0.74      0.34      0.46      3526\n",
            "\n",
            "    accuracy                           0.82     15000\n",
            "   macro avg       0.78      0.65      0.68     15000\n",
            "weighted avg       0.80      0.82      0.79     15000\n",
            "\n",
            "\n",
            "\n",
            "\n",
            " Confusion matrix \n",
            " [[11050   424]\n",
            " [ 2339  1187]]\n",
            "\n",
            " Score of Random Forest training Model: 0.8175376439326838\n",
            "\n",
            " Score of Random Forest testing Model: 0.8158\n",
            "\n",
            " Accuracy: 81.580%\n"
          ]
        }
      ],
      "source": [
        "print('Classification Report:\\n', classification_report(y_test,y_pred_gb))\n",
        "print('\\n')\n",
        "print(\"\\n Confusion matrix \\n\", confusion_matrix(y_test,y_pred_gb))\n",
        "print(\"\\n Score of Random Forest training Model:\",  gb_clfb.score(X_train, y_train))\n",
        "print(\"\\n Score of Random Forest testing Model:\",  gb_clfb.score(X_test, y_test))\n",
        "print(\"\\n Accuracy: %.3f%%\" % ((gb_clfb.score(X_test, y_test))*100.0))"
      ],
      "id": "ij7FhQdsuctn"
    },
    {
      "cell_type": "markdown",
      "source": [
        "# Comparing Models\n",
        "\n"
      ],
      "metadata": {
        "id": "v5Z1cvdnhAKJ"
      },
      "id": "v5Z1cvdnhAKJ"
    },
    {
      "cell_type": "code",
      "source": [
        "# Import required libraries for performance metrics\n",
        "from sklearn.metrics import make_scorer\n",
        "from sklearn.metrics import accuracy_score\n",
        "from sklearn.metrics import precision_score\n",
        "from sklearn.metrics import recall_score\n",
        "from sklearn.metrics import f1_score\n",
        "from sklearn.model_selection import cross_validate\n",
        "\n",
        "# dictionary with performance metrics\n",
        "scoring = {'accuracy':make_scorer(accuracy_score), \n",
        "           'precision':make_scorer(precision_score),\n",
        "           'recall':make_scorer(recall_score), \n",
        "           'f1_score':make_scorer(f1_score)}\n",
        "\n",
        "\n",
        "# Models evaluation function\n",
        "def models_evaluation(X, y, folds):\n",
        "    \n",
        "    # Performing cross-validation to each classifier\n",
        "    log_cv = cross_validate(log_reg, X, y, cv=folds, scoring=scoring)\n",
        "    dtree_cv = cross_validate(dtree, X, y, cv=folds, scoring=scoring)\n",
        "    rfc_cv = cross_validate(rfc, X, y, cv=folds, scoring=scoring)\n",
        "    knn1_cv = cross_validate(knn1, X, y, cv=folds, scoring=scoring)\n",
        "    knn5_cv = cross_validate(knn5, X, y, cv=folds, scoring=scoring)\n",
        "    knn7_cv = cross_validate(knn7, X, y, cv=folds, scoring=scoring)\n",
        "    knn10_cv = cross_validate(knn10, X, y, cv=folds, scoring=scoring)\n",
        "    gb_cv = cross_validate(gb_clfb, X, y, cv=folds, scoring=scoring)\n",
        "\n",
        "    # Creating a data frame with the model performance metrics:\n",
        "    models_scores_table = pd.DataFrame({'Logistic Regression':[log_cv['test_accuracy'].mean(),\n",
        "                                                               log_cv['test_precision'].mean(),\n",
        "                                                               log_cv['test_recall'].mean(),\n",
        "                                                               log_cv['test_f1_score'].mean()],\n",
        "                                       \n",
        "                                      'Decision Tree':[dtree_cv['test_accuracy'].mean(),\n",
        "                                                                   dtree_cv['test_precision'].mean(),\n",
        "                                                                   dtree_cv['test_recall'].mean(),\n",
        "                                                                   dtree_cv['test_f1_score'].mean()],\n",
        "                                       \n",
        "                                      'Random Forest Classifier':[rfc_cv['test_accuracy'].mean(),\n",
        "                                                       rfc_cv['test_precision'].mean(),\n",
        "                                                       rfc_cv['test_recall'].mean(),\n",
        "                                                       rfc_cv['test_f1_score'].mean()],\n",
        "                                       \n",
        "                                      'K-Nearest Neighbor (1)':[knn1_cv['test_accuracy'].mean(),\n",
        "                                                       knn1_cv['test_precision'].mean(),\n",
        "                                                       knn1_cv['test_recall'].mean(),\n",
        "                                                       knn1_cv['test_f1_score'].mean()],\n",
        "                                        \n",
        "                                      'K-Nearest Neighbor (nearest neighbors= 5)':[knn5_cv['test_accuracy'].mean(),\n",
        "                                                       knn5_cv['test_precision'].mean(),\n",
        "                                                       knn5_cv['test_recall'].mean(),\n",
        "                                                       knn5_cv['test_f1_score'].mean()],\n",
        "                                       \n",
        "                                      'K-Nearest Neighbor (7)':[knn7_cv['test_accuracy'].mean(),\n",
        "                                                       knn7_cv['test_precision'].mean(),\n",
        "                                                       knn7_cv['test_recall'].mean(),\n",
        "                                                       knn7_cv['test_f1_score'].mean()],\n",
        "                                       \n",
        "                                      'K-Nearest Neighbor (10)':[knn10_cv['test_accuracy'].mean(),\n",
        "                                                       knn10_cv['test_precision'].mean(),\n",
        "                                                       knn10_cv['test_recall'].mean(),\n",
        "                                                       knn10_cv['test_f1_score'].mean()],\n",
        "                                       \n",
        "                                       \n",
        "                                      'Gradient Boosting':[gb_cv['test_accuracy'].mean(),\n",
        "                                                              gb_cv['test_precision'].mean(),\n",
        "                                                              gb_cv['test_recall'].mean(),\n",
        "                                                              gb_cv['test_f1_score'].mean()]},\n",
        "                                      \n",
        "                                      index=['Accuracy', 'Precision', 'Recall', 'F1 Score'])\n",
        "    \n",
        "    # Adding 'Best Score' column\n",
        "    models_scores_table['Best Score'] = models_scores_table.idxmax(axis=1)\n",
        "    \n",
        "    # Returning models performance metrics in the form of data frame\n",
        "    return(models_scores_table)\n",
        "  \n",
        "# Calling models_evaluation function with 5 folds\n",
        "results = models_evaluation(X_test, y_test, 5)"
      ],
      "metadata": {
        "id": "qXP-Y8cBx1MS",
        "colab": {
          "base_uri": "https://localhost:8080/"
        },
        "outputId": "ff1553a8-95b3-488f-f812-12324ea7a641"
      },
      "id": "qXP-Y8cBx1MS",
      "execution_count": null,
      "outputs": [
        {
          "metadata": {
            "tags": null
          },
          "name": "stdout",
          "output_type": "stream",
          "text": [
            "Fitting 5 folds for each of 216 candidates, totalling 1080 fits\n",
            "Fitting 5 folds for each of 216 candidates, totalling 1080 fits\n",
            "Fitting 5 folds for each of 216 candidates, totalling 1080 fits\n",
            "Fitting 5 folds for each of 216 candidates, totalling 1080 fits\n"
          ]
        }
      ]
    },
    {
      "cell_type": "code",
      "source": [
        "results.T"
      ],
      "metadata": {
        "id": "oo-m5PDR3Kee"
      },
      "id": "oo-m5PDR3Kee",
      "execution_count": null,
      "outputs": []
    }
  ],
  "metadata": {
    "colab": {
      "collapsed_sections": [
        "992ab99e",
        "377bd89a",
        "NS7Sxz2w2exQ",
        "45a161d1",
        "Cf6cx9wrn68t",
        "NDgHobyphdOE"
      ],
      "name": "Final_Prediction using Machine Learning_NPA",
      "provenance": []
    },
    "kernelspec": {
      "display_name": "Python 3",
      "language": "python",
      "name": "python3"
    },
    "language_info": {
      "codemirror_mode": {
        "name": "ipython",
        "version": 3
      },
      "file_extension": ".py",
      "mimetype": "text/x-python",
      "name": "python",
      "nbconvert_exporter": "python",
      "pygments_lexer": "ipython3",
      "version": "3.8.8"
    }
  },
  "nbformat": 4,
  "nbformat_minor": 5
}