{
  "cells": [
    {
      "cell_type": "markdown",
      "metadata": {
        "id": "992ab99e"
      },
      "source": [
        "# Importing Libraries"
      ],
      "id": "992ab99e"
    },
    {
      "cell_type": "code",
      "execution_count": null,
      "metadata": {
        "id": "130536cc"
      },
      "outputs": [],
      "source": [
        "import pandas as pd\n",
        "import numpy as np\n",
        "import matplotlib.pyplot as plt\n",
        "import seaborn as sns\n",
        "%matplotlib inline"
      ],
      "id": "130536cc"
    },
    {
      "cell_type": "markdown",
      "metadata": {
        "id": "377bd89a"
      },
      "source": [
        "# Loading Dataset"
      ],
      "id": "377bd89a"
    },
    {
      "cell_type": "code",
      "execution_count": null,
      "metadata": {
        "id": "e294c0a7"
      },
      "outputs": [],
      "source": [
        "from pandas import read_csv\n",
        "train = pd.read_csv('train_indessa.csv')\n",
        "# test=pd.read_csv('test_indessa.csv')\n",
        "loan_df=train.copy()\n",
        "# loan_df"
      ],
      "id": "e294c0a7"
    },
    {
      "cell_type": "code",
      "source": [
        "loan_df.shape"
      ],
      "metadata": {
        "id": "ANCk18cA3A7w",
        "colab": {
          "base_uri": "https://localhost:8080/"
        },
        "outputId": "4ba685be-72e6-4dbe-ba89-a2fef7cf5c07"
      },
      "id": "ANCk18cA3A7w",
      "execution_count": null,
      "outputs": [
        {
          "output_type": "execute_result",
          "data": {
            "text/plain": [
              "(304988, 45)"
            ]
          },
          "metadata": {},
          "execution_count": 53
        }
      ]
    },
    {
      "cell_type": "code",
      "source": [
        "loan_df.head()"
      ],
      "metadata": {
        "id": "JCC7bbB23CwJ",
        "colab": {
          "base_uri": "https://localhost:8080/",
          "height": 438
        },
        "outputId": "175ed8c1-b90b-481c-a534-96bd34e77733"
      },
      "id": "JCC7bbB23CwJ",
      "execution_count": null,
      "outputs": [
        {
          "output_type": "execute_result",
          "data": {
            "text/plain": [
              "   member_id  loan_amnt  funded_amnt  funded_amnt_inv       term  \\\n",
              "0   58189336      14350        14350          14350.0  36 months   \n",
              "1   70011223       4800         4800           4800.0  36 months   \n",
              "2   70255675      10000        10000          10000.0  36 months   \n",
              "3    1893936      15000        15000          15000.0  36 months   \n",
              "4    7652106      16000        16000          16000.0  36 months   \n",
              "\n",
              "  batch_enrolled  int_rate grade sub_grade                          emp_title  \\\n",
              "0                    19.19     E        E3                              clerk   \n",
              "1     BAT1586599     10.99     B        B4         Human Resources Specialist   \n",
              "2     BAT1586599      7.26     A        A4                             Driver   \n",
              "3     BAT4808022     19.72     D        D5  Us office of Personnel Management   \n",
              "4     BAT2833642     10.64     B        B2        LAUSD-HOLLYWOOD HIGH SCHOOL   \n",
              "\n",
              "   ... collections_12_mths_ex_med mths_since_last_major_derog  \\\n",
              "0  ...                        0.0                        74.0   \n",
              "1  ...                        0.0                         NaN   \n",
              "2  ...                        0.0                         NaN   \n",
              "3  ...                        0.0                         NaN   \n",
              "4  ...                        0.0                         NaN   \n",
              "\n",
              "   application_type verification_status_joint last_week_pay acc_now_delinq  \\\n",
              "0        INDIVIDUAL                       NaN     26th week            0.0   \n",
              "1        INDIVIDUAL                       NaN      9th week            0.0   \n",
              "2        INDIVIDUAL                       NaN      9th week            0.0   \n",
              "3        INDIVIDUAL                       NaN    135th week            0.0   \n",
              "4        INDIVIDUAL                       NaN     96th week            0.0   \n",
              "\n",
              "  tot_coll_amt tot_cur_bal total_rev_hi_lim loan_status  \n",
              "0          0.0     28699.0          30800.0         0.0  \n",
              "1          0.0      9974.0          32900.0         0.0  \n",
              "2         65.0     38295.0          34900.0         0.0  \n",
              "3          0.0     55564.0          24700.0         0.0  \n",
              "4          0.0     47159.0          47033.0         0.0  \n",
              "\n",
              "[5 rows x 45 columns]"
            ],
            "text/html": [
              "\n",
              "  <div id=\"df-e478e496-5a10-41ca-ac93-be128681e7d4\">\n",
              "    <div class=\"colab-df-container\">\n",
              "      <div>\n",
              "<style scoped>\n",
              "    .dataframe tbody tr th:only-of-type {\n",
              "        vertical-align: middle;\n",
              "    }\n",
              "\n",
              "    .dataframe tbody tr th {\n",
              "        vertical-align: top;\n",
              "    }\n",
              "\n",
              "    .dataframe thead th {\n",
              "        text-align: right;\n",
              "    }\n",
              "</style>\n",
              "<table border=\"1\" class=\"dataframe\">\n",
              "  <thead>\n",
              "    <tr style=\"text-align: right;\">\n",
              "      <th></th>\n",
              "      <th>member_id</th>\n",
              "      <th>loan_amnt</th>\n",
              "      <th>funded_amnt</th>\n",
              "      <th>funded_amnt_inv</th>\n",
              "      <th>term</th>\n",
              "      <th>batch_enrolled</th>\n",
              "      <th>int_rate</th>\n",
              "      <th>grade</th>\n",
              "      <th>sub_grade</th>\n",
              "      <th>emp_title</th>\n",
              "      <th>...</th>\n",
              "      <th>collections_12_mths_ex_med</th>\n",
              "      <th>mths_since_last_major_derog</th>\n",
              "      <th>application_type</th>\n",
              "      <th>verification_status_joint</th>\n",
              "      <th>last_week_pay</th>\n",
              "      <th>acc_now_delinq</th>\n",
              "      <th>tot_coll_amt</th>\n",
              "      <th>tot_cur_bal</th>\n",
              "      <th>total_rev_hi_lim</th>\n",
              "      <th>loan_status</th>\n",
              "    </tr>\n",
              "  </thead>\n",
              "  <tbody>\n",
              "    <tr>\n",
              "      <th>0</th>\n",
              "      <td>58189336</td>\n",
              "      <td>14350</td>\n",
              "      <td>14350</td>\n",
              "      <td>14350.0</td>\n",
              "      <td>36 months</td>\n",
              "      <td></td>\n",
              "      <td>19.19</td>\n",
              "      <td>E</td>\n",
              "      <td>E3</td>\n",
              "      <td>clerk</td>\n",
              "      <td>...</td>\n",
              "      <td>0.0</td>\n",
              "      <td>74.0</td>\n",
              "      <td>INDIVIDUAL</td>\n",
              "      <td>NaN</td>\n",
              "      <td>26th week</td>\n",
              "      <td>0.0</td>\n",
              "      <td>0.0</td>\n",
              "      <td>28699.0</td>\n",
              "      <td>30800.0</td>\n",
              "      <td>0.0</td>\n",
              "    </tr>\n",
              "    <tr>\n",
              "      <th>1</th>\n",
              "      <td>70011223</td>\n",
              "      <td>4800</td>\n",
              "      <td>4800</td>\n",
              "      <td>4800.0</td>\n",
              "      <td>36 months</td>\n",
              "      <td>BAT1586599</td>\n",
              "      <td>10.99</td>\n",
              "      <td>B</td>\n",
              "      <td>B4</td>\n",
              "      <td>Human Resources Specialist</td>\n",
              "      <td>...</td>\n",
              "      <td>0.0</td>\n",
              "      <td>NaN</td>\n",
              "      <td>INDIVIDUAL</td>\n",
              "      <td>NaN</td>\n",
              "      <td>9th week</td>\n",
              "      <td>0.0</td>\n",
              "      <td>0.0</td>\n",
              "      <td>9974.0</td>\n",
              "      <td>32900.0</td>\n",
              "      <td>0.0</td>\n",
              "    </tr>\n",
              "    <tr>\n",
              "      <th>2</th>\n",
              "      <td>70255675</td>\n",
              "      <td>10000</td>\n",
              "      <td>10000</td>\n",
              "      <td>10000.0</td>\n",
              "      <td>36 months</td>\n",
              "      <td>BAT1586599</td>\n",
              "      <td>7.26</td>\n",
              "      <td>A</td>\n",
              "      <td>A4</td>\n",
              "      <td>Driver</td>\n",
              "      <td>...</td>\n",
              "      <td>0.0</td>\n",
              "      <td>NaN</td>\n",
              "      <td>INDIVIDUAL</td>\n",
              "      <td>NaN</td>\n",
              "      <td>9th week</td>\n",
              "      <td>0.0</td>\n",
              "      <td>65.0</td>\n",
              "      <td>38295.0</td>\n",
              "      <td>34900.0</td>\n",
              "      <td>0.0</td>\n",
              "    </tr>\n",
              "    <tr>\n",
              "      <th>3</th>\n",
              "      <td>1893936</td>\n",
              "      <td>15000</td>\n",
              "      <td>15000</td>\n",
              "      <td>15000.0</td>\n",
              "      <td>36 months</td>\n",
              "      <td>BAT4808022</td>\n",
              "      <td>19.72</td>\n",
              "      <td>D</td>\n",
              "      <td>D5</td>\n",
              "      <td>Us office of Personnel Management</td>\n",
              "      <td>...</td>\n",
              "      <td>0.0</td>\n",
              "      <td>NaN</td>\n",
              "      <td>INDIVIDUAL</td>\n",
              "      <td>NaN</td>\n",
              "      <td>135th week</td>\n",
              "      <td>0.0</td>\n",
              "      <td>0.0</td>\n",
              "      <td>55564.0</td>\n",
              "      <td>24700.0</td>\n",
              "      <td>0.0</td>\n",
              "    </tr>\n",
              "    <tr>\n",
              "      <th>4</th>\n",
              "      <td>7652106</td>\n",
              "      <td>16000</td>\n",
              "      <td>16000</td>\n",
              "      <td>16000.0</td>\n",
              "      <td>36 months</td>\n",
              "      <td>BAT2833642</td>\n",
              "      <td>10.64</td>\n",
              "      <td>B</td>\n",
              "      <td>B2</td>\n",
              "      <td>LAUSD-HOLLYWOOD HIGH SCHOOL</td>\n",
              "      <td>...</td>\n",
              "      <td>0.0</td>\n",
              "      <td>NaN</td>\n",
              "      <td>INDIVIDUAL</td>\n",
              "      <td>NaN</td>\n",
              "      <td>96th week</td>\n",
              "      <td>0.0</td>\n",
              "      <td>0.0</td>\n",
              "      <td>47159.0</td>\n",
              "      <td>47033.0</td>\n",
              "      <td>0.0</td>\n",
              "    </tr>\n",
              "  </tbody>\n",
              "</table>\n",
              "<p>5 rows × 45 columns</p>\n",
              "</div>\n",
              "      <button class=\"colab-df-convert\" onclick=\"convertToInteractive('df-e478e496-5a10-41ca-ac93-be128681e7d4')\"\n",
              "              title=\"Convert this dataframe to an interactive table.\"\n",
              "              style=\"display:none;\">\n",
              "        \n",
              "  <svg xmlns=\"http://www.w3.org/2000/svg\" height=\"24px\"viewBox=\"0 0 24 24\"\n",
              "       width=\"24px\">\n",
              "    <path d=\"M0 0h24v24H0V0z\" fill=\"none\"/>\n",
              "    <path d=\"M18.56 5.44l.94 2.06.94-2.06 2.06-.94-2.06-.94-.94-2.06-.94 2.06-2.06.94zm-11 1L8.5 8.5l.94-2.06 2.06-.94-2.06-.94L8.5 2.5l-.94 2.06-2.06.94zm10 10l.94 2.06.94-2.06 2.06-.94-2.06-.94-.94-2.06-.94 2.06-2.06.94z\"/><path d=\"M17.41 7.96l-1.37-1.37c-.4-.4-.92-.59-1.43-.59-.52 0-1.04.2-1.43.59L10.3 9.45l-7.72 7.72c-.78.78-.78 2.05 0 2.83L4 21.41c.39.39.9.59 1.41.59.51 0 1.02-.2 1.41-.59l7.78-7.78 2.81-2.81c.8-.78.8-2.07 0-2.86zM5.41 20L4 18.59l7.72-7.72 1.47 1.35L5.41 20z\"/>\n",
              "  </svg>\n",
              "      </button>\n",
              "      \n",
              "  <style>\n",
              "    .colab-df-container {\n",
              "      display:flex;\n",
              "      flex-wrap:wrap;\n",
              "      gap: 12px;\n",
              "    }\n",
              "\n",
              "    .colab-df-convert {\n",
              "      background-color: #E8F0FE;\n",
              "      border: none;\n",
              "      border-radius: 50%;\n",
              "      cursor: pointer;\n",
              "      display: none;\n",
              "      fill: #1967D2;\n",
              "      height: 32px;\n",
              "      padding: 0 0 0 0;\n",
              "      width: 32px;\n",
              "    }\n",
              "\n",
              "    .colab-df-convert:hover {\n",
              "      background-color: #E2EBFA;\n",
              "      box-shadow: 0px 1px 2px rgba(60, 64, 67, 0.3), 0px 1px 3px 1px rgba(60, 64, 67, 0.15);\n",
              "      fill: #174EA6;\n",
              "    }\n",
              "\n",
              "    [theme=dark] .colab-df-convert {\n",
              "      background-color: #3B4455;\n",
              "      fill: #D2E3FC;\n",
              "    }\n",
              "\n",
              "    [theme=dark] .colab-df-convert:hover {\n",
              "      background-color: #434B5C;\n",
              "      box-shadow: 0px 1px 3px 1px rgba(0, 0, 0, 0.15);\n",
              "      filter: drop-shadow(0px 1px 2px rgba(0, 0, 0, 0.3));\n",
              "      fill: #FFFFFF;\n",
              "    }\n",
              "  </style>\n",
              "\n",
              "      <script>\n",
              "        const buttonEl =\n",
              "          document.querySelector('#df-e478e496-5a10-41ca-ac93-be128681e7d4 button.colab-df-convert');\n",
              "        buttonEl.style.display =\n",
              "          google.colab.kernel.accessAllowed ? 'block' : 'none';\n",
              "\n",
              "        async function convertToInteractive(key) {\n",
              "          const element = document.querySelector('#df-e478e496-5a10-41ca-ac93-be128681e7d4');\n",
              "          const dataTable =\n",
              "            await google.colab.kernel.invokeFunction('convertToInteractive',\n",
              "                                                     [key], {});\n",
              "          if (!dataTable) return;\n",
              "\n",
              "          const docLinkHtml = 'Like what you see? Visit the ' +\n",
              "            '<a target=\"_blank\" href=https://colab.research.google.com/notebooks/data_table.ipynb>data table notebook</a>'\n",
              "            + ' to learn more about interactive tables.';\n",
              "          element.innerHTML = '';\n",
              "          dataTable['output_type'] = 'display_data';\n",
              "          await google.colab.output.renderOutput(dataTable, element);\n",
              "          const docLink = document.createElement('div');\n",
              "          docLink.innerHTML = docLinkHtml;\n",
              "          element.appendChild(docLink);\n",
              "        }\n",
              "      </script>\n",
              "    </div>\n",
              "  </div>\n",
              "  "
            ]
          },
          "metadata": {},
          "execution_count": 54
        }
      ]
    },
    {
      "cell_type": "code",
      "execution_count": null,
      "metadata": {
        "id": "9c41dee5",
        "colab": {
          "base_uri": "https://localhost:8080/"
        },
        "outputId": "fab6aa7f-07d7-485f-8188-733ab4f73226"
      },
      "outputs": [
        {
          "output_type": "stream",
          "name": "stdout",
          "text": [
            "<class 'pandas.core.frame.DataFrame'>\n",
            "RangeIndex: 304988 entries, 0 to 304987\n",
            "Data columns (total 45 columns):\n",
            " #   Column                       Non-Null Count   Dtype  \n",
            "---  ------                       --------------   -----  \n",
            " 0   member_id                    304988 non-null  int64  \n",
            " 1   loan_amnt                    304988 non-null  int64  \n",
            " 2   funded_amnt                  304988 non-null  int64  \n",
            " 3   funded_amnt_inv              304988 non-null  float64\n",
            " 4   term                         304988 non-null  object \n",
            " 5   batch_enrolled               256172 non-null  object \n",
            " 6   int_rate                     304988 non-null  float64\n",
            " 7   grade                        304988 non-null  object \n",
            " 8   sub_grade                    304988 non-null  object \n",
            " 9   emp_title                    287410 non-null  object \n",
            " 10  emp_length                   289664 non-null  object \n",
            " 11  home_ownership               304988 non-null  object \n",
            " 12  annual_inc                   304986 non-null  float64\n",
            " 13  verification_status          304988 non-null  object \n",
            " 14  pymnt_plan                   304988 non-null  object \n",
            " 15  desc                         43377 non-null   object \n",
            " 16  purpose                      304987 non-null  object \n",
            " 17  title                        304935 non-null  object \n",
            " 18  zip_code                     304987 non-null  object \n",
            " 19  addr_state                   304987 non-null  object \n",
            " 20  dti                          304987 non-null  float64\n",
            " 21  delinq_2yrs                  304980 non-null  float64\n",
            " 22  inq_last_6mths               304980 non-null  float64\n",
            " 23  mths_since_last_delinq       148684 non-null  float64\n",
            " 24  mths_since_last_record       46719 non-null   float64\n",
            " 25  open_acc                     304980 non-null  float64\n",
            " 26  pub_rec                      304980 non-null  float64\n",
            " 27  revol_bal                    304987 non-null  float64\n",
            " 28  revol_util                   304823 non-null  float64\n",
            " 29  total_acc                    304980 non-null  float64\n",
            " 30  initial_list_status          304987 non-null  object \n",
            " 31  total_rec_int                304987 non-null  float64\n",
            " 32  total_rec_late_fee           304987 non-null  float64\n",
            " 33  recoveries                   304987 non-null  float64\n",
            " 34  collection_recovery_fee      304987 non-null  float64\n",
            " 35  collections_12_mths_ex_med   304937 non-null  float64\n",
            " 36  mths_since_last_major_derog  76323 non-null   float64\n",
            " 37  application_type             304987 non-null  object \n",
            " 38  verification_status_joint    167 non-null     object \n",
            " 39  last_week_pay                304987 non-null  object \n",
            " 40  acc_now_delinq               304980 non-null  float64\n",
            " 41  tot_coll_amt                 280857 non-null  float64\n",
            " 42  tot_cur_bal                  280857 non-null  float64\n",
            " 43  total_rev_hi_lim             280857 non-null  float64\n",
            " 44  loan_status                  304987 non-null  float64\n",
            "dtypes: float64(24), int64(3), object(18)\n",
            "memory usage: 104.7+ MB\n"
          ]
        }
      ],
      "source": [
        "loan_df.info()"
      ],
      "id": "9c41dee5"
    },
    {
      "cell_type": "markdown",
      "metadata": {
        "id": "NS7Sxz2w2exQ"
      },
      "source": [
        "# Feature Engineering"
      ],
      "id": "NS7Sxz2w2exQ"
    },
    {
      "cell_type": "code",
      "execution_count": null,
      "metadata": {
        "id": "roB3emNJA80o",
        "colab": {
          "base_uri": "https://localhost:8080/"
        },
        "outputId": "c1c1d53d-9581-4f4e-9b17-8e9acfb91db7"
      },
      "outputs": [
        {
          "output_type": "stream",
          "name": "stdout",
          "text": [
            "Looking in indexes: https://pypi.org/simple, https://us-python.pkg.dev/colab-wheels/public/simple/\n",
            "Requirement already satisfied: category_encoders in /usr/local/lib/python3.7/dist-packages (2.5.0)\n",
            "Requirement already satisfied: scikit-learn>=0.20.0 in /usr/local/lib/python3.7/dist-packages (from category_encoders) (1.0.2)\n",
            "Requirement already satisfied: scipy>=1.0.0 in /usr/local/lib/python3.7/dist-packages (from category_encoders) (1.7.3)\n",
            "Requirement already satisfied: pandas>=1.0.5 in /usr/local/lib/python3.7/dist-packages (from category_encoders) (1.3.5)\n",
            "Requirement already satisfied: patsy>=0.5.1 in /usr/local/lib/python3.7/dist-packages (from category_encoders) (0.5.2)\n",
            "Requirement already satisfied: statsmodels>=0.9.0 in /usr/local/lib/python3.7/dist-packages (from category_encoders) (0.10.2)\n",
            "Requirement already satisfied: numpy>=1.14.0 in /usr/local/lib/python3.7/dist-packages (from category_encoders) (1.21.6)\n",
            "Requirement already satisfied: pytz>=2017.3 in /usr/local/lib/python3.7/dist-packages (from pandas>=1.0.5->category_encoders) (2022.1)\n",
            "Requirement already satisfied: python-dateutil>=2.7.3 in /usr/local/lib/python3.7/dist-packages (from pandas>=1.0.5->category_encoders) (2.8.2)\n",
            "Requirement already satisfied: six in /usr/local/lib/python3.7/dist-packages (from patsy>=0.5.1->category_encoders) (1.15.0)\n",
            "Requirement already satisfied: joblib>=0.11 in /usr/local/lib/python3.7/dist-packages (from scikit-learn>=0.20.0->category_encoders) (1.1.0)\n",
            "Requirement already satisfied: threadpoolctl>=2.0.0 in /usr/local/lib/python3.7/dist-packages (from scikit-learn>=0.20.0->category_encoders) (3.1.0)\n"
          ]
        }
      ],
      "source": [
        "!pip install category_encoders\n",
        "import category_encoders as ce"
      ],
      "id": "roB3emNJA80o"
    },
    {
      "cell_type": "code",
      "execution_count": null,
      "metadata": {
        "id": "up92-9bY7hyA"
      },
      "outputs": [],
      "source": [
        "one_hot_encoded_df = train.copy()\n",
        "# one_hot_encoded_df0['term'] = one_hot_encoded_df0['term'].map((lambda x: x.strip(' months'))).astype(str).astype(int)\n",
        "# one_hot_encoded_df = one_hot_encoded_df.rename(columns={'term':'term (in months)'})\n",
        "\n",
        "encoder=ce.OneHotEncoder(cols= ['term', 'grade', 'home_ownership', 'verification_status', \n",
        "                                   'purpose', 'initial_list_status'], use_cat_names=True) \n",
        "                                  \n",
        "\n",
        "\n",
        "# Dropping unnecessary features\n",
        "one_hot_encoded_df.drop(['member_id', 'batch_enrolled', 'sub_grade', 'emp_title', 'pymnt_plan', 'desc', \n",
        "                         'title', 'zip_code', 'addr_state', 'application_type', 'verification_status_joint'], axis=1, inplace= True)\n",
        "\n",
        "# Numerical Features\n",
        "one_hot_encoded_df[['total_rev_hi_lim','int_rate', 'annual_inc', 'dti', 'delinq_2yrs', 'inq_last_6mths', 'open_acc', 'revol_bal',\n",
        "         'revol_util', 'total_acc', 'total_rec_int', 'tot_cur_bal', 'total_rec_late_fee', 'recoveries',\n",
        "         'collection_recovery_fee','collections_12_mths_ex_med','acc_now_delinq', 'funded_amnt_inv']]  =   one_hot_encoded_df[['total_rev_hi_lim','int_rate', 'annual_inc', 'dti', 'delinq_2yrs', 'inq_last_6mths', 'open_acc', 'revol_bal',\n",
        "                    'revol_util', 'total_acc', 'total_rec_int', 'tot_cur_bal', 'total_rec_late_fee', 'recoveries',\n",
        "                    'collection_recovery_fee','collections_12_mths_ex_med','acc_now_delinq', 'funded_amnt_inv']].fillna(one_hot_encoded_df[\n",
        "                        ['total_rev_hi_lim','int_rate', \n",
        "                            'annual_inc', 'dti', 'delinq_2yrs',\n",
        "                            'inq_last_6mths', 'open_acc', 'revol_bal',\n",
        "                            'revol_util', 'total_acc', 'total_rec_int', \n",
        "                            'tot_cur_bal', 'total_rec_late_fee', 'recoveries',\n",
        "                            'collection_recovery_fee','collections_12_mths_ex_med',\n",
        "                            'acc_now_delinq', 'funded_amnt_inv']].mean()).astype(float). astype(int)\n",
        "\n",
        "\n",
        "\n",
        "\n",
        "zero_imputation_cols =['delinq_2yrs','inq_last_6mths','collections_12_mths_ex_med','mths_since_last_major_derog','acc_now_delinq']\n",
        "\n",
        "median_imputation_cols =['emp_length','annual_inc','open_acc','pub_rec','revol_util','total_acc','mths_since_last_delinq','mths_since_last_record','tot_coll_amt',\n",
        "'tot_cur_bal','total_rev_hi_lim']\n",
        "\n",
        "\n",
        "one_hot_encoded_df['purpose'].replace(['other', 'major_purchase', 'small_business', 'medical','car', \n",
        "                          'moving', 'vacation', 'house', 'wedding', 'renewable_energy', \n",
        "                          'educational'], 'Other', inplace=True)\n",
        "one_hot_encoded_df.replace(['OTHER','NONE','ANY'],'OTHERS',inplace=True)\n",
        "one_hot_encoded_df['last_week_pay'].replace(to_replace=['th week'], value='', regex=True,inplace= True)\n",
        "one_hot_encoded_df['last_week_pay'].replace('NA', value= 0,inplace= True)\n",
        "\n",
        "one_hot_encoded_df['last_week_pay']=pd.to_numeric(one_hot_encoded_df.last_week_pay)\n",
        "one_hot_encoded_df['term'] = one_hot_encoded_df['term'].map((lambda x: x.strip(' months'))).astype(str)\n",
        "\n",
        "one_hot_encoded_df['term']=pd.to_numeric(one_hot_encoded_df['term'])\n",
        "# print(one_hot_encoded_df.info())\n",
        "one_hot_encoded_df['emp_length'].replace(to_replace=['< 1 year','1 year','2 years','3 years','4 years','5 years',  \n",
        "                                          '6 years','7 years','8 years','9 years','10+ years'],\n",
        "                                         value = ['1','1','2','3','4','5','6','7','8','9','10'],inplace=True)\n",
        "one_hot_encoded_df['emp_length']=pd.to_numeric(one_hot_encoded_df.emp_length)\n",
        "\n",
        "\n",
        "for col in zero_imputation_cols:\n",
        "    one_hot_encoded_df[col].fillna(0, inplace=True)\n",
        "\n",
        "for col in median_imputation_cols:    \n",
        "    one_hot_encoded_df[col].fillna(one_hot_encoded_df[col].median(), inplace=True)\n",
        "\n",
        "x = encoder.fit_transform(one_hot_encoded_df)\n"
      ],
      "id": "up92-9bY7hyA"
    },
    {
      "cell_type": "code",
      "execution_count": null,
      "metadata": {
        "id": "T9LJRpi_HXVh",
        "colab": {
          "base_uri": "https://localhost:8080/"
        },
        "outputId": "3ce52b9f-24cb-42d4-a6ec-d853df2e8e71"
      },
      "outputs": [
        {
          "output_type": "execute_result",
          "data": {
            "text/plain": [
              "<bound method Series.count of 0          9.0\n",
              "1          1.0\n",
              "2          2.0\n",
              "3         10.0\n",
              "4         10.0\n",
              "          ... \n",
              "304983     1.0\n",
              "304984     1.0\n",
              "304985    10.0\n",
              "304986     1.0\n",
              "304987     1.0\n",
              "Name: emp_length, Length: 304988, dtype: float64>"
            ]
          },
          "metadata": {},
          "execution_count": 58
        }
      ],
      "source": [
        "x['emp_length'].count"
      ],
      "id": "T9LJRpi_HXVh"
    },
    {
      "cell_type": "code",
      "execution_count": null,
      "metadata": {
        "id": "ipMH223VAwFu",
        "colab": {
          "base_uri": "https://localhost:8080/"
        },
        "outputId": "53ef5777-7814-42f1-adfa-1a3422f32f01"
      },
      "outputs": [
        {
          "output_type": "execute_result",
          "data": {
            "text/plain": [
              "{int64: ['loan_amnt', 'funded_amnt', 'funded_amnt_inv', 'term_36.0', 'term_60.0', 'int_rate', 'grade_E', 'grade_B', 'grade_A', 'grade_D', 'grade_C', 'grade_F', 'grade_G', 'home_ownership_OWN', 'home_ownership_MORTGAGE', 'home_ownership_RENT', 'home_ownership_OTHERS', 'annual_inc', 'verification_status_Source Verified', 'verification_status_Not Verified', 'verification_status_Verified', 'purpose_debt_consolidation', 'purpose_home_improvement', 'purpose_credit_card', 'purpose_Other', 'purpose_nan', 'dti', 'delinq_2yrs', 'inq_last_6mths', 'open_acc', 'revol_bal', 'revol_util', 'total_acc', 'initial_list_status_f', 'initial_list_status_w', 'initial_list_status_nan', 'total_rec_int', 'total_rec_late_fee', 'recoveries', 'collection_recovery_fee', 'collections_12_mths_ex_med', 'acc_now_delinq', 'tot_cur_bal', 'total_rev_hi_lim'], float64: ['emp_length', 'mths_since_last_delinq', 'mths_since_last_record', 'pub_rec', 'mths_since_last_major_derog', 'last_week_pay', 'tot_coll_amt', 'loan_status']}"
            ]
          },
          "metadata": {},
          "execution_count": 59
        }
      ],
      "source": [
        "x.columns.groupby(x.dtypes)"
      ],
      "id": "ipMH223VAwFu"
    },
    {
      "cell_type": "code",
      "execution_count": null,
      "metadata": {
        "id": "yq9c0xHEyAkH"
      },
      "outputs": [],
      "source": [
        "x.dropna(inplace= True)\n",
        "x = x.reset_index(drop = True)"
      ],
      "id": "yq9c0xHEyAkH"
    },
    {
      "cell_type": "code",
      "source": [
        "x.isna().sum()"
      ],
      "metadata": {
        "colab": {
          "base_uri": "https://localhost:8080/"
        },
        "id": "QEO2dfNY9DOT",
        "outputId": "f922747e-5d73-41ae-bece-088f6d4f53be"
      },
      "id": "QEO2dfNY9DOT",
      "execution_count": null,
      "outputs": [
        {
          "output_type": "execute_result",
          "data": {
            "text/plain": [
              "loan_amnt                              0\n",
              "funded_amnt                            0\n",
              "funded_amnt_inv                        0\n",
              "term_36.0                              0\n",
              "term_60.0                              0\n",
              "int_rate                               0\n",
              "grade_E                                0\n",
              "grade_B                                0\n",
              "grade_A                                0\n",
              "grade_D                                0\n",
              "grade_C                                0\n",
              "grade_F                                0\n",
              "grade_G                                0\n",
              "emp_length                             0\n",
              "home_ownership_OWN                     0\n",
              "home_ownership_MORTGAGE                0\n",
              "home_ownership_RENT                    0\n",
              "home_ownership_OTHERS                  0\n",
              "annual_inc                             0\n",
              "verification_status_Source Verified    0\n",
              "verification_status_Not Verified       0\n",
              "verification_status_Verified           0\n",
              "purpose_debt_consolidation             0\n",
              "purpose_home_improvement               0\n",
              "purpose_credit_card                    0\n",
              "purpose_Other                          0\n",
              "purpose_nan                            0\n",
              "dti                                    0\n",
              "delinq_2yrs                            0\n",
              "inq_last_6mths                         0\n",
              "mths_since_last_delinq                 0\n",
              "mths_since_last_record                 0\n",
              "open_acc                               0\n",
              "pub_rec                                0\n",
              "revol_bal                              0\n",
              "revol_util                             0\n",
              "total_acc                              0\n",
              "initial_list_status_f                  0\n",
              "initial_list_status_w                  0\n",
              "initial_list_status_nan                0\n",
              "total_rec_int                          0\n",
              "total_rec_late_fee                     0\n",
              "recoveries                             0\n",
              "collection_recovery_fee                0\n",
              "collections_12_mths_ex_med             0\n",
              "mths_since_last_major_derog            0\n",
              "last_week_pay                          0\n",
              "acc_now_delinq                         0\n",
              "tot_coll_amt                           0\n",
              "tot_cur_bal                            0\n",
              "total_rev_hi_lim                       0\n",
              "loan_status                            0\n",
              "dtype: int64"
            ]
          },
          "metadata": {},
          "execution_count": 61
        }
      ]
    },
    {
      "cell_type": "markdown",
      "metadata": {
        "id": "bfef27d1"
      },
      "source": [
        "# Machine Learning Models"
      ],
      "id": "bfef27d1"
    },
    {
      "cell_type": "code",
      "execution_count": null,
      "metadata": {
        "id": "_AjGhom4m9av"
      },
      "outputs": [],
      "source": [
        "from sklearn.metrics import confusion_matrix, classification_report, accuracy_score\n",
        "from sklearn.model_selection import KFold\n",
        "from sklearn.model_selection import cross_val_score\n",
        "\n",
        "kfold = KFold(n_splits=10, random_state=7, shuffle=True)"
      ],
      "id": "_AjGhom4m9av"
    },
    {
      "cell_type": "markdown",
      "metadata": {
        "id": "45a161d1"
      },
      "source": [
        "## Splitting Data into Testing and Training set"
      ],
      "id": "45a161d1"
    },
    {
      "cell_type": "code",
      "execution_count": null,
      "metadata": {
        "id": "44ceab76",
        "colab": {
          "base_uri": "https://localhost:8080/"
        },
        "outputId": "a43045fc-aa45-4ce8-883f-995041146aee"
      },
      "outputs": [
        {
          "output_type": "stream",
          "name": "stdout",
          "text": [
            "<class 'pandas.core.frame.DataFrame'>\n",
            "RangeIndex: 304987 entries, 0 to 304986\n",
            "Data columns (total 52 columns):\n",
            " #   Column                               Non-Null Count   Dtype  \n",
            "---  ------                               --------------   -----  \n",
            " 0   loan_amnt                            304987 non-null  int64  \n",
            " 1   funded_amnt                          304987 non-null  int64  \n",
            " 2   funded_amnt_inv                      304987 non-null  int64  \n",
            " 3   term_36.0                            304987 non-null  int64  \n",
            " 4   term_60.0                            304987 non-null  int64  \n",
            " 5   int_rate                             304987 non-null  int64  \n",
            " 6   grade_E                              304987 non-null  int64  \n",
            " 7   grade_B                              304987 non-null  int64  \n",
            " 8   grade_A                              304987 non-null  int64  \n",
            " 9   grade_D                              304987 non-null  int64  \n",
            " 10  grade_C                              304987 non-null  int64  \n",
            " 11  grade_F                              304987 non-null  int64  \n",
            " 12  grade_G                              304987 non-null  int64  \n",
            " 13  emp_length                           304987 non-null  float64\n",
            " 14  home_ownership_OWN                   304987 non-null  int64  \n",
            " 15  home_ownership_MORTGAGE              304987 non-null  int64  \n",
            " 16  home_ownership_RENT                  304987 non-null  int64  \n",
            " 17  home_ownership_OTHERS                304987 non-null  int64  \n",
            " 18  annual_inc                           304987 non-null  int64  \n",
            " 19  verification_status_Source Verified  304987 non-null  int64  \n",
            " 20  verification_status_Not Verified     304987 non-null  int64  \n",
            " 21  verification_status_Verified         304987 non-null  int64  \n",
            " 22  purpose_debt_consolidation           304987 non-null  int64  \n",
            " 23  purpose_home_improvement             304987 non-null  int64  \n",
            " 24  purpose_credit_card                  304987 non-null  int64  \n",
            " 25  purpose_Other                        304987 non-null  int64  \n",
            " 26  purpose_nan                          304987 non-null  int64  \n",
            " 27  dti                                  304987 non-null  int64  \n",
            " 28  delinq_2yrs                          304987 non-null  int64  \n",
            " 29  inq_last_6mths                       304987 non-null  int64  \n",
            " 30  mths_since_last_delinq               304987 non-null  float64\n",
            " 31  mths_since_last_record               304987 non-null  float64\n",
            " 32  open_acc                             304987 non-null  int64  \n",
            " 33  pub_rec                              304987 non-null  float64\n",
            " 34  revol_bal                            304987 non-null  int64  \n",
            " 35  revol_util                           304987 non-null  int64  \n",
            " 36  total_acc                            304987 non-null  int64  \n",
            " 37  initial_list_status_f                304987 non-null  int64  \n",
            " 38  initial_list_status_w                304987 non-null  int64  \n",
            " 39  initial_list_status_nan              304987 non-null  int64  \n",
            " 40  total_rec_int                        304987 non-null  int64  \n",
            " 41  total_rec_late_fee                   304987 non-null  int64  \n",
            " 42  recoveries                           304987 non-null  int64  \n",
            " 43  collection_recovery_fee              304987 non-null  int64  \n",
            " 44  collections_12_mths_ex_med           304987 non-null  int64  \n",
            " 45  mths_since_last_major_derog          304987 non-null  float64\n",
            " 46  last_week_pay                        304987 non-null  float64\n",
            " 47  acc_now_delinq                       304987 non-null  int64  \n",
            " 48  tot_coll_amt                         304987 non-null  float64\n",
            " 49  tot_cur_bal                          304987 non-null  int64  \n",
            " 50  total_rev_hi_lim                     304987 non-null  int64  \n",
            " 51  loan_status                          304987 non-null  float64\n",
            "dtypes: float64(8), int64(44)\n",
            "memory usage: 121.0 MB\n"
          ]
        }
      ],
      "source": [
        "final_data=x.copy()\n",
        "final_data.info()"
      ],
      "id": "44ceab76"
    },
    {
      "cell_type": "code",
      "execution_count": null,
      "metadata": {
        "id": "EaiknxRMLO6h",
        "colab": {
          "base_uri": "https://localhost:8080/"
        },
        "outputId": "d1b9f936-cd86-4b20-db64-748f00c7845f"
      },
      "outputs": [
        {
          "output_type": "execute_result",
          "data": {
            "text/plain": [
              "loan_amnt                              0\n",
              "funded_amnt                            0\n",
              "funded_amnt_inv                        0\n",
              "term_36.0                              0\n",
              "term_60.0                              0\n",
              "int_rate                               0\n",
              "grade_E                                0\n",
              "grade_B                                0\n",
              "grade_A                                0\n",
              "grade_D                                0\n",
              "grade_C                                0\n",
              "grade_F                                0\n",
              "grade_G                                0\n",
              "emp_length                             0\n",
              "home_ownership_OWN                     0\n",
              "home_ownership_MORTGAGE                0\n",
              "home_ownership_RENT                    0\n",
              "home_ownership_OTHERS                  0\n",
              "annual_inc                             0\n",
              "verification_status_Source Verified    0\n",
              "verification_status_Not Verified       0\n",
              "verification_status_Verified           0\n",
              "purpose_debt_consolidation             0\n",
              "purpose_home_improvement               0\n",
              "purpose_credit_card                    0\n",
              "purpose_Other                          0\n",
              "purpose_nan                            0\n",
              "dti                                    0\n",
              "delinq_2yrs                            0\n",
              "inq_last_6mths                         0\n",
              "mths_since_last_delinq                 0\n",
              "mths_since_last_record                 0\n",
              "open_acc                               0\n",
              "pub_rec                                0\n",
              "revol_bal                              0\n",
              "revol_util                             0\n",
              "total_acc                              0\n",
              "initial_list_status_f                  0\n",
              "initial_list_status_w                  0\n",
              "initial_list_status_nan                0\n",
              "total_rec_int                          0\n",
              "total_rec_late_fee                     0\n",
              "recoveries                             0\n",
              "collection_recovery_fee                0\n",
              "collections_12_mths_ex_med             0\n",
              "mths_since_last_major_derog            0\n",
              "last_week_pay                          0\n",
              "acc_now_delinq                         0\n",
              "tot_coll_amt                           0\n",
              "tot_cur_bal                            0\n",
              "total_rev_hi_lim                       0\n",
              "loan_status                            0\n",
              "dtype: int64"
            ]
          },
          "metadata": {},
          "execution_count": 64
        }
      ],
      "source": [
        "final_data.isna().sum()"
      ],
      "id": "EaiknxRMLO6h"
    },
    {
      "cell_type": "code",
      "execution_count": null,
      "metadata": {
        "id": "659051e1",
        "colab": {
          "base_uri": "https://localhost:8080/"
        },
        "outputId": "1f99ed74-1d07-401f-d9a4-afb1069da033"
      },
      "outputs": [
        {
          "output_type": "execute_result",
          "data": {
            "text/plain": [
              "           loan_amnt    funded_amnt  funded_amnt_inv      term_36.0  \\\n",
              "count  304987.000000  304987.000000    304987.000000  304987.000000   \n",
              "mean    14747.980734   14734.407286     14694.705217       0.699935   \n",
              "std      8425.095520    8419.243615      8431.794818       0.458287   \n",
              "min       500.000000     500.000000         0.000000       0.000000   \n",
              "25%      8000.000000    8000.000000      8000.000000       0.000000   \n",
              "50%     13000.000000   13000.000000     13000.000000       1.000000   \n",
              "75%     20000.000000   20000.000000     20000.000000       1.000000   \n",
              "max     35000.000000   35000.000000     35000.000000       1.000000   \n",
              "\n",
              "           term_60.0       int_rate        grade_E        grade_B  \\\n",
              "count  304987.000000  304987.000000  304987.000000  304987.000000   \n",
              "mean        0.300065      12.665261       0.079394       0.286648   \n",
              "std         0.458287       4.361213       0.270352       0.452197   \n",
              "min         0.000000       5.000000       0.000000       0.000000   \n",
              "25%         0.000000       9.000000       0.000000       0.000000   \n",
              "50%         0.000000      12.000000       0.000000       0.000000   \n",
              "75%         1.000000      16.000000       0.000000       1.000000   \n",
              "max         1.000000      28.000000       1.000000       1.000000   \n",
              "\n",
              "             grade_A        grade_D  ...  total_rec_late_fee     recoveries  \\\n",
              "count  304987.000000  304987.000000  ...       304987.000000  304987.000000   \n",
              "mean        0.167138       0.156895  ...            0.395459      45.271821   \n",
              "std         0.373100       0.363703  ...            4.135961     399.298485   \n",
              "min         0.000000       0.000000  ...            0.000000       0.000000   \n",
              "25%         0.000000       0.000000  ...            0.000000       0.000000   \n",
              "50%         0.000000       0.000000  ...            0.000000       0.000000   \n",
              "75%         0.000000       0.000000  ...            0.000000       0.000000   \n",
              "max         1.000000       1.000000  ...          358.000000   29623.000000   \n",
              "\n",
              "       collection_recovery_fee  collections_12_mths_ex_med  \\\n",
              "count            304987.000000               304987.000000   \n",
              "mean                  4.749576                    0.014184   \n",
              "std                  59.632118                    0.132478   \n",
              "min                   0.000000                    0.000000   \n",
              "25%                   0.000000                    0.000000   \n",
              "50%                   0.000000                    0.000000   \n",
              "75%                   0.000000                    0.000000   \n",
              "max                7002.000000                   16.000000   \n",
              "\n",
              "       mths_since_last_major_derog  last_week_pay  acc_now_delinq  \\\n",
              "count                304987.000000  304987.000000   304987.000000   \n",
              "mean                     11.016886      56.949349        0.005056   \n",
              "std                      22.060968      44.635838        0.077930   \n",
              "min                       0.000000       0.000000        0.000000   \n",
              "25%                       0.000000      22.000000        0.000000   \n",
              "50%                       0.000000      48.000000        0.000000   \n",
              "75%                       1.000000      83.000000        0.000000   \n",
              "max                     180.000000     300.000000        5.000000   \n",
              "\n",
              "        tot_coll_amt   tot_cur_bal  total_rev_hi_lim  \n",
              "count  304987.000000  3.049870e+05      3.049870e+05  \n",
              "mean      196.854197  1.394633e+05      3.204436e+04  \n",
              "std      1926.421006  1.468739e+05      3.554495e+04  \n",
              "min         0.000000  0.000000e+00      0.000000e+00  \n",
              "25%         0.000000  3.219150e+04      1.470000e+04  \n",
              "50%         0.000000  9.994000e+04      2.580000e+04  \n",
              "75%         0.000000  1.958040e+05      3.790000e+04  \n",
              "max    496651.000000  3.840795e+06      9.999999e+06  \n",
              "\n",
              "[8 rows x 51 columns]"
            ],
            "text/html": [
              "\n",
              "  <div id=\"df-3f7cef25-90b6-4a17-9170-501d65e870c3\">\n",
              "    <div class=\"colab-df-container\">\n",
              "      <div>\n",
              "<style scoped>\n",
              "    .dataframe tbody tr th:only-of-type {\n",
              "        vertical-align: middle;\n",
              "    }\n",
              "\n",
              "    .dataframe tbody tr th {\n",
              "        vertical-align: top;\n",
              "    }\n",
              "\n",
              "    .dataframe thead th {\n",
              "        text-align: right;\n",
              "    }\n",
              "</style>\n",
              "<table border=\"1\" class=\"dataframe\">\n",
              "  <thead>\n",
              "    <tr style=\"text-align: right;\">\n",
              "      <th></th>\n",
              "      <th>loan_amnt</th>\n",
              "      <th>funded_amnt</th>\n",
              "      <th>funded_amnt_inv</th>\n",
              "      <th>term_36.0</th>\n",
              "      <th>term_60.0</th>\n",
              "      <th>int_rate</th>\n",
              "      <th>grade_E</th>\n",
              "      <th>grade_B</th>\n",
              "      <th>grade_A</th>\n",
              "      <th>grade_D</th>\n",
              "      <th>...</th>\n",
              "      <th>total_rec_late_fee</th>\n",
              "      <th>recoveries</th>\n",
              "      <th>collection_recovery_fee</th>\n",
              "      <th>collections_12_mths_ex_med</th>\n",
              "      <th>mths_since_last_major_derog</th>\n",
              "      <th>last_week_pay</th>\n",
              "      <th>acc_now_delinq</th>\n",
              "      <th>tot_coll_amt</th>\n",
              "      <th>tot_cur_bal</th>\n",
              "      <th>total_rev_hi_lim</th>\n",
              "    </tr>\n",
              "  </thead>\n",
              "  <tbody>\n",
              "    <tr>\n",
              "      <th>count</th>\n",
              "      <td>304987.000000</td>\n",
              "      <td>304987.000000</td>\n",
              "      <td>304987.000000</td>\n",
              "      <td>304987.000000</td>\n",
              "      <td>304987.000000</td>\n",
              "      <td>304987.000000</td>\n",
              "      <td>304987.000000</td>\n",
              "      <td>304987.000000</td>\n",
              "      <td>304987.000000</td>\n",
              "      <td>304987.000000</td>\n",
              "      <td>...</td>\n",
              "      <td>304987.000000</td>\n",
              "      <td>304987.000000</td>\n",
              "      <td>304987.000000</td>\n",
              "      <td>304987.000000</td>\n",
              "      <td>304987.000000</td>\n",
              "      <td>304987.000000</td>\n",
              "      <td>304987.000000</td>\n",
              "      <td>304987.000000</td>\n",
              "      <td>3.049870e+05</td>\n",
              "      <td>3.049870e+05</td>\n",
              "    </tr>\n",
              "    <tr>\n",
              "      <th>mean</th>\n",
              "      <td>14747.980734</td>\n",
              "      <td>14734.407286</td>\n",
              "      <td>14694.705217</td>\n",
              "      <td>0.699935</td>\n",
              "      <td>0.300065</td>\n",
              "      <td>12.665261</td>\n",
              "      <td>0.079394</td>\n",
              "      <td>0.286648</td>\n",
              "      <td>0.167138</td>\n",
              "      <td>0.156895</td>\n",
              "      <td>...</td>\n",
              "      <td>0.395459</td>\n",
              "      <td>45.271821</td>\n",
              "      <td>4.749576</td>\n",
              "      <td>0.014184</td>\n",
              "      <td>11.016886</td>\n",
              "      <td>56.949349</td>\n",
              "      <td>0.005056</td>\n",
              "      <td>196.854197</td>\n",
              "      <td>1.394633e+05</td>\n",
              "      <td>3.204436e+04</td>\n",
              "    </tr>\n",
              "    <tr>\n",
              "      <th>std</th>\n",
              "      <td>8425.095520</td>\n",
              "      <td>8419.243615</td>\n",
              "      <td>8431.794818</td>\n",
              "      <td>0.458287</td>\n",
              "      <td>0.458287</td>\n",
              "      <td>4.361213</td>\n",
              "      <td>0.270352</td>\n",
              "      <td>0.452197</td>\n",
              "      <td>0.373100</td>\n",
              "      <td>0.363703</td>\n",
              "      <td>...</td>\n",
              "      <td>4.135961</td>\n",
              "      <td>399.298485</td>\n",
              "      <td>59.632118</td>\n",
              "      <td>0.132478</td>\n",
              "      <td>22.060968</td>\n",
              "      <td>44.635838</td>\n",
              "      <td>0.077930</td>\n",
              "      <td>1926.421006</td>\n",
              "      <td>1.468739e+05</td>\n",
              "      <td>3.554495e+04</td>\n",
              "    </tr>\n",
              "    <tr>\n",
              "      <th>min</th>\n",
              "      <td>500.000000</td>\n",
              "      <td>500.000000</td>\n",
              "      <td>0.000000</td>\n",
              "      <td>0.000000</td>\n",
              "      <td>0.000000</td>\n",
              "      <td>5.000000</td>\n",
              "      <td>0.000000</td>\n",
              "      <td>0.000000</td>\n",
              "      <td>0.000000</td>\n",
              "      <td>0.000000</td>\n",
              "      <td>...</td>\n",
              "      <td>0.000000</td>\n",
              "      <td>0.000000</td>\n",
              "      <td>0.000000</td>\n",
              "      <td>0.000000</td>\n",
              "      <td>0.000000</td>\n",
              "      <td>0.000000</td>\n",
              "      <td>0.000000</td>\n",
              "      <td>0.000000</td>\n",
              "      <td>0.000000e+00</td>\n",
              "      <td>0.000000e+00</td>\n",
              "    </tr>\n",
              "    <tr>\n",
              "      <th>25%</th>\n",
              "      <td>8000.000000</td>\n",
              "      <td>8000.000000</td>\n",
              "      <td>8000.000000</td>\n",
              "      <td>0.000000</td>\n",
              "      <td>0.000000</td>\n",
              "      <td>9.000000</td>\n",
              "      <td>0.000000</td>\n",
              "      <td>0.000000</td>\n",
              "      <td>0.000000</td>\n",
              "      <td>0.000000</td>\n",
              "      <td>...</td>\n",
              "      <td>0.000000</td>\n",
              "      <td>0.000000</td>\n",
              "      <td>0.000000</td>\n",
              "      <td>0.000000</td>\n",
              "      <td>0.000000</td>\n",
              "      <td>22.000000</td>\n",
              "      <td>0.000000</td>\n",
              "      <td>0.000000</td>\n",
              "      <td>3.219150e+04</td>\n",
              "      <td>1.470000e+04</td>\n",
              "    </tr>\n",
              "    <tr>\n",
              "      <th>50%</th>\n",
              "      <td>13000.000000</td>\n",
              "      <td>13000.000000</td>\n",
              "      <td>13000.000000</td>\n",
              "      <td>1.000000</td>\n",
              "      <td>0.000000</td>\n",
              "      <td>12.000000</td>\n",
              "      <td>0.000000</td>\n",
              "      <td>0.000000</td>\n",
              "      <td>0.000000</td>\n",
              "      <td>0.000000</td>\n",
              "      <td>...</td>\n",
              "      <td>0.000000</td>\n",
              "      <td>0.000000</td>\n",
              "      <td>0.000000</td>\n",
              "      <td>0.000000</td>\n",
              "      <td>0.000000</td>\n",
              "      <td>48.000000</td>\n",
              "      <td>0.000000</td>\n",
              "      <td>0.000000</td>\n",
              "      <td>9.994000e+04</td>\n",
              "      <td>2.580000e+04</td>\n",
              "    </tr>\n",
              "    <tr>\n",
              "      <th>75%</th>\n",
              "      <td>20000.000000</td>\n",
              "      <td>20000.000000</td>\n",
              "      <td>20000.000000</td>\n",
              "      <td>1.000000</td>\n",
              "      <td>1.000000</td>\n",
              "      <td>16.000000</td>\n",
              "      <td>0.000000</td>\n",
              "      <td>1.000000</td>\n",
              "      <td>0.000000</td>\n",
              "      <td>0.000000</td>\n",
              "      <td>...</td>\n",
              "      <td>0.000000</td>\n",
              "      <td>0.000000</td>\n",
              "      <td>0.000000</td>\n",
              "      <td>0.000000</td>\n",
              "      <td>1.000000</td>\n",
              "      <td>83.000000</td>\n",
              "      <td>0.000000</td>\n",
              "      <td>0.000000</td>\n",
              "      <td>1.958040e+05</td>\n",
              "      <td>3.790000e+04</td>\n",
              "    </tr>\n",
              "    <tr>\n",
              "      <th>max</th>\n",
              "      <td>35000.000000</td>\n",
              "      <td>35000.000000</td>\n",
              "      <td>35000.000000</td>\n",
              "      <td>1.000000</td>\n",
              "      <td>1.000000</td>\n",
              "      <td>28.000000</td>\n",
              "      <td>1.000000</td>\n",
              "      <td>1.000000</td>\n",
              "      <td>1.000000</td>\n",
              "      <td>1.000000</td>\n",
              "      <td>...</td>\n",
              "      <td>358.000000</td>\n",
              "      <td>29623.000000</td>\n",
              "      <td>7002.000000</td>\n",
              "      <td>16.000000</td>\n",
              "      <td>180.000000</td>\n",
              "      <td>300.000000</td>\n",
              "      <td>5.000000</td>\n",
              "      <td>496651.000000</td>\n",
              "      <td>3.840795e+06</td>\n",
              "      <td>9.999999e+06</td>\n",
              "    </tr>\n",
              "  </tbody>\n",
              "</table>\n",
              "<p>8 rows × 51 columns</p>\n",
              "</div>\n",
              "      <button class=\"colab-df-convert\" onclick=\"convertToInteractive('df-3f7cef25-90b6-4a17-9170-501d65e870c3')\"\n",
              "              title=\"Convert this dataframe to an interactive table.\"\n",
              "              style=\"display:none;\">\n",
              "        \n",
              "  <svg xmlns=\"http://www.w3.org/2000/svg\" height=\"24px\"viewBox=\"0 0 24 24\"\n",
              "       width=\"24px\">\n",
              "    <path d=\"M0 0h24v24H0V0z\" fill=\"none\"/>\n",
              "    <path d=\"M18.56 5.44l.94 2.06.94-2.06 2.06-.94-2.06-.94-.94-2.06-.94 2.06-2.06.94zm-11 1L8.5 8.5l.94-2.06 2.06-.94-2.06-.94L8.5 2.5l-.94 2.06-2.06.94zm10 10l.94 2.06.94-2.06 2.06-.94-2.06-.94-.94-2.06-.94 2.06-2.06.94z\"/><path d=\"M17.41 7.96l-1.37-1.37c-.4-.4-.92-.59-1.43-.59-.52 0-1.04.2-1.43.59L10.3 9.45l-7.72 7.72c-.78.78-.78 2.05 0 2.83L4 21.41c.39.39.9.59 1.41.59.51 0 1.02-.2 1.41-.59l7.78-7.78 2.81-2.81c.8-.78.8-2.07 0-2.86zM5.41 20L4 18.59l7.72-7.72 1.47 1.35L5.41 20z\"/>\n",
              "  </svg>\n",
              "      </button>\n",
              "      \n",
              "  <style>\n",
              "    .colab-df-container {\n",
              "      display:flex;\n",
              "      flex-wrap:wrap;\n",
              "      gap: 12px;\n",
              "    }\n",
              "\n",
              "    .colab-df-convert {\n",
              "      background-color: #E8F0FE;\n",
              "      border: none;\n",
              "      border-radius: 50%;\n",
              "      cursor: pointer;\n",
              "      display: none;\n",
              "      fill: #1967D2;\n",
              "      height: 32px;\n",
              "      padding: 0 0 0 0;\n",
              "      width: 32px;\n",
              "    }\n",
              "\n",
              "    .colab-df-convert:hover {\n",
              "      background-color: #E2EBFA;\n",
              "      box-shadow: 0px 1px 2px rgba(60, 64, 67, 0.3), 0px 1px 3px 1px rgba(60, 64, 67, 0.15);\n",
              "      fill: #174EA6;\n",
              "    }\n",
              "\n",
              "    [theme=dark] .colab-df-convert {\n",
              "      background-color: #3B4455;\n",
              "      fill: #D2E3FC;\n",
              "    }\n",
              "\n",
              "    [theme=dark] .colab-df-convert:hover {\n",
              "      background-color: #434B5C;\n",
              "      box-shadow: 0px 1px 3px 1px rgba(0, 0, 0, 0.15);\n",
              "      filter: drop-shadow(0px 1px 2px rgba(0, 0, 0, 0.3));\n",
              "      fill: #FFFFFF;\n",
              "    }\n",
              "  </style>\n",
              "\n",
              "      <script>\n",
              "        const buttonEl =\n",
              "          document.querySelector('#df-3f7cef25-90b6-4a17-9170-501d65e870c3 button.colab-df-convert');\n",
              "        buttonEl.style.display =\n",
              "          google.colab.kernel.accessAllowed ? 'block' : 'none';\n",
              "\n",
              "        async function convertToInteractive(key) {\n",
              "          const element = document.querySelector('#df-3f7cef25-90b6-4a17-9170-501d65e870c3');\n",
              "          const dataTable =\n",
              "            await google.colab.kernel.invokeFunction('convertToInteractive',\n",
              "                                                     [key], {});\n",
              "          if (!dataTable) return;\n",
              "\n",
              "          const docLinkHtml = 'Like what you see? Visit the ' +\n",
              "            '<a target=\"_blank\" href=https://colab.research.google.com/notebooks/data_table.ipynb>data table notebook</a>'\n",
              "            + ' to learn more about interactive tables.';\n",
              "          element.innerHTML = '';\n",
              "          dataTable['output_type'] = 'display_data';\n",
              "          await google.colab.output.renderOutput(dataTable, element);\n",
              "          const docLink = document.createElement('div');\n",
              "          docLink.innerHTML = docLinkHtml;\n",
              "          element.appendChild(docLink);\n",
              "        }\n",
              "      </script>\n",
              "    </div>\n",
              "  </div>\n",
              "  "
            ]
          },
          "metadata": {},
          "execution_count": 65
        }
      ],
      "source": [
        "X=final_data.drop('loan_status',axis=1)\n",
        "X.describe()"
      ],
      "id": "659051e1"
    },
    {
      "cell_type": "code",
      "execution_count": null,
      "metadata": {
        "id": "a71e0936"
      },
      "outputs": [],
      "source": [
        "y = final_data['loan_status']\n",
        "X=final_data.drop('loan_status',axis=1)\n",
        "y = final_data['loan_status']\n",
        "\n",
        "from sklearn.model_selection import train_test_split\n",
        "X_train,X_test,y_train,y_test=train_test_split(X,y,test_size=0.30,random_state=101)"
      ],
      "id": "a71e0936"
    },
    {
      "cell_type": "code",
      "execution_count": null,
      "metadata": {
        "id": "2Rg_--QozEij",
        "colab": {
          "base_uri": "https://localhost:8080/"
        },
        "outputId": "e0ae48e8-c9f3-43bf-9d6c-d66839193634"
      },
      "outputs": [
        {
          "output_type": "execute_result",
          "data": {
            "text/plain": [
              "loan_amnt                              0\n",
              "funded_amnt                            0\n",
              "funded_amnt_inv                        0\n",
              "term_36.0                              0\n",
              "term_60.0                              0\n",
              "int_rate                               0\n",
              "grade_E                                0\n",
              "grade_B                                0\n",
              "grade_A                                0\n",
              "grade_D                                0\n",
              "grade_C                                0\n",
              "grade_F                                0\n",
              "grade_G                                0\n",
              "emp_length                             0\n",
              "home_ownership_OWN                     0\n",
              "home_ownership_MORTGAGE                0\n",
              "home_ownership_RENT                    0\n",
              "home_ownership_OTHERS                  0\n",
              "annual_inc                             0\n",
              "verification_status_Source Verified    0\n",
              "verification_status_Not Verified       0\n",
              "verification_status_Verified           0\n",
              "purpose_debt_consolidation             0\n",
              "purpose_home_improvement               0\n",
              "purpose_credit_card                    0\n",
              "purpose_Other                          0\n",
              "purpose_nan                            0\n",
              "dti                                    0\n",
              "delinq_2yrs                            0\n",
              "inq_last_6mths                         0\n",
              "mths_since_last_delinq                 0\n",
              "mths_since_last_record                 0\n",
              "open_acc                               0\n",
              "pub_rec                                0\n",
              "revol_bal                              0\n",
              "revol_util                             0\n",
              "total_acc                              0\n",
              "initial_list_status_f                  0\n",
              "initial_list_status_w                  0\n",
              "initial_list_status_nan                0\n",
              "total_rec_int                          0\n",
              "total_rec_late_fee                     0\n",
              "recoveries                             0\n",
              "collection_recovery_fee                0\n",
              "collections_12_mths_ex_med             0\n",
              "mths_since_last_major_derog            0\n",
              "last_week_pay                          0\n",
              "acc_now_delinq                         0\n",
              "tot_coll_amt                           0\n",
              "tot_cur_bal                            0\n",
              "total_rev_hi_lim                       0\n",
              "dtype: int64"
            ]
          },
          "metadata": {},
          "execution_count": 67
        }
      ],
      "source": [
        "X_train.isnull().sum()\n"
      ],
      "id": "2Rg_--QozEij"
    },
    {
      "cell_type": "code",
      "execution_count": null,
      "metadata": {
        "id": "FDrvb_PAzET-"
      },
      "outputs": [],
      "source": [
        ""
      ],
      "id": "FDrvb_PAzET-"
    },
    {
      "cell_type": "markdown",
      "metadata": {
        "id": "ded66dae"
      },
      "source": [
        "## Logistic Regression Model"
      ],
      "id": "ded66dae"
    },
    {
      "cell_type": "code",
      "execution_count": null,
      "metadata": {
        "id": "b42a6642",
        "colab": {
          "base_uri": "https://localhost:8080/"
        },
        "outputId": "194e88f6-575c-48ca-9e79-e141a0e8dc03"
      },
      "outputs": [
        {
          "output_type": "stream",
          "name": "stderr",
          "text": [
            "/usr/local/lib/python3.7/dist-packages/sklearn/linear_model/_logistic.py:818: ConvergenceWarning: lbfgs failed to converge (status=1):\n",
            "STOP: TOTAL NO. of ITERATIONS REACHED LIMIT.\n",
            "\n",
            "Increase the number of iterations (max_iter) or scale the data as shown in:\n",
            "    https://scikit-learn.org/stable/modules/preprocessing.html\n",
            "Please also refer to the documentation for alternative solver options:\n",
            "    https://scikit-learn.org/stable/modules/linear_model.html#logistic-regression\n",
            "  extra_warning_msg=_LOGISTIC_SOLVER_CONVERGENCE_MSG,\n"
          ]
        },
        {
          "output_type": "execute_result",
          "data": {
            "text/plain": [
              "LogisticRegression()"
            ]
          },
          "metadata": {},
          "execution_count": 68
        }
      ],
      "source": [
        "from pandas import read_csv\n",
        "from sklearn.model_selection import train_test_split\n",
        "from sklearn.linear_model import LogisticRegression\n",
        "\n",
        "log_reg= LogisticRegression()\n",
        "log_reg.fit(X_train, y_train)"
      ],
      "id": "b42a6642"
    },
    {
      "cell_type": "markdown",
      "metadata": {
        "id": "Cf6cx9wrn68t"
      },
      "source": [
        "### Evaluating Logistic Regression"
      ],
      "id": "Cf6cx9wrn68t"
    },
    {
      "cell_type": "code",
      "execution_count": null,
      "metadata": {
        "id": "7YQ6IsVBn6mC",
        "colab": {
          "base_uri": "https://localhost:8080/"
        },
        "outputId": "6cdb6d7c-ce33-464e-b359-441aae1909c9"
      },
      "outputs": [
        {
          "output_type": "stream",
          "name": "stdout",
          "text": [
            "Confusion Matrix: [[69904   204]\n",
            " [20850   539]]\n",
            "Accuracy Score: 76.9894094888357\n"
          ]
        }
      ],
      "source": [
        "y_pred_logreg= log_reg.predict(X_test)\n",
        "print('Confusion Matrix:', confusion_matrix(y_test, y_pred_logreg))\n",
        "print('Accuracy Score:', accuracy_score(y_pred_logreg, y_test)*100)"
      ],
      "id": "7YQ6IsVBn6mC"
    },
    {
      "cell_type": "markdown",
      "metadata": {
        "id": "9d2cd933"
      },
      "source": [
        "### Performance Metrics - Cross Validation Evaluation metrics for regression:"
      ],
      "id": "9d2cd933"
    },
    {
      "cell_type": "markdown",
      "metadata": {
        "id": "4a87dc2c"
      },
      "source": [
        "#### Mean Absolute Error"
      ],
      "id": "4a87dc2c"
    },
    {
      "cell_type": "code",
      "execution_count": null,
      "metadata": {
        "id": "5863f77f",
        "scrolled": true,
        "colab": {
          "base_uri": "https://localhost:8080/"
        },
        "outputId": "b2ae370b-07c5-4589-dc37-cdc2dba58039"
      },
      "outputs": [
        {
          "output_type": "stream",
          "name": "stderr",
          "text": [
            "/usr/local/lib/python3.7/dist-packages/sklearn/linear_model/_logistic.py:818: ConvergenceWarning: lbfgs failed to converge (status=1):\n",
            "STOP: TOTAL NO. of ITERATIONS REACHED LIMIT.\n",
            "\n",
            "Increase the number of iterations (max_iter) or scale the data as shown in:\n",
            "    https://scikit-learn.org/stable/modules/preprocessing.html\n",
            "Please also refer to the documentation for alternative solver options:\n",
            "    https://scikit-learn.org/stable/modules/linear_model.html#logistic-regression\n",
            "  extra_warning_msg=_LOGISTIC_SOLVER_CONVERGENCE_MSG,\n",
            "/usr/local/lib/python3.7/dist-packages/sklearn/linear_model/_logistic.py:818: ConvergenceWarning: lbfgs failed to converge (status=1):\n",
            "STOP: TOTAL NO. of ITERATIONS REACHED LIMIT.\n",
            "\n",
            "Increase the number of iterations (max_iter) or scale the data as shown in:\n",
            "    https://scikit-learn.org/stable/modules/preprocessing.html\n",
            "Please also refer to the documentation for alternative solver options:\n",
            "    https://scikit-learn.org/stable/modules/linear_model.html#logistic-regression\n",
            "  extra_warning_msg=_LOGISTIC_SOLVER_CONVERGENCE_MSG,\n",
            "/usr/local/lib/python3.7/dist-packages/sklearn/linear_model/_logistic.py:818: ConvergenceWarning: lbfgs failed to converge (status=1):\n",
            "STOP: TOTAL NO. of ITERATIONS REACHED LIMIT.\n",
            "\n",
            "Increase the number of iterations (max_iter) or scale the data as shown in:\n",
            "    https://scikit-learn.org/stable/modules/preprocessing.html\n",
            "Please also refer to the documentation for alternative solver options:\n",
            "    https://scikit-learn.org/stable/modules/linear_model.html#logistic-regression\n",
            "  extra_warning_msg=_LOGISTIC_SOLVER_CONVERGENCE_MSG,\n",
            "/usr/local/lib/python3.7/dist-packages/sklearn/linear_model/_logistic.py:818: ConvergenceWarning: lbfgs failed to converge (status=1):\n",
            "STOP: TOTAL NO. of ITERATIONS REACHED LIMIT.\n",
            "\n",
            "Increase the number of iterations (max_iter) or scale the data as shown in:\n",
            "    https://scikit-learn.org/stable/modules/preprocessing.html\n",
            "Please also refer to the documentation for alternative solver options:\n",
            "    https://scikit-learn.org/stable/modules/linear_model.html#logistic-regression\n",
            "  extra_warning_msg=_LOGISTIC_SOLVER_CONVERGENCE_MSG,\n",
            "/usr/local/lib/python3.7/dist-packages/sklearn/linear_model/_logistic.py:818: ConvergenceWarning: lbfgs failed to converge (status=1):\n",
            "STOP: TOTAL NO. of ITERATIONS REACHED LIMIT.\n",
            "\n",
            "Increase the number of iterations (max_iter) or scale the data as shown in:\n",
            "    https://scikit-learn.org/stable/modules/preprocessing.html\n",
            "Please also refer to the documentation for alternative solver options:\n",
            "    https://scikit-learn.org/stable/modules/linear_model.html#logistic-regression\n",
            "  extra_warning_msg=_LOGISTIC_SOLVER_CONVERGENCE_MSG,\n",
            "/usr/local/lib/python3.7/dist-packages/sklearn/linear_model/_logistic.py:818: ConvergenceWarning: lbfgs failed to converge (status=1):\n",
            "STOP: TOTAL NO. of ITERATIONS REACHED LIMIT.\n",
            "\n",
            "Increase the number of iterations (max_iter) or scale the data as shown in:\n",
            "    https://scikit-learn.org/stable/modules/preprocessing.html\n",
            "Please also refer to the documentation for alternative solver options:\n",
            "    https://scikit-learn.org/stable/modules/linear_model.html#logistic-regression\n",
            "  extra_warning_msg=_LOGISTIC_SOLVER_CONVERGENCE_MSG,\n",
            "/usr/local/lib/python3.7/dist-packages/sklearn/linear_model/_logistic.py:818: ConvergenceWarning: lbfgs failed to converge (status=1):\n",
            "STOP: TOTAL NO. of ITERATIONS REACHED LIMIT.\n",
            "\n",
            "Increase the number of iterations (max_iter) or scale the data as shown in:\n",
            "    https://scikit-learn.org/stable/modules/preprocessing.html\n",
            "Please also refer to the documentation for alternative solver options:\n",
            "    https://scikit-learn.org/stable/modules/linear_model.html#logistic-regression\n",
            "  extra_warning_msg=_LOGISTIC_SOLVER_CONVERGENCE_MSG,\n",
            "/usr/local/lib/python3.7/dist-packages/sklearn/linear_model/_logistic.py:818: ConvergenceWarning: lbfgs failed to converge (status=1):\n",
            "STOP: TOTAL NO. of ITERATIONS REACHED LIMIT.\n",
            "\n",
            "Increase the number of iterations (max_iter) or scale the data as shown in:\n",
            "    https://scikit-learn.org/stable/modules/preprocessing.html\n",
            "Please also refer to the documentation for alternative solver options:\n",
            "    https://scikit-learn.org/stable/modules/linear_model.html#logistic-regression\n",
            "  extra_warning_msg=_LOGISTIC_SOLVER_CONVERGENCE_MSG,\n",
            "/usr/local/lib/python3.7/dist-packages/sklearn/linear_model/_logistic.py:818: ConvergenceWarning: lbfgs failed to converge (status=1):\n",
            "STOP: TOTAL NO. of ITERATIONS REACHED LIMIT.\n",
            "\n",
            "Increase the number of iterations (max_iter) or scale the data as shown in:\n",
            "    https://scikit-learn.org/stable/modules/preprocessing.html\n",
            "Please also refer to the documentation for alternative solver options:\n",
            "    https://scikit-learn.org/stable/modules/linear_model.html#logistic-regression\n",
            "  extra_warning_msg=_LOGISTIC_SOLVER_CONVERGENCE_MSG,\n"
          ]
        },
        {
          "output_type": "stream",
          "name": "stdout",
          "text": [
            "Mean Absolute Error: -0.233 (0.002)\n"
          ]
        },
        {
          "output_type": "stream",
          "name": "stderr",
          "text": [
            "/usr/local/lib/python3.7/dist-packages/sklearn/linear_model/_logistic.py:818: ConvergenceWarning: lbfgs failed to converge (status=1):\n",
            "STOP: TOTAL NO. of ITERATIONS REACHED LIMIT.\n",
            "\n",
            "Increase the number of iterations (max_iter) or scale the data as shown in:\n",
            "    https://scikit-learn.org/stable/modules/preprocessing.html\n",
            "Please also refer to the documentation for alternative solver options:\n",
            "    https://scikit-learn.org/stable/modules/linear_model.html#logistic-regression\n",
            "  extra_warning_msg=_LOGISTIC_SOLVER_CONVERGENCE_MSG,\n"
          ]
        }
      ],
      "source": [
        "results_MA_1 = cross_val_score(log_reg, X, y, cv=kfold, scoring='neg_mean_absolute_error')\n",
        "print(\"Mean Absolute Error: %.3f (%.3f)\" % (results_MA_1.mean(), results_MA_1.std()))"
      ],
      "id": "5863f77f"
    },
    {
      "cell_type": "markdown",
      "metadata": {
        "id": "e8995567"
      },
      "source": [
        "#### Mean Squared Error"
      ],
      "id": "e8995567"
    },
    {
      "cell_type": "code",
      "execution_count": null,
      "metadata": {
        "id": "08c42626",
        "scrolled": true,
        "colab": {
          "base_uri": "https://localhost:8080/"
        },
        "outputId": "e7889178-b978-49b0-eb62-0842cbdbf539"
      },
      "outputs": [
        {
          "output_type": "stream",
          "name": "stderr",
          "text": [
            "/usr/local/lib/python3.7/dist-packages/sklearn/linear_model/_logistic.py:818: ConvergenceWarning: lbfgs failed to converge (status=1):\n",
            "STOP: TOTAL NO. of ITERATIONS REACHED LIMIT.\n",
            "\n",
            "Increase the number of iterations (max_iter) or scale the data as shown in:\n",
            "    https://scikit-learn.org/stable/modules/preprocessing.html\n",
            "Please also refer to the documentation for alternative solver options:\n",
            "    https://scikit-learn.org/stable/modules/linear_model.html#logistic-regression\n",
            "  extra_warning_msg=_LOGISTIC_SOLVER_CONVERGENCE_MSG,\n",
            "/usr/local/lib/python3.7/dist-packages/sklearn/linear_model/_logistic.py:818: ConvergenceWarning: lbfgs failed to converge (status=1):\n",
            "STOP: TOTAL NO. of ITERATIONS REACHED LIMIT.\n",
            "\n",
            "Increase the number of iterations (max_iter) or scale the data as shown in:\n",
            "    https://scikit-learn.org/stable/modules/preprocessing.html\n",
            "Please also refer to the documentation for alternative solver options:\n",
            "    https://scikit-learn.org/stable/modules/linear_model.html#logistic-regression\n",
            "  extra_warning_msg=_LOGISTIC_SOLVER_CONVERGENCE_MSG,\n",
            "/usr/local/lib/python3.7/dist-packages/sklearn/linear_model/_logistic.py:818: ConvergenceWarning: lbfgs failed to converge (status=1):\n",
            "STOP: TOTAL NO. of ITERATIONS REACHED LIMIT.\n",
            "\n",
            "Increase the number of iterations (max_iter) or scale the data as shown in:\n",
            "    https://scikit-learn.org/stable/modules/preprocessing.html\n",
            "Please also refer to the documentation for alternative solver options:\n",
            "    https://scikit-learn.org/stable/modules/linear_model.html#logistic-regression\n",
            "  extra_warning_msg=_LOGISTIC_SOLVER_CONVERGENCE_MSG,\n",
            "/usr/local/lib/python3.7/dist-packages/sklearn/linear_model/_logistic.py:818: ConvergenceWarning: lbfgs failed to converge (status=1):\n",
            "STOP: TOTAL NO. of ITERATIONS REACHED LIMIT.\n",
            "\n",
            "Increase the number of iterations (max_iter) or scale the data as shown in:\n",
            "    https://scikit-learn.org/stable/modules/preprocessing.html\n",
            "Please also refer to the documentation for alternative solver options:\n",
            "    https://scikit-learn.org/stable/modules/linear_model.html#logistic-regression\n",
            "  extra_warning_msg=_LOGISTIC_SOLVER_CONVERGENCE_MSG,\n",
            "/usr/local/lib/python3.7/dist-packages/sklearn/linear_model/_logistic.py:818: ConvergenceWarning: lbfgs failed to converge (status=1):\n",
            "STOP: TOTAL NO. of ITERATIONS REACHED LIMIT.\n",
            "\n",
            "Increase the number of iterations (max_iter) or scale the data as shown in:\n",
            "    https://scikit-learn.org/stable/modules/preprocessing.html\n",
            "Please also refer to the documentation for alternative solver options:\n",
            "    https://scikit-learn.org/stable/modules/linear_model.html#logistic-regression\n",
            "  extra_warning_msg=_LOGISTIC_SOLVER_CONVERGENCE_MSG,\n",
            "/usr/local/lib/python3.7/dist-packages/sklearn/linear_model/_logistic.py:818: ConvergenceWarning: lbfgs failed to converge (status=1):\n",
            "STOP: TOTAL NO. of ITERATIONS REACHED LIMIT.\n",
            "\n",
            "Increase the number of iterations (max_iter) or scale the data as shown in:\n",
            "    https://scikit-learn.org/stable/modules/preprocessing.html\n",
            "Please also refer to the documentation for alternative solver options:\n",
            "    https://scikit-learn.org/stable/modules/linear_model.html#logistic-regression\n",
            "  extra_warning_msg=_LOGISTIC_SOLVER_CONVERGENCE_MSG,\n",
            "/usr/local/lib/python3.7/dist-packages/sklearn/linear_model/_logistic.py:818: ConvergenceWarning: lbfgs failed to converge (status=1):\n",
            "STOP: TOTAL NO. of ITERATIONS REACHED LIMIT.\n",
            "\n",
            "Increase the number of iterations (max_iter) or scale the data as shown in:\n",
            "    https://scikit-learn.org/stable/modules/preprocessing.html\n",
            "Please also refer to the documentation for alternative solver options:\n",
            "    https://scikit-learn.org/stable/modules/linear_model.html#logistic-regression\n",
            "  extra_warning_msg=_LOGISTIC_SOLVER_CONVERGENCE_MSG,\n",
            "/usr/local/lib/python3.7/dist-packages/sklearn/linear_model/_logistic.py:818: ConvergenceWarning: lbfgs failed to converge (status=1):\n",
            "STOP: TOTAL NO. of ITERATIONS REACHED LIMIT.\n",
            "\n",
            "Increase the number of iterations (max_iter) or scale the data as shown in:\n",
            "    https://scikit-learn.org/stable/modules/preprocessing.html\n",
            "Please also refer to the documentation for alternative solver options:\n",
            "    https://scikit-learn.org/stable/modules/linear_model.html#logistic-regression\n",
            "  extra_warning_msg=_LOGISTIC_SOLVER_CONVERGENCE_MSG,\n",
            "/usr/local/lib/python3.7/dist-packages/sklearn/linear_model/_logistic.py:818: ConvergenceWarning: lbfgs failed to converge (status=1):\n",
            "STOP: TOTAL NO. of ITERATIONS REACHED LIMIT.\n",
            "\n",
            "Increase the number of iterations (max_iter) or scale the data as shown in:\n",
            "    https://scikit-learn.org/stable/modules/preprocessing.html\n",
            "Please also refer to the documentation for alternative solver options:\n",
            "    https://scikit-learn.org/stable/modules/linear_model.html#logistic-regression\n",
            "  extra_warning_msg=_LOGISTIC_SOLVER_CONVERGENCE_MSG,\n"
          ]
        },
        {
          "output_type": "stream",
          "name": "stdout",
          "text": [
            "Mean Squared Error: -0.233 (0.002)\n"
          ]
        },
        {
          "output_type": "stream",
          "name": "stderr",
          "text": [
            "/usr/local/lib/python3.7/dist-packages/sklearn/linear_model/_logistic.py:818: ConvergenceWarning: lbfgs failed to converge (status=1):\n",
            "STOP: TOTAL NO. of ITERATIONS REACHED LIMIT.\n",
            "\n",
            "Increase the number of iterations (max_iter) or scale the data as shown in:\n",
            "    https://scikit-learn.org/stable/modules/preprocessing.html\n",
            "Please also refer to the documentation for alternative solver options:\n",
            "    https://scikit-learn.org/stable/modules/linear_model.html#logistic-regression\n",
            "  extra_warning_msg=_LOGISTIC_SOLVER_CONVERGENCE_MSG,\n"
          ]
        }
      ],
      "source": [
        "results_MS_1 = cross_val_score(log_reg, X, y, cv=kfold, scoring='neg_mean_squared_error')\n",
        "print(\"Mean Squared Error: %.3f (%.3f)\" % (results_MS_1.mean(), results_MS_1.std()))"
      ],
      "id": "08c42626"
    },
    {
      "cell_type": "markdown",
      "metadata": {
        "id": "89bd86cb"
      },
      "source": [
        "## Decision Tree Classifier"
      ],
      "id": "89bd86cb"
    },
    {
      "cell_type": "code",
      "execution_count": null,
      "metadata": {
        "id": "384d6ae7"
      },
      "outputs": [],
      "source": [
        "from sklearn.tree import DecisionTreeClassifier\n",
        "dtree=DecisionTreeClassifier()\n",
        "dtree.fit(X_train,y_train)"
      ],
      "id": "384d6ae7"
    },
    {
      "cell_type": "markdown",
      "metadata": {
        "id": "ad7ef7d8"
      },
      "source": [
        "### Evaluating Decision Tree"
      ],
      "id": "ad7ef7d8"
    },
    {
      "cell_type": "markdown",
      "metadata": {
        "id": "NDgHobyphdOE"
      },
      "source": [
        "#### Classification Report"
      ],
      "id": "NDgHobyphdOE"
    },
    {
      "cell_type": "code",
      "execution_count": null,
      "metadata": {
        "id": "5dde7b8c"
      },
      "outputs": [],
      "source": [
        "y_pred_dtree=dtree.predict(X_test)\n",
        "print(classification_report(y_test,y_pred_dtree))"
      ],
      "id": "5dde7b8c"
    },
    {
      "cell_type": "markdown",
      "metadata": {
        "id": "c6453ae2"
      },
      "source": [
        "#### Confusion Matrix"
      ],
      "id": "c6453ae2"
    },
    {
      "cell_type": "code",
      "execution_count": null,
      "metadata": {
        "id": "3f7dd7ce"
      },
      "outputs": [],
      "source": [
        "print('Confusion Matrix:', confusion_matrix(y_test,y_pred_dtree))\n",
        "print(\"Accuracy: %.3f%%\" % ((accuracy_score(y_pred_dtree, y_test))*100.0))"
      ],
      "id": "3f7dd7ce"
    },
    {
      "cell_type": "markdown",
      "metadata": {
        "id": "1bd5246c"
      },
      "source": [
        "### Performance Metrics - Cross Validation Evaluation metrics for regression:"
      ],
      "id": "1bd5246c"
    },
    {
      "cell_type": "markdown",
      "metadata": {
        "id": "d5e55c21"
      },
      "source": [
        "#### Mean Absolute Error"
      ],
      "id": "d5e55c21"
    },
    {
      "cell_type": "code",
      "execution_count": null,
      "metadata": {
        "id": "8984256d",
        "scrolled": true
      },
      "outputs": [],
      "source": [
        "results_MA_2 = cross_val_score(dtree, X, y, cv=kfold, scoring='neg_mean_absolute_error')\n",
        "print(\"Mean Absolute Error: %.3f (%.3f)\" % (results_MA_2.mean(), results_MA_2.std()))"
      ],
      "id": "8984256d"
    },
    {
      "cell_type": "markdown",
      "metadata": {
        "id": "072ba47f"
      },
      "source": [
        "#### Mean Squared Error"
      ],
      "id": "072ba47f"
    },
    {
      "cell_type": "code",
      "execution_count": null,
      "metadata": {
        "id": "420c38b9"
      },
      "outputs": [],
      "source": [
        "results_MS_2 = cross_val_score(dtree, X, y, cv=kfold, scoring='neg_mean_squared_error')\n",
        "print(\"Mean Squared Error: %.3f (%.3f)\" % (results_MS_2.mean(), results_MS_2.std()))"
      ],
      "id": "420c38b9"
    },
    {
      "cell_type": "markdown",
      "metadata": {
        "id": "18dd66a1"
      },
      "source": [
        "## Random Forest Classifier"
      ],
      "id": "18dd66a1"
    },
    {
      "cell_type": "code",
      "execution_count": null,
      "metadata": {
        "id": "3b974bd3"
      },
      "outputs": [],
      "source": [
        "from sklearn.ensemble import RandomForestClassifier\n",
        "rfc=RandomForestClassifier(n_estimators=600)\n",
        "rfc.fit(X_train,y_train)"
      ],
      "id": "3b974bd3"
    },
    {
      "cell_type": "markdown",
      "metadata": {
        "id": "805bb97a"
      },
      "source": [
        "### Evaluating Random Forest Classifier:"
      ],
      "id": "805bb97a"
    },
    {
      "cell_type": "code",
      "execution_count": null,
      "metadata": {
        "id": "2245284c"
      },
      "outputs": [],
      "source": [
        "y_pred_rfc=rfc.predict(X_test)\n",
        "from sklearn.metrics import classification_report,confusion_matrix\n",
        "print('Classification Report:\\n', classification_report(y_test,y_pred_rfc))\n",
        "print('\\n')\n",
        "print(\"Confusion matrix \\n\", confusion_matrix(y_test,y_pred_rfc))\n",
        "print(\"Score of Random Forest training Model:\",  rfc.score(X_train, y_train))\n",
        "print(\"Score of Random Forest testing Model:\",  rfc.score(X_test, y_test))\n",
        "print(\"Accuracy: %.3f%%\" % ((rfc.score(X_test, y_test))*100.0))"
      ],
      "id": "2245284c"
    },
    {
      "cell_type": "markdown",
      "metadata": {
        "id": "62c5cdde"
      },
      "source": [
        "### Performance Metrics - Cross Validation Evaluation metrics for regression:"
      ],
      "id": "62c5cdde"
    },
    {
      "cell_type": "markdown",
      "metadata": {
        "id": "49a8d363"
      },
      "source": [
        "#### Mean Absolute Error"
      ],
      "id": "49a8d363"
    },
    {
      "cell_type": "code",
      "execution_count": null,
      "metadata": {
        "id": "51f513ca"
      },
      "outputs": [],
      "source": [
        "results_MA_3 = cross_val_score(rfc, X, y, cv=kfold, scoring='neg_mean_absolute_error')\n",
        "print(\"Mean Absolute Error: %.3f (%.3f)\" % (results_MA_3.mean(), results_MA_3.std()))"
      ],
      "id": "51f513ca"
    },
    {
      "cell_type": "markdown",
      "metadata": {
        "id": "1d5fcd60"
      },
      "source": [
        "#### Mean Squared Error"
      ],
      "id": "1d5fcd60"
    },
    {
      "cell_type": "code",
      "execution_count": null,
      "metadata": {
        "id": "cc30988e"
      },
      "outputs": [],
      "source": [
        "results_MS_3 = cross_val_score(rfc, X, y, cv=kfold, scoring='neg_mean_squared_error')\n",
        "print(\"Mean Squared Error: %.3f (%.3f)\" % (results_MS_3.mean(), results_MS_3.std()))"
      ],
      "id": "cc30988e"
    },
    {
      "cell_type": "markdown",
      "metadata": {
        "id": "f758a5c7"
      },
      "source": [
        "## K- Nearest Neighbor Classification"
      ],
      "id": "f758a5c7"
    },
    {
      "cell_type": "code",
      "execution_count": null,
      "metadata": {
        "id": "e1481b6f"
      },
      "outputs": [],
      "source": [
        "from sklearn.preprocessing import StandardScaler\n",
        "from sklearn.neighbors import KNeighborsClassifier\n",
        "scaler = StandardScaler()\n",
        "scaler.fit(X_train)\n",
        "X_train = scaler.transform(X_train)\n",
        "X_test = scaler.transform(X_test)"
      ],
      "id": "e1481b6f"
    },
    {
      "cell_type": "markdown",
      "metadata": {
        "id": "iPZHOmJAygUg"
      },
      "source": [
        "### Trying Out N-Neighbors"
      ],
      "id": "iPZHOmJAygUg"
    },
    {
      "cell_type": "markdown",
      "metadata": {
        "id": "958e8253"
      },
      "source": [
        "#### Nearest Neighbor = 1"
      ],
      "id": "958e8253"
    },
    {
      "cell_type": "code",
      "execution_count": null,
      "metadata": {
        "id": "6d607fcc"
      },
      "outputs": [],
      "source": [
        "knn1 = KNeighborsClassifier(n_neighbors = 1)\n",
        "knn1.fit(X_train, y_train)"
      ],
      "id": "6d607fcc"
    },
    {
      "cell_type": "markdown",
      "metadata": {
        "id": "ef21be9d"
      },
      "source": [
        "#### Nearest Neighbor = 5"
      ],
      "id": "ef21be9d"
    },
    {
      "cell_type": "code",
      "execution_count": null,
      "metadata": {
        "id": "1a6e7916"
      },
      "outputs": [],
      "source": [
        "knn5 = KNeighborsClassifier(n_neighbors = 5)\n",
        "knn5.fit(X_train, y_train)"
      ],
      "id": "1a6e7916"
    },
    {
      "cell_type": "markdown",
      "metadata": {
        "id": "98304f90"
      },
      "source": [
        "#### Nearest Neighbor = 7"
      ],
      "id": "98304f90"
    },
    {
      "cell_type": "code",
      "execution_count": null,
      "metadata": {
        "id": "a32b1807"
      },
      "outputs": [],
      "source": [
        "knn7 = KNeighborsClassifier(n_neighbors = 7)\n",
        "knn7.fit(X_train, y_train)"
      ],
      "id": "a32b1807"
    },
    {
      "cell_type": "markdown",
      "metadata": {
        "id": "05e12b6e"
      },
      "source": [
        "#### Nearest Neighbor = 10"
      ],
      "id": "05e12b6e"
    },
    {
      "cell_type": "code",
      "execution_count": null,
      "metadata": {
        "id": "a607ae4d"
      },
      "outputs": [],
      "source": [
        "knn10 = KNeighborsClassifier(n_neighbors = 10)\n",
        "knn10.fit(X_train, y_train)"
      ],
      "id": "a607ae4d"
    },
    {
      "cell_type": "markdown",
      "metadata": {
        "id": "ho5Qmt8ytIeA"
      },
      "source": [
        "### Evaluation Metrics"
      ],
      "id": "ho5Qmt8ytIeA"
    },
    {
      "cell_type": "code",
      "execution_count": null,
      "metadata": {
        "id": "9aeed072"
      },
      "outputs": [],
      "source": [
        "print('KNN =1')\n",
        "print('Accuracy Score:', (knn1.score(X_test, y_test))*100)\n",
        "\n",
        "knn1_MA = cross_val_score(knn1, X, y, cv=kfold, scoring='neg_mean_absolute_error')\n",
        "print(\"Mean Absolute Error: %.3f (%.3f)\" % (knn1_MA.mean(),  knn1_MA.std()))\n",
        "\n",
        "knn1_MS = cross_val_score(knn1, X, y, cv=kfold, scoring='neg_mean_squared_error')\n",
        "print(\"Mean Squared Error: %.3f (%.3f)\" % (knn1_MS.mean(), knn1_MS.std()))\n",
        "\n",
        "knn1_r2 = cross_val_score(knn1, X, y, cv=kfold, scoring='r2')\n",
        "print(\"R- squared error: %.3f (%.3f)\" % (knn1_r2.mean(), knn1_r2.std()))"
      ],
      "id": "9aeed072"
    },
    {
      "cell_type": "code",
      "execution_count": null,
      "metadata": {
        "id": "08fe33ad"
      },
      "outputs": [],
      "source": [
        "print('KNN = 5')\n",
        "print('Accuracy Score:', (knn5.score(X_test, y_test))*100)\n",
        "knn5_MA = cross_val_score(knn5, X, y, cv=kfold, scoring='neg_mean_absolute_error')\n",
        "print(\"Mean Absolute Error: %.3f (%.3f)\" % (knn5_MA.mean(),  knn5_MA.std()))\n",
        "\n",
        "knn5_MS = cross_val_score(knn5, X, y, cv=kfold, scoring='neg_mean_squared_error')\n",
        "print(\"Mean Squared Error: %.3f (%.3f)\" % (knn5_MS.mean(), knn5_MS.std()))\n",
        "\n",
        "knn5_r2 = cross_val_score(knn5, X, y, cv=kfold, scoring='r2')\n",
        "print(\"R- squared error: %.3f (%.3f)\" % (knn5_r2.mean(), knn5_r2.std()))"
      ],
      "id": "08fe33ad"
    },
    {
      "cell_type": "code",
      "execution_count": null,
      "metadata": {
        "id": "BWOZ1zmAtZ6f"
      },
      "outputs": [],
      "source": [
        "print('KNN =7')\n",
        "print('Accuracy Score:', (knn7.score(X_test, y_test))*100)\n",
        "\n",
        "knn7_MA = cross_val_score(knn7, X, y, cv=kfold, scoring='neg_mean_absolute_error')\n",
        "print(\"Mean Absolute Error: %.3f (%.3f)\" % (knn7_MA.mean(),  knn7_MA.std()))\n",
        "\n",
        "knn7_MS = cross_val_score(knn7, X, y, cv=kfold, scoring='neg_mean_squared_error')\n",
        "print(\"Mean Squared Error: %.3f (%.3f)\" % (knn7_MS.mean(), knn7_MS.std()))\n",
        "\n",
        "knn7_r2 = cross_val_score(knn7, X, y, cv=kfold, scoring='r2')\n",
        "print(\"R- squared error: %.3f (%.3f)\" % (knn7_r2.mean(), knn7_r2.std()))"
      ],
      "id": "BWOZ1zmAtZ6f"
    },
    {
      "cell_type": "code",
      "execution_count": null,
      "metadata": {
        "id": "nEThpWmhtZ3K"
      },
      "outputs": [],
      "source": [
        "print('KNN =10')\n",
        "print('Accuracy Score:', (knn10.score(X_test, y_test))*100)\n",
        "\n",
        "knn10_MA = cross_val_score(knn10, X, y, cv=kfold, scoring='neg_mean_absolute_error')\n",
        "print(\"Mean Absolute Error: %.3f (%.3f)\" % (knn10_MA.mean(),  knn10_MA.std()))\n",
        "\n",
        "knn10_MS = cross_val_score(knn10, X, y, cv=kfold, scoring='neg_mean_squared_error')\n",
        "print(\"Mean Squared Error: %.3f (%.3f)\" % (knn10_MS.mean(), knn10_MS.std()))\n",
        "\n",
        "knn10_r2 = cross_val_score(knn10, X, y, cv=kfold, scoring='r2')\n",
        "print(\"R- squared error: %.3f (%.3f)\" % (knn10_r2.mean(), knn10_r2.std()))"
      ],
      "id": "nEThpWmhtZ3K"
    },
    {
      "cell_type": "markdown",
      "metadata": {
        "id": "b909166e"
      },
      "source": [
        "## Gradient Boosting"
      ],
      "id": "b909166e"
    },
    {
      "cell_type": "code",
      "execution_count": null,
      "metadata": {
        "id": "7b9397de"
      },
      "outputs": [],
      "source": [
        "from sklearn.ensemble import GradientBoostingClassifier\n",
        "from sklearn.model_selection import GridSearchCV"
      ],
      "id": "7b9397de"
    },
    {
      "cell_type": "code",
      "execution_count": null,
      "metadata": {
        "id": "d8466cc9"
      },
      "outputs": [],
      "source": [
        "parameters = {\n",
        "   \"loss\":[\"deviance\"],\n",
        "    \"learning_rate\": [0.01, 0.025, 0.05, 0.075, 0.1, 0.15, 0.2],\n",
        "    \"min_samples_split\": np.linspace(0.1, 0.5, 12),\n",
        "    \"min_samples_leaf\": np.linspace(0.1, 0.5, 12),\n",
        "    \"max_depth\":[3,5,8,10],\n",
        "    \"max_features\":[\"log2\",\"sqrt\"],\n",
        "    \"criterion\": [\"friedman_mse\",  \"mae\"],\n",
        "    \"subsample\":[0.5, 0.618, 0.8, 0.85, 0.9, 0.95, 1.0],\n",
        "    \"n_estimators\":[10]\n",
        "    }\n",
        "gb_clf = GradientBoostingClassifier()"
      ],
      "id": "d8466cc9"
    },
    {
      "cell_type": "code",
      "execution_count": null,
      "metadata": {
        "id": "86e228b1"
      },
      "outputs": [],
      "source": [
        "gb_clf.fit(X_train, y_train)\n",
        "print(accuracy_score(gb_clf.predict(X_test), y_test))\n",
        "# print(gb_clf.best_params_)"
      ],
      "id": "86e228b1"
    },
    {
      "cell_type": "code",
      "execution_count": null,
      "metadata": {
        "id": "cf58e31b"
      },
      "outputs": [],
      "source": [
        "parameters = {\n",
        "    \"loss\":[\"deviance\"],\n",
        "    \"learning_rate\": [0.01],\n",
        "    \"min_samples_split\": [0.1],\n",
        "    \"min_samples_leaf\": [0.1],\n",
        "    \"max_depth\":[3],\n",
        "    \"max_features\":[\"log2\"],\n",
        "    \"criterion\": [\"friedman_mse\"],\n",
        "    \"subsample\":[0.5],\n",
        "    \"n_estimators\":[10]\n",
        "    }\n",
        "gb_clfb = GridSearchCV(GradientBoostingClassifier(), parameters, cv=10, n_jobs=-1,verbose=1)\n",
        "gb_clfb.fit(X_train, y_train)\n",
        "print(gb_clfb.score(X_train, y_train))"
      ],
      "id": "cf58e31b"
    },
    {
      "cell_type": "code",
      "execution_count": null,
      "metadata": {
        "id": "237c4f6f"
      },
      "outputs": [],
      "source": [
        "# Predictions:\n",
        "y_pred_gb=gb_clfb.predict(X_test)"
      ],
      "id": "237c4f6f"
    },
    {
      "cell_type": "markdown",
      "metadata": {
        "id": "037cf72e"
      },
      "source": [
        "### Evaluating Gradient Boosting Model:"
      ],
      "id": "037cf72e"
    },
    {
      "cell_type": "code",
      "execution_count": null,
      "metadata": {
        "id": "469e78cd"
      },
      "outputs": [],
      "source": [
        "# For better visualisation:\n",
        "pd.crosstab(y_test, y_pred_gb, rownames=['Actual'], colnames=['Predicted'], margins=True)"
      ],
      "id": "469e78cd"
    },
    {
      "cell_type": "code",
      "execution_count": null,
      "metadata": {
        "id": "ij7FhQdsuctn"
      },
      "outputs": [],
      "source": [
        "print('Accuracy Score:', (accuracy_score(y_pred_gb, y_test))*100)\n",
        "\n",
        "print('Classification Report:\\n', classification_report(y_test,y_pred_gb))\n",
        "print('Confusion Matrix:\\n', confusion_matrix(y_pred_gb, y_test))\n",
        "\n",
        "GB_MA = cross_val_score(gb_clfb, X, y, cv=kfold, scoring='neg_mean_absolute_error')\n",
        "print(\"Mean Absolute Error: %.3f (%.3f)\" % (GB_MA.mean(),  GB_MA.std()))\n",
        "\n",
        "GB_MS = cross_val_score(gb_clfb, X, y, cv=kfold, scoring='neg_mean_squared_error')\n",
        "print(\"Mean Squared Error: %.3f (%.3f)\" % (GB_MS.mean(), GB_MS.std()))\n",
        "\n",
        "GB_r2 = cross_val_score(gb_clfb, X, y, cv=kfold, scoring='r2')\n",
        "print(\"R- squared error: %.3f (%.3f)\" % (GB_r2.mean(), GB_r2.std()))"
      ],
      "id": "ij7FhQdsuctn"
    }
  ],
  "metadata": {
    "colab": {
      "collapsed_sections": [
        "992ab99e",
        "377bd89a",
        "45a161d1",
        "89bd86cb",
        "NDgHobyphdOE",
        "18dd66a1"
      ],
      "name": "Prediction using Machine Learning_NPA",
      "provenance": []
    },
    "kernelspec": {
      "display_name": "Python 3",
      "language": "python",
      "name": "python3"
    },
    "language_info": {
      "codemirror_mode": {
        "name": "ipython",
        "version": 3
      },
      "file_extension": ".py",
      "mimetype": "text/x-python",
      "name": "python",
      "nbconvert_exporter": "python",
      "pygments_lexer": "ipython3",
      "version": "3.8.8"
    }
  },
  "nbformat": 4,
  "nbformat_minor": 5
}